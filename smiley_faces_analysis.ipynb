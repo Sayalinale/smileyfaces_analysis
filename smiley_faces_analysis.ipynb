{
 "cells": [
  {
   "cell_type": "markdown",
   "id": "b7db19c2",
   "metadata": {},
   "source": [
    "# Part 1"
   ]
  },
  {
   "cell_type": "markdown",
   "id": "ef60a5a2",
   "metadata": {},
   "source": [
    "# Data Analysis and Bayes Nets"
   ]
  },
  {
   "cell_type": "markdown",
   "id": "7e6d9d90",
   "metadata": {},
   "source": [
    "The first step is data exploration and visulization. The objective of this step is to analyze the Smiley faces Dataset by exploring it and extracting various statistical characteristics. Since the dataset comprises images, the primary focus here is on visually exploring the different types of faces it contains."
   ]
  },
  {
   "cell_type": "markdown",
   "id": "ad56558b",
   "metadata": {},
   "source": [
    "The code begins by setting up the required libraries, these libraries provide a powerful set of tools and functionalities for data analysis, data preprocessing, and visualization tasks. and then proceeds to load data files serialized with NumPy, which are located at the local directory.\n"
   ]
  },
  {
   "cell_type": "code",
   "execution_count": 54,
   "id": "082c3078",
   "metadata": {},
   "outputs": [
    {
     "name": "stdout",
     "output_type": "stream",
     "text": [
      "Shape of smiley images: (204, 9, 9, 1)\n",
      "Shape of smiley labels: (204,)\n",
      "Shape of noisy images: (204, 9, 9, 1)\n",
      "Shape of noisy labels: (204,)\n"
     ]
    }
   ],
   "source": [
    "import numpy as np\n",
    "import pandas as pd\n",
    "import matplotlib.pyplot as plt\n",
    "import seaborn as sns\n",
    "import random\n",
    "from sklearn.ensemble import IsolationForest \n",
    "from sklearn.model_selection import train_test_split,GridSearchCV\n",
    "from sklearn.metrics import classification_report,confusion_matrix\n",
    "from sklearn.naive_bayes import MultinomialNB\n",
    "from sklearn.metrics import roc_auc_score\n",
    "from sklearn.preprocessing import label_binarize\n",
    "from sklearn.cluster import KMeans\n",
    "from sklearn.decomposition import PCA\n",
    "from sklearn.mixture import GaussianMixture\n",
    "from sklearn.metrics import accuracy_score\n",
    "from sklearn.cluster import DBSCAN\n",
    "from sklearn.naive_bayes import GaussianNB\n",
    "from sklearn.metrics import precision_score, recall_score, f1_score\n",
    "from sklearn.cluster import AgglomerativeClustering\n",
    "from scipy.cluster.hierarchy import linkage, fcluster\n",
    "from sklearn import preprocessing\n",
    "from sklearn.metrics import silhouette_score, davies_bouldin_score\n",
    "from sklearn.metrics.pairwise import cosine_similarity\n",
    "from sklearn.model_selection import cross_val_score\n",
    "from sklearn.tree import DecisionTreeClassifier\n",
    "from sklearn.ensemble import RandomForestClassifier\n",
    "from sklearn.linear_model import LogisticRegression\n",
    "from keras.models import Sequential\n",
    "from keras.optimizers import SGD\n",
    "from keras.layers import Conv2D, MaxPooling2D, Flatten, Dense\n",
    "from keras.utils import to_categorical\n",
    "import tensorflow as tf\n",
    "from tensorflow.keras import layers, models\n",
    "\n",
    "\n",
    "\n",
    "\n",
    "#Data Loading\n",
    "Smiley_images = np.load(\"D:\\Sayali\\Semester I\\DMML\\Resit_task\\smiley_X.npy\")\n",
    "Smiley_labels = np.load(\"D:\\Sayali\\Semester I\\DMML\\Resit_task\\smiley_Y.npy\")\n",
    "\n",
    "Noisy_images = np.load(\"D:\\Sayali\\Semester I\\DMML\\Resit_task\\smiley_noisy_X.npy\")\n",
    "Noisy_labels = np.load(\"D:\\Sayali\\Semester I\\DMML\\Resit_task\\smiley_noisy_Y.npy\")\n",
    "\n",
    "#prints the shapes of the loaded data arrays\n",
    "print(\"Shape of smiley images:\", Smiley_images.shape)\n",
    "print(\"Shape of smiley labels:\", Smiley_labels.shape)\n",
    "print(\"Shape of noisy images:\", Noisy_images.shape)\n",
    "print(\"Shape of noisy labels:\", Noisy_labels.shape)"
   ]
  },
  {
   "cell_type": "markdown",
   "id": "b6ea2a1c",
   "metadata": {},
   "source": [
    "To got to know the labels for the both images smiley and noisy. I have printed out the unique values for both image dataset."
   ]
  },
  {
   "cell_type": "code",
   "execution_count": 9,
   "id": "14a1b638",
   "metadata": {},
   "outputs": [
    {
     "name": "stdout",
     "output_type": "stream",
     "text": [
      "Unique labels for smiley data : [0. 1. 2.]\n",
      "Unique labels for noisy data: [0. 1. 2.]\n"
     ]
    }
   ],
   "source": [
    "#print unique values for the image labels  \n",
    "print(\"Unique labels for smiley data :\", np.unique(Smiley_labels))\n",
    "print(\"Unique labels for noisy data:\", np.unique(Noisy_labels))"
   ]
  },
  {
   "cell_type": "markdown",
   "id": "c29b8779",
   "metadata": {},
   "source": [
    "As we can see both smiley data and the noisy data contains labels \"0\",\"1\" and \"2\"."
   ]
  },
  {
   "cell_type": "markdown",
   "id": "b3a3bbaf",
   "metadata": {},
   "source": [
    "Conversion into pandas dataframe:  \n",
    "\n",
    "Converting arrays into pandas DataFrames is helpful because it helps organize data in a structured manner. It also provides powerful tools for analyzing and manipulating data, making tasks like calculating statistics or transforming the data easier. Additionally, pandas DataFrames work well with other popular Python libraries used in data analysis, allowing for seamless integration and access to a wide range of additional functionalities."
   ]
  },
  {
   "cell_type": "code",
   "execution_count": 10,
   "id": "2cd470b9",
   "metadata": {},
   "outputs": [
    {
     "name": "stdout",
     "output_type": "stream",
     "text": [
      "Shape of smiley X: (204, 81)\n",
      "Shape of smiley (label) : (204, 1)\n",
      "Shape of noisy X: (204, 81)\n",
      "Shape of noisy (label) : (204, 1)\n"
     ]
    }
   ],
   "source": [
    "# Reshape the numpy arrays\n",
    "smiley_images_2d = Smiley_images.reshape(Smiley_images.shape[0], -1)\n",
    "smiley_labels_2d = Smiley_labels.reshape(Smiley_labels.shape[0], -1)\n",
    "noisy_images_2d = Noisy_images.reshape(Noisy_images.shape[0], -1)\n",
    "noisy_labels_2d = Noisy_labels.reshape(Noisy_labels.shape[0], -1)\n",
    "\n",
    "# Convert to pandas DataFrames\n",
    "smiley_images_df = pd.DataFrame(smiley_images_2d)\n",
    "smiley_labels_df = pd.DataFrame(smiley_labels_2d)\n",
    "noisy_images_df = pd.DataFrame(noisy_images_2d)\n",
    "noisy_labels_df = pd.DataFrame(noisy_labels_2d)\n",
    "\n",
    "#Shape of the dataframe\n",
    "print(\"Shape of smiley X:\", smiley_images_df.shape)\n",
    "print(\"Shape of smiley (label) :\", smiley_labels_df.shape)\n",
    "print(\"Shape of noisy X:\", noisy_images_df.shape)\n",
    "print(\"Shape of noisy (label) :\", noisy_labels_df.shape)"
   ]
  },
  {
   "cell_type": "markdown",
   "id": "9d4c4cf9",
   "metadata": {},
   "source": [
    "# Data Displaying"
   ]
  },
  {
   "cell_type": "markdown",
   "id": "fa18448c",
   "metadata": {},
   "source": [
    "Now we will view the data by using pandas function such as head, tail"
   ]
  },
  {
   "cell_type": "code",
   "execution_count": 11,
   "id": "9bf54fba",
   "metadata": {},
   "outputs": [
    {
     "data": {
      "text/html": [
       "<div>\n",
       "<style scoped>\n",
       "    .dataframe tbody tr th:only-of-type {\n",
       "        vertical-align: middle;\n",
       "    }\n",
       "\n",
       "    .dataframe tbody tr th {\n",
       "        vertical-align: top;\n",
       "    }\n",
       "\n",
       "    .dataframe thead th {\n",
       "        text-align: right;\n",
       "    }\n",
       "</style>\n",
       "<table border=\"1\" class=\"dataframe\">\n",
       "  <thead>\n",
       "    <tr style=\"text-align: right;\">\n",
       "      <th></th>\n",
       "      <th>0</th>\n",
       "      <th>1</th>\n",
       "      <th>2</th>\n",
       "      <th>3</th>\n",
       "      <th>4</th>\n",
       "      <th>5</th>\n",
       "      <th>6</th>\n",
       "      <th>7</th>\n",
       "      <th>8</th>\n",
       "      <th>9</th>\n",
       "      <th>...</th>\n",
       "      <th>71</th>\n",
       "      <th>72</th>\n",
       "      <th>73</th>\n",
       "      <th>74</th>\n",
       "      <th>75</th>\n",
       "      <th>76</th>\n",
       "      <th>77</th>\n",
       "      <th>78</th>\n",
       "      <th>79</th>\n",
       "      <th>80</th>\n",
       "    </tr>\n",
       "  </thead>\n",
       "  <tbody>\n",
       "    <tr>\n",
       "      <th>0</th>\n",
       "      <td>0.0</td>\n",
       "      <td>0.0</td>\n",
       "      <td>0.0</td>\n",
       "      <td>0.0</td>\n",
       "      <td>0.0</td>\n",
       "      <td>0.0</td>\n",
       "      <td>0.0</td>\n",
       "      <td>0.0</td>\n",
       "      <td>0.0</td>\n",
       "      <td>0.0</td>\n",
       "      <td>...</td>\n",
       "      <td>0.0</td>\n",
       "      <td>0.0</td>\n",
       "      <td>0.0</td>\n",
       "      <td>0.0</td>\n",
       "      <td>0.0</td>\n",
       "      <td>0.0</td>\n",
       "      <td>0.0</td>\n",
       "      <td>0.0</td>\n",
       "      <td>0.0</td>\n",
       "      <td>0.0</td>\n",
       "    </tr>\n",
       "    <tr>\n",
       "      <th>1</th>\n",
       "      <td>0.0</td>\n",
       "      <td>0.0</td>\n",
       "      <td>0.0</td>\n",
       "      <td>0.0</td>\n",
       "      <td>0.0</td>\n",
       "      <td>0.0</td>\n",
       "      <td>0.0</td>\n",
       "      <td>0.0</td>\n",
       "      <td>0.0</td>\n",
       "      <td>0.0</td>\n",
       "      <td>...</td>\n",
       "      <td>0.0</td>\n",
       "      <td>0.0</td>\n",
       "      <td>0.0</td>\n",
       "      <td>0.0</td>\n",
       "      <td>0.0</td>\n",
       "      <td>0.0</td>\n",
       "      <td>0.0</td>\n",
       "      <td>0.0</td>\n",
       "      <td>0.0</td>\n",
       "      <td>0.0</td>\n",
       "    </tr>\n",
       "    <tr>\n",
       "      <th>2</th>\n",
       "      <td>0.0</td>\n",
       "      <td>0.0</td>\n",
       "      <td>0.0</td>\n",
       "      <td>0.0</td>\n",
       "      <td>0.0</td>\n",
       "      <td>0.0</td>\n",
       "      <td>0.0</td>\n",
       "      <td>0.0</td>\n",
       "      <td>0.0</td>\n",
       "      <td>0.0</td>\n",
       "      <td>...</td>\n",
       "      <td>0.0</td>\n",
       "      <td>0.0</td>\n",
       "      <td>0.0</td>\n",
       "      <td>0.0</td>\n",
       "      <td>0.0</td>\n",
       "      <td>0.0</td>\n",
       "      <td>0.0</td>\n",
       "      <td>0.0</td>\n",
       "      <td>0.0</td>\n",
       "      <td>0.0</td>\n",
       "    </tr>\n",
       "    <tr>\n",
       "      <th>3</th>\n",
       "      <td>0.0</td>\n",
       "      <td>0.0</td>\n",
       "      <td>0.0</td>\n",
       "      <td>0.0</td>\n",
       "      <td>0.0</td>\n",
       "      <td>0.0</td>\n",
       "      <td>0.0</td>\n",
       "      <td>0.0</td>\n",
       "      <td>0.0</td>\n",
       "      <td>0.0</td>\n",
       "      <td>...</td>\n",
       "      <td>0.0</td>\n",
       "      <td>0.0</td>\n",
       "      <td>0.0</td>\n",
       "      <td>0.0</td>\n",
       "      <td>0.0</td>\n",
       "      <td>0.0</td>\n",
       "      <td>0.0</td>\n",
       "      <td>0.0</td>\n",
       "      <td>0.0</td>\n",
       "      <td>0.0</td>\n",
       "    </tr>\n",
       "    <tr>\n",
       "      <th>4</th>\n",
       "      <td>0.0</td>\n",
       "      <td>0.0</td>\n",
       "      <td>0.0</td>\n",
       "      <td>0.0</td>\n",
       "      <td>0.0</td>\n",
       "      <td>0.0</td>\n",
       "      <td>0.0</td>\n",
       "      <td>0.0</td>\n",
       "      <td>0.0</td>\n",
       "      <td>0.0</td>\n",
       "      <td>...</td>\n",
       "      <td>0.0</td>\n",
       "      <td>0.0</td>\n",
       "      <td>0.0</td>\n",
       "      <td>0.0</td>\n",
       "      <td>0.0</td>\n",
       "      <td>0.0</td>\n",
       "      <td>0.0</td>\n",
       "      <td>0.0</td>\n",
       "      <td>0.0</td>\n",
       "      <td>0.0</td>\n",
       "    </tr>\n",
       "  </tbody>\n",
       "</table>\n",
       "<p>5 rows × 81 columns</p>\n",
       "</div>"
      ],
      "text/plain": [
       "    0    1    2    3    4    5    6    7    8    9   ...   71   72   73   74  \\\n",
       "0  0.0  0.0  0.0  0.0  0.0  0.0  0.0  0.0  0.0  0.0  ...  0.0  0.0  0.0  0.0   \n",
       "1  0.0  0.0  0.0  0.0  0.0  0.0  0.0  0.0  0.0  0.0  ...  0.0  0.0  0.0  0.0   \n",
       "2  0.0  0.0  0.0  0.0  0.0  0.0  0.0  0.0  0.0  0.0  ...  0.0  0.0  0.0  0.0   \n",
       "3  0.0  0.0  0.0  0.0  0.0  0.0  0.0  0.0  0.0  0.0  ...  0.0  0.0  0.0  0.0   \n",
       "4  0.0  0.0  0.0  0.0  0.0  0.0  0.0  0.0  0.0  0.0  ...  0.0  0.0  0.0  0.0   \n",
       "\n",
       "    75   76   77   78   79   80  \n",
       "0  0.0  0.0  0.0  0.0  0.0  0.0  \n",
       "1  0.0  0.0  0.0  0.0  0.0  0.0  \n",
       "2  0.0  0.0  0.0  0.0  0.0  0.0  \n",
       "3  0.0  0.0  0.0  0.0  0.0  0.0  \n",
       "4  0.0  0.0  0.0  0.0  0.0  0.0  \n",
       "\n",
       "[5 rows x 81 columns]"
      ]
     },
     "execution_count": 11,
     "metadata": {},
     "output_type": "execute_result"
    }
   ],
   "source": [
    "smiley_images_df.head()"
   ]
  },
  {
   "cell_type": "code",
   "execution_count": 12,
   "id": "43c3372e",
   "metadata": {
    "scrolled": true
   },
   "outputs": [
    {
     "data": {
      "text/html": [
       "<div>\n",
       "<style scoped>\n",
       "    .dataframe tbody tr th:only-of-type {\n",
       "        vertical-align: middle;\n",
       "    }\n",
       "\n",
       "    .dataframe tbody tr th {\n",
       "        vertical-align: top;\n",
       "    }\n",
       "\n",
       "    .dataframe thead th {\n",
       "        text-align: right;\n",
       "    }\n",
       "</style>\n",
       "<table border=\"1\" class=\"dataframe\">\n",
       "  <thead>\n",
       "    <tr style=\"text-align: right;\">\n",
       "      <th></th>\n",
       "      <th>0</th>\n",
       "    </tr>\n",
       "  </thead>\n",
       "  <tbody>\n",
       "    <tr>\n",
       "      <th>0</th>\n",
       "      <td>2.0</td>\n",
       "    </tr>\n",
       "    <tr>\n",
       "      <th>1</th>\n",
       "      <td>2.0</td>\n",
       "    </tr>\n",
       "    <tr>\n",
       "      <th>2</th>\n",
       "      <td>2.0</td>\n",
       "    </tr>\n",
       "    <tr>\n",
       "      <th>3</th>\n",
       "      <td>2.0</td>\n",
       "    </tr>\n",
       "    <tr>\n",
       "      <th>4</th>\n",
       "      <td>2.0</td>\n",
       "    </tr>\n",
       "    <tr>\n",
       "      <th>...</th>\n",
       "      <td>...</td>\n",
       "    </tr>\n",
       "    <tr>\n",
       "      <th>199</th>\n",
       "      <td>0.0</td>\n",
       "    </tr>\n",
       "    <tr>\n",
       "      <th>200</th>\n",
       "      <td>0.0</td>\n",
       "    </tr>\n",
       "    <tr>\n",
       "      <th>201</th>\n",
       "      <td>0.0</td>\n",
       "    </tr>\n",
       "    <tr>\n",
       "      <th>202</th>\n",
       "      <td>0.0</td>\n",
       "    </tr>\n",
       "    <tr>\n",
       "      <th>203</th>\n",
       "      <td>0.0</td>\n",
       "    </tr>\n",
       "  </tbody>\n",
       "</table>\n",
       "<p>204 rows × 1 columns</p>\n",
       "</div>"
      ],
      "text/plain": [
       "       0\n",
       "0    2.0\n",
       "1    2.0\n",
       "2    2.0\n",
       "3    2.0\n",
       "4    2.0\n",
       "..   ...\n",
       "199  0.0\n",
       "200  0.0\n",
       "201  0.0\n",
       "202  0.0\n",
       "203  0.0\n",
       "\n",
       "[204 rows x 1 columns]"
      ]
     },
     "execution_count": 12,
     "metadata": {},
     "output_type": "execute_result"
    }
   ],
   "source": [
    "smiley_labels_df"
   ]
  },
  {
   "cell_type": "code",
   "execution_count": 13,
   "id": "18ccdc59",
   "metadata": {},
   "outputs": [
    {
     "data": {
      "text/html": [
       "<div>\n",
       "<style scoped>\n",
       "    .dataframe tbody tr th:only-of-type {\n",
       "        vertical-align: middle;\n",
       "    }\n",
       "\n",
       "    .dataframe tbody tr th {\n",
       "        vertical-align: top;\n",
       "    }\n",
       "\n",
       "    .dataframe thead th {\n",
       "        text-align: right;\n",
       "    }\n",
       "</style>\n",
       "<table border=\"1\" class=\"dataframe\">\n",
       "  <thead>\n",
       "    <tr style=\"text-align: right;\">\n",
       "      <th></th>\n",
       "      <th>0</th>\n",
       "      <th>1</th>\n",
       "      <th>2</th>\n",
       "      <th>3</th>\n",
       "      <th>4</th>\n",
       "      <th>5</th>\n",
       "      <th>6</th>\n",
       "      <th>7</th>\n",
       "      <th>8</th>\n",
       "      <th>9</th>\n",
       "      <th>...</th>\n",
       "      <th>71</th>\n",
       "      <th>72</th>\n",
       "      <th>73</th>\n",
       "      <th>74</th>\n",
       "      <th>75</th>\n",
       "      <th>76</th>\n",
       "      <th>77</th>\n",
       "      <th>78</th>\n",
       "      <th>79</th>\n",
       "      <th>80</th>\n",
       "    </tr>\n",
       "  </thead>\n",
       "  <tbody>\n",
       "    <tr>\n",
       "      <th>0</th>\n",
       "      <td>0.0</td>\n",
       "      <td>0.0</td>\n",
       "      <td>0.0</td>\n",
       "      <td>0.0</td>\n",
       "      <td>0.0</td>\n",
       "      <td>0.0</td>\n",
       "      <td>0.0</td>\n",
       "      <td>0.0</td>\n",
       "      <td>0.0</td>\n",
       "      <td>0.0</td>\n",
       "      <td>...</td>\n",
       "      <td>0.0</td>\n",
       "      <td>0.0</td>\n",
       "      <td>0.0</td>\n",
       "      <td>0.0</td>\n",
       "      <td>0.0</td>\n",
       "      <td>0.0</td>\n",
       "      <td>0.0</td>\n",
       "      <td>0.0</td>\n",
       "      <td>0.0</td>\n",
       "      <td>0.0</td>\n",
       "    </tr>\n",
       "    <tr>\n",
       "      <th>1</th>\n",
       "      <td>0.0</td>\n",
       "      <td>0.0</td>\n",
       "      <td>0.0</td>\n",
       "      <td>0.0</td>\n",
       "      <td>0.0</td>\n",
       "      <td>0.0</td>\n",
       "      <td>0.0</td>\n",
       "      <td>0.0</td>\n",
       "      <td>0.0</td>\n",
       "      <td>0.0</td>\n",
       "      <td>...</td>\n",
       "      <td>0.0</td>\n",
       "      <td>0.0</td>\n",
       "      <td>0.0</td>\n",
       "      <td>0.0</td>\n",
       "      <td>0.0</td>\n",
       "      <td>0.0</td>\n",
       "      <td>0.0</td>\n",
       "      <td>0.0</td>\n",
       "      <td>0.0</td>\n",
       "      <td>0.0</td>\n",
       "    </tr>\n",
       "    <tr>\n",
       "      <th>2</th>\n",
       "      <td>0.0</td>\n",
       "      <td>0.0</td>\n",
       "      <td>0.0</td>\n",
       "      <td>0.0</td>\n",
       "      <td>0.0</td>\n",
       "      <td>0.0</td>\n",
       "      <td>0.0</td>\n",
       "      <td>0.0</td>\n",
       "      <td>0.0</td>\n",
       "      <td>0.0</td>\n",
       "      <td>...</td>\n",
       "      <td>0.0</td>\n",
       "      <td>0.0</td>\n",
       "      <td>0.0</td>\n",
       "      <td>0.0</td>\n",
       "      <td>0.0</td>\n",
       "      <td>0.0</td>\n",
       "      <td>0.0</td>\n",
       "      <td>0.0</td>\n",
       "      <td>0.0</td>\n",
       "      <td>0.0</td>\n",
       "    </tr>\n",
       "    <tr>\n",
       "      <th>3</th>\n",
       "      <td>0.0</td>\n",
       "      <td>0.0</td>\n",
       "      <td>0.0</td>\n",
       "      <td>0.0</td>\n",
       "      <td>0.0</td>\n",
       "      <td>0.0</td>\n",
       "      <td>0.0</td>\n",
       "      <td>0.0</td>\n",
       "      <td>0.0</td>\n",
       "      <td>0.0</td>\n",
       "      <td>...</td>\n",
       "      <td>0.0</td>\n",
       "      <td>0.0</td>\n",
       "      <td>0.0</td>\n",
       "      <td>0.0</td>\n",
       "      <td>0.0</td>\n",
       "      <td>0.0</td>\n",
       "      <td>0.0</td>\n",
       "      <td>0.0</td>\n",
       "      <td>0.0</td>\n",
       "      <td>0.0</td>\n",
       "    </tr>\n",
       "    <tr>\n",
       "      <th>4</th>\n",
       "      <td>0.0</td>\n",
       "      <td>0.0</td>\n",
       "      <td>0.0</td>\n",
       "      <td>0.0</td>\n",
       "      <td>0.0</td>\n",
       "      <td>0.0</td>\n",
       "      <td>0.0</td>\n",
       "      <td>0.0</td>\n",
       "      <td>0.0</td>\n",
       "      <td>0.0</td>\n",
       "      <td>...</td>\n",
       "      <td>0.0</td>\n",
       "      <td>0.0</td>\n",
       "      <td>0.0</td>\n",
       "      <td>0.0</td>\n",
       "      <td>0.0</td>\n",
       "      <td>0.0</td>\n",
       "      <td>0.0</td>\n",
       "      <td>0.0</td>\n",
       "      <td>0.0</td>\n",
       "      <td>0.0</td>\n",
       "    </tr>\n",
       "  </tbody>\n",
       "</table>\n",
       "<p>5 rows × 81 columns</p>\n",
       "</div>"
      ],
      "text/plain": [
       "    0    1    2    3    4    5    6    7    8    9   ...   71   72   73   74  \\\n",
       "0  0.0  0.0  0.0  0.0  0.0  0.0  0.0  0.0  0.0  0.0  ...  0.0  0.0  0.0  0.0   \n",
       "1  0.0  0.0  0.0  0.0  0.0  0.0  0.0  0.0  0.0  0.0  ...  0.0  0.0  0.0  0.0   \n",
       "2  0.0  0.0  0.0  0.0  0.0  0.0  0.0  0.0  0.0  0.0  ...  0.0  0.0  0.0  0.0   \n",
       "3  0.0  0.0  0.0  0.0  0.0  0.0  0.0  0.0  0.0  0.0  ...  0.0  0.0  0.0  0.0   \n",
       "4  0.0  0.0  0.0  0.0  0.0  0.0  0.0  0.0  0.0  0.0  ...  0.0  0.0  0.0  0.0   \n",
       "\n",
       "    75   76   77   78   79   80  \n",
       "0  0.0  0.0  0.0  0.0  0.0  0.0  \n",
       "1  0.0  0.0  0.0  0.0  0.0  0.0  \n",
       "2  0.0  0.0  0.0  0.0  0.0  0.0  \n",
       "3  0.0  0.0  0.0  0.0  0.0  0.0  \n",
       "4  0.0  0.0  0.0  0.0  0.0  0.0  \n",
       "\n",
       "[5 rows x 81 columns]"
      ]
     },
     "execution_count": 13,
     "metadata": {},
     "output_type": "execute_result"
    }
   ],
   "source": [
    "noisy_images_df.head()"
   ]
  },
  {
   "cell_type": "code",
   "execution_count": 14,
   "id": "2226bf96",
   "metadata": {},
   "outputs": [
    {
     "data": {
      "text/html": [
       "<div>\n",
       "<style scoped>\n",
       "    .dataframe tbody tr th:only-of-type {\n",
       "        vertical-align: middle;\n",
       "    }\n",
       "\n",
       "    .dataframe tbody tr th {\n",
       "        vertical-align: top;\n",
       "    }\n",
       "\n",
       "    .dataframe thead th {\n",
       "        text-align: right;\n",
       "    }\n",
       "</style>\n",
       "<table border=\"1\" class=\"dataframe\">\n",
       "  <thead>\n",
       "    <tr style=\"text-align: right;\">\n",
       "      <th></th>\n",
       "      <th>0</th>\n",
       "    </tr>\n",
       "  </thead>\n",
       "  <tbody>\n",
       "    <tr>\n",
       "      <th>0</th>\n",
       "      <td>2.0</td>\n",
       "    </tr>\n",
       "    <tr>\n",
       "      <th>1</th>\n",
       "      <td>2.0</td>\n",
       "    </tr>\n",
       "    <tr>\n",
       "      <th>2</th>\n",
       "      <td>2.0</td>\n",
       "    </tr>\n",
       "    <tr>\n",
       "      <th>3</th>\n",
       "      <td>2.0</td>\n",
       "    </tr>\n",
       "    <tr>\n",
       "      <th>4</th>\n",
       "      <td>2.0</td>\n",
       "    </tr>\n",
       "  </tbody>\n",
       "</table>\n",
       "</div>"
      ],
      "text/plain": [
       "     0\n",
       "0  2.0\n",
       "1  2.0\n",
       "2  2.0\n",
       "3  2.0\n",
       "4  2.0"
      ]
     },
     "execution_count": 14,
     "metadata": {},
     "output_type": "execute_result"
    }
   ],
   "source": [
    "noisy_labels_df.head()"
   ]
  },
  {
   "cell_type": "markdown",
   "id": "e5788776",
   "metadata": {},
   "source": [
    "# Class Distribution\n",
    "The examination of  the class distribution and visualization of the relative frequencies of each category (happy, neutral, and sad)"
   ]
  },
  {
   "cell_type": "code",
   "execution_count": 62,
   "id": "505a437c",
   "metadata": {},
   "outputs": [
    {
     "name": "stdout",
     "output_type": "stream",
     "text": [
      "smiley_Y_df class counts:\n",
      "2.0    72\n",
      "0.0    72\n",
      "1.0    60\n",
      "Name: 0, dtype: int64\n"
     ]
    },
    {
     "data": {
      "image/png": "[encoded data removed]",
      "text/plain": [
       "<Figure size 800x600 with 1 Axes>"
      ]
     },
     "metadata": {},
     "output_type": "display_data"
    }
   ],
   "source": [
    "# Calculate the count for each class in smiley dataset\n",
    "smiley_Y_class_counts = smiley_labels_df[0].value_counts()\n",
    "\n",
    "# Print the count for each class in smiley dataset\n",
    "print(\"smiley_Y_df class counts:\")\n",
    "print(smiley_Y_class_counts)\n",
    "\n",
    "# Create a bar plot\n",
    "plt.figure(figsize=(8, 6))\n",
    "colors = ['blue', 'green', 'red'] \n",
    "smiley_Y_class_counts.plot(kind='bar', color=colors)\n",
    "plt.xlabel(\"Class\")\n",
    "plt.ylabel(\"Count\")\n",
    "plt.title(\"Class Counts in smiley data\")\n",
    "\n",
    "# Add count of labels to the bars\n",
    "for i, count in enumerate(smiley_Y_class_counts):\n",
    "    plt.text(i, count, str(count), ha='center', va='bottom')\n",
    "\n",
    "plt.show()"
   ]
  },
  {
   "cell_type": "markdown",
   "id": "b133b1de",
   "metadata": {},
   "source": [
    "Now we will see this in a proporation with the percentage with the use pie chart."
   ]
  },
  {
   "cell_type": "code",
   "execution_count": 63,
   "id": "063b8e7a",
   "metadata": {},
   "outputs": [
    {
     "data": {
      "image/png": "[encoded data removed]",
      "text/plain": [
       "<Figure size 800x600 with 1 Axes>"
      ]
     },
     "metadata": {},
     "output_type": "display_data"
    }
   ],
   "source": [
    "# Calculate the count for each class in smiley labels\n",
    "smiley_Y_class_counts = smiley_labels_df[0].value_counts()\n",
    "\n",
    "# Create a pie chart\n",
    "plt.figure(figsize=(8, 6))\n",
    "colors = ['blue', 'green', 'red']  \n",
    "smiley_Y_class_counts.plot(kind='pie', colors=colors, autopct='%1.1f%%')\n",
    "\n",
    "plt.axis('equal')  \n",
    "plt.title(\"Proportion of Each Class in smiley data\")\n",
    "plt.legend(labels=smiley_Y_class_counts.index, loc='best')  \n",
    "\n",
    "plt.show()"
   ]
  },
  {
   "cell_type": "markdown",
   "id": "75381777",
   "metadata": {},
   "source": [
    "Same for the noisy Data"
   ]
  },
  {
   "cell_type": "code",
   "execution_count": 64,
   "id": "d636de18",
   "metadata": {},
   "outputs": [
    {
     "name": "stdout",
     "output_type": "stream",
     "text": [
      "noisy_labels_df class counts:\n",
      "2.0    72\n",
      "0.0    72\n",
      "1.0    60\n",
      "Name: 0, dtype: int64\n"
     ]
    },
    {
     "data": {
      "image/png": "[encoded data removed]",
      "text/plain": [
       "<Figure size 800x600 with 1 Axes>"
      ]
     },
     "metadata": {},
     "output_type": "display_data"
    }
   ],
   "source": [
    "# Calculate the count for each class in noisy data\n",
    "noisy_Y_df_counts = noisy_labels_df[0].value_counts()\n",
    "\n",
    "# Print the count for each class in noisy data\n",
    "print(\"noisy_labels_df class counts:\")\n",
    "print(noisy_Y_df_counts)\n",
    "\n",
    "# Create a bar plot\n",
    "plt.figure(figsize=(8, 6))\n",
    "colors = ['blue', 'green', 'red']  \n",
    "noisy_Y_df_counts.plot(kind='bar', color=colors)\n",
    "plt.xlabel(\"Class\")\n",
    "plt.ylabel(\"Count\")\n",
    "plt.title(\"Class Counts in noisy data\")\n",
    "\n",
    "# Add count of labels to the bars\n",
    "for i, count in enumerate(noisy_Y_df_counts):\n",
    "    plt.text(i, count, str(count), ha='center', va='bottom')\n",
    "\n",
    "plt.show()"
   ]
  },
  {
   "cell_type": "code",
   "execution_count": 65,
   "id": "bc38aa88",
   "metadata": {},
   "outputs": [
    {
     "data": {
      "image/png": "[encoded data removed]",
      "text/plain": [
       "<Figure size 800x600 with 1 Axes>"
      ]
     },
     "metadata": {},
     "output_type": "display_data"
    }
   ],
   "source": [
    "# Calculate the count for each class in noisy_labels_df\n",
    "noisy_Y_df_counts = noisy_labels_df[0].value_counts()\n",
    "\n",
    "# Create a pie chart\n",
    "plt.figure(figsize=(8, 6))\n",
    "colors = ['blue', 'green', 'red'] \n",
    "noisy_Y_df_counts.plot(kind='pie', colors=colors, autopct='%1.1f%%')\n",
    "\n",
    "plt.axis('equal')  # Equal aspect ratio ensures that pie is drawn as a circle\n",
    "plt.title(\"Proportion of Each Class in noisy data\")\n",
    "plt.legend(labels=noisy_Y_df_counts.index, loc='best')  # Add legend\n",
    "\n",
    "plt.show()"
   ]
  },
  {
   "cell_type": "markdown",
   "id": "c3163f62",
   "metadata": {},
   "source": [
    "# Sample Image \n",
    "Displayed a few sample images from each category to get a visual understanding of what the smiley faces look like in each class"
   ]
  },
  {
   "cell_type": "code",
   "execution_count": 19,
   "id": "32e00c71",
   "metadata": {},
   "outputs": [
    {
     "data": {
      "image/png": "[encoded data removed]",
      "text/plain": [
       "<Figure size 1200x600 with 12 Axes>"
      ]
     },
     "metadata": {},
     "output_type": "display_data"
    }
   ],
   "source": [
    "# print(Smiley_labels)\n",
    "# Define the number of sample images to display for each category\n",
    "num_samples = 4\n",
    "\n",
    "# Creates subplots to display the sample images\n",
    "fig, axes = plt.subplots(nrows=3, ncols=num_samples, figsize=(12, 6))\n",
    "\n",
    "# Iterate over each category and plot sample images\n",
    "for i, category in enumerate(np.unique(Smiley_labels)):\n",
    "    category_images = Smiley_images[Smiley_labels == category]\n",
    "    sample_images = category_images[:num_samples]\n",
    "\n",
    "    # Plot sample images in the corresponding subplot\n",
    "    for j, image in enumerate(sample_images):\n",
    "        axes[i, j].imshow(image.squeeze(), cmap='gray')\n",
    "        axes[i, j].axis('off')\n",
    "\n",
    "    # Set the category label as the title of the subplot\n",
    "    axes[i, 0].set_title(category)\n",
    "\n",
    "# Adjust the spacing between subplots\n",
    "plt.tight_layout()\n",
    "plt.show()\n"
   ]
  },
  {
   "cell_type": "markdown",
   "id": "dec0cfb8",
   "metadata": {},
   "source": [
    "Now Some sample images of each category from the noisy data"
   ]
  },
  {
   "cell_type": "code",
   "execution_count": 20,
   "id": "96500d5f",
   "metadata": {},
   "outputs": [
    {
     "data": {
      "image/png": "[encoded data removed]",
      "text/plain": [
       "<Figure size 1200x600 with 12 Axes>"
      ]
     },
     "metadata": {},
     "output_type": "display_data"
    }
   ],
   "source": [
    "# print(Noisy_labels)\n",
    "# Define the number of sample images to display for each category\n",
    "num_samples = 4\n",
    "\n",
    "# Creates subplots to display the sample images\n",
    "fig, axes = plt.subplots(nrows=3, ncols=num_samples, figsize=(12, 6))\n",
    "\n",
    "# Iterate over each category and plot sample images\n",
    "for i, category in enumerate(np.unique(Noisy_labels)):\n",
    "    category_images = Smiley_images[Noisy_labels == category]\n",
    "    sample_images = category_images[:num_samples]\n",
    "\n",
    "    # Plot sample images in the corresponding subplot\n",
    "    for j, image in enumerate(sample_images):\n",
    "        axes[i, j].imshow(image.squeeze(), cmap='gray')\n",
    "        axes[i, j].axis('off')\n",
    "\n",
    "    # Set the category label as the title of the subplot\n",
    "    axes[i, 0].set_title(category)\n",
    "\n",
    "# Adjust the spacing between subplots\n",
    "plt.tight_layout()\n",
    "plt.show()\n"
   ]
  },
  {
   "cell_type": "markdown",
   "id": "51d48d99",
   "metadata": {},
   "source": [
    "# Misssing Values\n",
    "Checking for missing values involves examining a dataset to identify any instances where data is absent or incomplete. This process will help us to uncover gaps or inconsistencies in the data, which can have implications for the accuracy and reliability of subsequent data analysis or modeling tasks. By detecting and addressing missing values, we can ensure that the data used for further analysis is reliable and complete, thereby maintaining the integrity and quality of our findings."
   ]
  },
  {
   "cell_type": "code",
   "execution_count": 21,
   "id": "5de7aff8",
   "metadata": {},
   "outputs": [
    {
     "name": "stdout",
     "output_type": "stream",
     "text": [
      "Missing values Smiley images: 0\n",
      "Missing values Smiley labels: 0\n",
      "Missing values Noisy images: 0\n",
      "Missing values Noisy labels: 0\n"
     ]
    }
   ],
   "source": [
    "# Check for missing values\n",
    "print(\"Missing values Smiley images:\", smiley_images_df.isnull().sum().sum())\n",
    "print(\"Missing values Smiley labels:\", smiley_labels_df.isnull().sum().sum())\n",
    "print(\"Missing values Noisy images:\", noisy_images_df.isnull().sum().sum())\n",
    "print(\"Missing values Noisy labels:\", noisy_labels_df.isnull().sum().sum())"
   ]
  },
  {
   "cell_type": "markdown",
   "id": "473b2526",
   "metadata": {},
   "source": [
    "Our Smiley faces dataset does not contains any missing values."
   ]
  },
  {
   "cell_type": "markdown",
   "id": "689ad87f",
   "metadata": {},
   "source": [
    "# Outlier Checking\n",
    "After doing the checking values of missing values we have to check for the outliers that is identifying and analyzing data points that significantly deviate from the normal or expected patterns within a dataset. Outliers are observations that are unusually distant from other data points and may represent rare events, measurement errors, or anomalies"
   ]
  },
  {
   "cell_type": "code",
   "execution_count": 22,
   "id": "0dfc98f0",
   "metadata": {},
   "outputs": [],
   "source": [
    "# Outlier detection with Isolation Forest\n",
    "def detect_outliers(df):\n",
    "    # Fit the Isolation Forest model\n",
    "    model = IsolationForest(contamination=0.05)  \n",
    "    model.fit(df)\n",
    "    \n",
    "    # Predict outliers\n",
    "    outliers = model.predict(df)\n",
    "    \n",
    "    # Add outlier column to DataFrame\n",
    "    df['Outlier'] = outliers\n",
    "    \n",
    "    return df\n",
    "\n",
    "# Detect outliers in each DataFrame\n",
    "smiley_X_outliers = detect_outliers(smiley_images_df)\n",
    "smiley_Y_outliers = detect_outliers(smiley_labels_df)\n",
    "noisy_X_outliers = detect_outliers(noisy_images_df)\n",
    "noisy_Y_outliers = detect_outliers(noisy_labels_df)\n"
   ]
  },
  {
   "cell_type": "code",
   "execution_count": 23,
   "id": "b3537789",
   "metadata": {},
   "outputs": [
    {
     "name": "stdout",
     "output_type": "stream",
     "text": [
      "Outliers found in smiley_X_outliers dataframe at indices: Int64Index([70, 110, 113, 114, 115, 120, 176, 180, 181, 182, 188], dtype='int64')\n",
      "Outlier rows in smiley_X_outliers dataframe:\n",
      "       0    1    2    3    4    5    6    7    8    9  ...   72   73   74  \\\n",
      "70   0.0  1.0  0.0  0.0  0.0  0.0  0.0  0.0  0.0  0.0  ...  0.0  0.0  0.0   \n",
      "110  0.0  0.0  0.0  0.0  1.0  0.0  0.0  0.0  0.0  0.0  ...  0.0  0.0  0.0   \n",
      "113  0.0  0.0  0.0  0.0  0.0  0.0  0.0  0.0  0.0  0.0  ...  0.0  0.0  0.0   \n",
      "114  0.0  0.0  0.0  0.0  0.0  0.0  0.0  0.0  0.0  0.0  ...  0.0  0.0  0.0   \n",
      "115  0.0  0.0  0.0  0.0  0.0  0.0  0.0  0.0  0.0  0.0  ...  0.0  0.0  0.0   \n",
      "120  0.0  0.0  0.0  0.0  0.0  0.0  0.0  0.0  0.0  0.0  ...  0.0  0.0  0.0   \n",
      "176  0.0  0.0  0.0  0.0  0.0  0.0  0.0  0.0  0.0  0.0  ...  0.0  0.0  0.0   \n",
      "180  0.0  0.0  0.0  0.0  0.0  0.0  0.0  0.0  0.0  0.0  ...  0.0  0.0  0.0   \n",
      "181  0.0  0.0  0.0  0.0  0.0  0.0  0.0  0.0  0.0  0.0  ...  0.0  0.0  1.0   \n",
      "182  0.0  0.0  0.0  0.0  0.0  0.0  0.0  0.0  0.0  0.0  ...  0.0  0.0  1.0   \n",
      "188  0.0  0.0  0.0  0.0  0.0  0.0  0.0  0.0  0.0  0.0  ...  0.0  0.0  0.0   \n",
      "\n",
      "      75   76   77   78   79   80  Outlier  \n",
      "70   0.0  0.0  0.0  0.0  0.0  0.0       -1  \n",
      "110  0.0  0.0  0.0  0.0  0.0  0.0       -1  \n",
      "113  0.0  0.0  1.0  0.0  0.0  0.0       -1  \n",
      "114  0.0  0.0  0.0  0.0  0.0  0.0       -1  \n",
      "115  0.0  0.0  0.0  0.0  0.0  0.0       -1  \n",
      "120  0.0  0.0  0.0  0.0  0.0  0.0       -1  \n",
      "176  0.0  0.0  0.0  0.0  0.0  0.0       -1  \n",
      "180  0.0  0.0  0.0  0.0  0.0  0.0       -1  \n",
      "181  0.0  0.0  0.0  0.0  0.0  0.0       -1  \n",
      "182  0.0  0.0  0.0  0.0  0.0  0.0       -1  \n",
      "188  0.0  0.0  0.0  0.0  0.0  0.0       -1  \n",
      "\n",
      "[11 rows x 82 columns]\n"
     ]
    }
   ],
   "source": [
    "outlier_indices = smiley_X_outliers.index[smiley_X_outliers['Outlier'] == -1]\n",
    "if len(outlier_indices) > 0:\n",
    "    print(\"Outliers found in smiley_X_outliers dataframe at indices:\", outlier_indices)\n",
    "    outlier_rows = smiley_X_outliers.loc[outlier_indices]\n",
    "    print(\"Outlier rows in smiley_X_outliers dataframe:\")\n",
    "    print(outlier_rows)\n",
    "else:\n",
    "    print(\"There are no outliers in smiley_X_outliers dataframe.\")\n"
   ]
  },
  {
   "cell_type": "code",
   "execution_count": 24,
   "id": "f2ff79b0",
   "metadata": {},
   "outputs": [
    {
     "name": "stdout",
     "output_type": "stream",
     "text": [
      "There are no outliers in smiley_Y_outliers dataframe.\n"
     ]
    }
   ],
   "source": [
    "outlier_indices = smiley_Y_outliers.index[smiley_Y_outliers['Outlier'] == -1]\n",
    "if len(outlier_indices) > 0:\n",
    "    print(\"Outliers found in smiley_Y_outliers dataframe at indices:\", outlier_indices)\n",
    "    outlier_rows = smiley_Y_outliers.loc[outlier_indices]\n",
    "    print(\"Outlier rows in smiley_X_outliers dataframe:\")\n",
    "    print(outlier_rows)\n",
    "else:\n",
    "    print(\"There are no outliers in smiley_Y_outliers dataframe.\")\n"
   ]
  },
  {
   "cell_type": "markdown",
   "id": "c4a9b10e",
   "metadata": {},
   "source": [
    "Lets check the outliers for the noisy data"
   ]
  },
  {
   "cell_type": "code",
   "execution_count": 25,
   "id": "908057c4",
   "metadata": {},
   "outputs": [
    {
     "name": "stdout",
     "output_type": "stream",
     "text": [
      "Outliers found in noisy_X_outliers dataframe at indices: Int64Index([68, 70, 71, 112, 113, 114, 121, 180, 181, 182, 183], dtype='int64')\n",
      "Outlier rows in noisy_X_outliers dataframe:\n",
      "       0    1    2    3    4    5    6    7    8    9  ...   72   73   74  \\\n",
      "68   0.0  0.0  0.0  0.0  0.0  0.0  0.0  0.0  0.0  0.0  ...  0.0  0.0  1.0   \n",
      "70   0.0  0.0  0.0  1.0  0.0  0.0  0.0  0.0  0.0  0.0  ...  0.0  0.0  0.0   \n",
      "71   0.0  0.0  0.0  0.0  0.0  0.0  0.0  0.0  0.0  0.0  ...  0.0  0.0  0.0   \n",
      "112  0.0  0.0  0.0  0.0  0.0  0.0  0.0  0.0  1.0  0.0  ...  0.0  0.0  0.0   \n",
      "113  0.0  0.0  0.0  0.0  0.0  0.0  0.0  0.0  0.0  0.0  ...  0.0  0.0  0.0   \n",
      "114  0.0  0.0  0.0  0.0  0.0  0.0  0.0  0.0  0.0  0.0  ...  0.0  0.0  0.0   \n",
      "121  0.0  0.0  0.0  0.0  0.0  0.0  0.0  0.0  0.0  0.0  ...  0.0  0.0  0.0   \n",
      "180  0.0  0.0  0.0  0.0  0.0  0.0  0.0  0.0  0.0  0.0  ...  0.0  0.0  0.0   \n",
      "181  0.0  0.0  0.0  0.0  0.0  0.0  0.0  0.0  0.0  0.0  ...  0.0  0.0  0.0   \n",
      "182  0.0  0.0  0.0  0.0  0.0  0.0  0.0  0.0  0.0  0.0  ...  0.0  0.0  0.0   \n",
      "183  0.0  0.0  0.0  0.0  0.0  0.0  0.0  0.0  0.0  0.0  ...  0.0  0.0  0.0   \n",
      "\n",
      "      75   76   77   78   79   80  Outlier  \n",
      "68   0.0  0.0  0.0  0.0  0.0  0.0       -1  \n",
      "70   0.0  0.0  0.0  0.0  0.0  0.0       -1  \n",
      "71   0.0  0.0  0.0  0.0  0.0  0.0       -1  \n",
      "112  0.0  0.0  0.0  0.0  0.0  0.0       -1  \n",
      "113  0.0  0.0  0.0  0.0  0.0  0.0       -1  \n",
      "114  0.0  0.0  0.0  0.0  0.0  0.0       -1  \n",
      "121  0.0  0.0  0.0  0.0  0.0  0.0       -1  \n",
      "180  0.0  0.0  0.0  0.0  0.0  0.0       -1  \n",
      "181  0.0  0.0  0.0  0.0  0.0  0.0       -1  \n",
      "182  0.0  0.0  0.0  0.0  0.0  0.0       -1  \n",
      "183  0.0  0.0  0.0  0.0  0.0  0.0       -1  \n",
      "\n",
      "[11 rows x 82 columns]\n"
     ]
    }
   ],
   "source": [
    "outlier_indices = noisy_X_outliers.index[noisy_X_outliers['Outlier'] == -1]\n",
    "if len(outlier_indices) > 0:\n",
    "    print(\"Outliers found in noisy_X_outliers dataframe at indices:\", outlier_indices)\n",
    "    outlier_rows = noisy_X_outliers.loc[outlier_indices]\n",
    "    print(\"Outlier rows in noisy_X_outliers dataframe:\")\n",
    "    print(outlier_rows)\n",
    "else:\n",
    "    print(\"There are no outliers in noisy_X_outliers dataframe.\")\n"
   ]
  },
  {
   "cell_type": "code",
   "execution_count": 26,
   "id": "4c47501c",
   "metadata": {},
   "outputs": [
    {
     "name": "stdout",
     "output_type": "stream",
     "text": [
      "There are no outliers in noisy_Y_outliers dataframe.\n"
     ]
    }
   ],
   "source": [
    "outlier_indices = noisy_Y_outliers.index[noisy_Y_outliers['Outlier'] == -1]\n",
    "if len(outlier_indices) > 0:\n",
    "    print(\"Outliers found in noisy_Y_outliers dataframe at indices:\", outlier_indices)\n",
    "    outlier_rows = noisy_Y_outliers.loc[outlier_indices]\n",
    "    print(\"Outlier rows in noisy_Y_outliers dataframe:\")\n",
    "    print(outlier_rows)\n",
    "else:\n",
    "    print(\"There are no outliers in noisy_Y_outliers dataframe.\")\n"
   ]
  },
  {
   "cell_type": "markdown",
   "id": "26070614",
   "metadata": {},
   "source": [
    "Here we can see that smiley_X contains the outlier while smiley_Y does not contains any outlier same for the dataset with noise. If the outlier found is present only in the \"smiley_X.npy\" file and not in the corresponding \"smiley_Y.npy\" file, it suggests that the outlier image does not belong to any of the defined categories (sad, neutral, happy). In this case, removing the outlier image from the dataset could be a reasonable approach.\n",
    "\n",
    "Outliers can have a significant impact on the performance of machine learning models. They may introduce noise and affect the learning process, leading to inaccurate predictions. By removing the outlier image, we can potentially improve the overall performance and accuracy of  model."
   ]
  },
  {
   "cell_type": "code",
   "execution_count": 27,
   "id": "e3f0babc",
   "metadata": {},
   "outputs": [
    {
     "name": "stdout",
     "output_type": "stream",
     "text": [
      "Outliers found in smiley_X at indices: [ 70 110 113 114 115 120 176 178 180 181 182]\n",
      "Outlier rows in smiley_X:\n",
      "       0    1    2    3    4    5    6    7    8    9  ...   72   73   74  \\\n",
      "70   0.0  1.0  0.0  0.0  0.0  0.0  0.0  0.0  0.0  0.0  ...  0.0  0.0  0.0   \n",
      "110  0.0  0.0  0.0  0.0  1.0  0.0  0.0  0.0  0.0  0.0  ...  0.0  0.0  0.0   \n",
      "113  0.0  0.0  0.0  0.0  0.0  0.0  0.0  0.0  0.0  0.0  ...  0.0  0.0  0.0   \n",
      "114  0.0  0.0  0.0  0.0  0.0  0.0  0.0  0.0  0.0  0.0  ...  0.0  0.0  0.0   \n",
      "115  0.0  0.0  0.0  0.0  0.0  0.0  0.0  0.0  0.0  0.0  ...  0.0  0.0  0.0   \n",
      "120  0.0  0.0  0.0  0.0  0.0  0.0  0.0  0.0  0.0  0.0  ...  0.0  0.0  0.0   \n",
      "176  0.0  0.0  0.0  0.0  0.0  0.0  0.0  0.0  0.0  0.0  ...  0.0  0.0  0.0   \n",
      "178  0.0  0.0  0.0  0.0  0.0  0.0  0.0  0.0  0.0  0.0  ...  0.0  0.0  0.0   \n",
      "180  0.0  0.0  0.0  0.0  0.0  0.0  0.0  0.0  0.0  0.0  ...  0.0  0.0  0.0   \n",
      "181  0.0  0.0  0.0  0.0  0.0  0.0  0.0  0.0  0.0  0.0  ...  0.0  0.0  1.0   \n",
      "182  0.0  0.0  0.0  0.0  0.0  0.0  0.0  0.0  0.0  0.0  ...  0.0  0.0  1.0   \n",
      "\n",
      "      75   76   77   78   79   80  Outlier  \n",
      "70   0.0  0.0  0.0  0.0  0.0  0.0       -1  \n",
      "110  0.0  0.0  0.0  0.0  0.0  0.0       -1  \n",
      "113  0.0  0.0  1.0  0.0  0.0  0.0       -1  \n",
      "114  0.0  0.0  0.0  0.0  0.0  0.0       -1  \n",
      "115  0.0  0.0  0.0  0.0  0.0  0.0       -1  \n",
      "120  0.0  0.0  0.0  0.0  0.0  0.0       -1  \n",
      "176  0.0  0.0  0.0  0.0  0.0  0.0       -1  \n",
      "178  0.0  0.0  0.0  0.0  0.0  0.0        1  \n",
      "180  0.0  0.0  0.0  0.0  0.0  0.0       -1  \n",
      "181  0.0  0.0  0.0  0.0  0.0  0.0       -1  \n",
      "182  0.0  0.0  0.0  0.0  0.0  0.0       -1  \n",
      "\n",
      "[11 rows x 82 columns]\n",
      "       0  Outlier\n",
      "70   2.0        1\n",
      "110  1.0        1\n",
      "113  0.0        1\n",
      "114  0.0        1\n",
      "115  0.0        1\n",
      "120  0.0        1\n",
      "176  1.0        1\n",
      "178  1.0        1\n",
      "180  0.0        1\n",
      "181  0.0        1\n",
      "182  0.0        1\n",
      "Cleaned smiley_X shape: (193, 81)\n",
      "Cleaned smiley_Y shape: (193, 1)\n"
     ]
    }
   ],
   "source": [
    "# Convert DataFrame to NumPy array\n",
    "smiley_X_array = smiley_images_df.to_numpy()\n",
    "smiley_Y_array = smiley_labels_df.to_numpy()\n",
    "\n",
    "# Flatten the image data for Isolation Forest\n",
    "smiley_X_flat = smiley_X_array.reshape(len(smiley_X_array), -1)\n",
    "smiley_Y_flat = smiley_Y_array.reshape(len(smiley_Y_array), -1)\n",
    "\n",
    "# Outlier detection with Isolation Forest\n",
    "def detect_outliers(data):\n",
    "    # Fit the Isolation Forest model\n",
    "    model = IsolationForest(contamination=0.05)  \n",
    "    model.fit(data)\n",
    "    \n",
    "    # Predict outliers\n",
    "    outliers = model.predict(data)\n",
    "    \n",
    "    return outliers\n",
    "\n",
    "# Detect outliers in smiley_X\n",
    "smiley_X_outliers = detect_outliers(smiley_X_flat)\n",
    "\n",
    "# Find outlier indices\n",
    "outlier_indices = np.where(smiley_X_outliers == -1)[0]\n",
    "\n",
    "if len(outlier_indices) > 0:\n",
    "    print(\"Outliers found in smiley_X at indices:\", outlier_indices)\n",
    "    print(\"Outlier rows in smiley_X:\")\n",
    "    outlier_images = smiley_images_df.iloc[outlier_indices]\n",
    "    outlier_labels = smiley_labels_df.iloc[outlier_indices]\n",
    "    print(outlier_images)\n",
    "    print(outlier_labels)\n",
    "\n",
    "    # Remove outlier images and labels\n",
    "    smiley_X_clean = smiley_images_df.drop(smiley_images_df.index[outlier_indices])\n",
    "    smiley_Y_clean = smiley_labels_df.drop(smiley_labels_df.index[outlier_indices])\n",
    "    \n",
    "    # Convert smiley_X_clean back to NumPy array and remove 'Outlier' column\n",
    "    smiley_X_clean = smiley_X_clean.to_numpy()\n",
    "    smiley_Y_clean =smiley_Y_clean.to_numpy()\n",
    "    smiley_X_clean = np.delete(smiley_X_clean, -1, axis=1)\n",
    "    smiley_Y_clean = np.delete(smiley_Y_clean, -1, axis=1)\n",
    "    \n",
    "    print(\"Cleaned smiley_X shape:\", smiley_X_clean.shape)\n",
    "    print(\"Cleaned smiley_Y shape:\", smiley_Y_clean.shape)\n",
    "else:\n",
    "    print(\"There are no outliers in smiley_X.\")\n"
   ]
  },
  {
   "cell_type": "markdown",
   "id": "21d51e98",
   "metadata": {},
   "source": [
    "For noisy data"
   ]
  },
  {
   "cell_type": "code",
   "execution_count": 28,
   "id": "1a700e6c",
   "metadata": {},
   "outputs": [
    {
     "name": "stdout",
     "output_type": "stream",
     "text": [
      "Outliers found in noisy_X at indices: [ 70  71 112 113 114 124 141 180 181 182 183]\n",
      "Outlier rows in noisy_X:\n",
      "       0    1    2    3    4    5    6    7    8    9  ...   72   73   74  \\\n",
      "70   0.0  0.0  0.0  1.0  0.0  0.0  0.0  0.0  0.0  0.0  ...  0.0  0.0  0.0   \n",
      "71   0.0  0.0  0.0  0.0  0.0  0.0  0.0  0.0  0.0  0.0  ...  0.0  0.0  0.0   \n",
      "112  0.0  0.0  0.0  0.0  0.0  0.0  0.0  0.0  1.0  0.0  ...  0.0  0.0  0.0   \n",
      "113  0.0  0.0  0.0  0.0  0.0  0.0  0.0  0.0  0.0  0.0  ...  0.0  0.0  0.0   \n",
      "114  0.0  0.0  0.0  0.0  0.0  0.0  0.0  0.0  0.0  0.0  ...  0.0  0.0  0.0   \n",
      "124  1.0  0.0  0.0  0.0  0.0  0.0  0.0  0.0  0.0  0.0  ...  0.0  0.0  0.0   \n",
      "141  0.0  0.0  0.0  0.0  0.0  0.0  0.0  0.0  0.0  0.0  ...  0.0  0.0  0.0   \n",
      "180  0.0  0.0  0.0  0.0  0.0  0.0  0.0  0.0  0.0  0.0  ...  0.0  0.0  0.0   \n",
      "181  0.0  0.0  0.0  0.0  0.0  0.0  0.0  0.0  0.0  0.0  ...  0.0  0.0  0.0   \n",
      "182  0.0  0.0  0.0  0.0  0.0  0.0  0.0  0.0  0.0  0.0  ...  0.0  0.0  0.0   \n",
      "183  0.0  0.0  0.0  0.0  0.0  0.0  0.0  0.0  0.0  0.0  ...  0.0  0.0  0.0   \n",
      "\n",
      "      75   76   77   78   79   80  Outlier  \n",
      "70   0.0  0.0  0.0  0.0  0.0  0.0       -1  \n",
      "71   0.0  0.0  0.0  0.0  0.0  0.0       -1  \n",
      "112  0.0  0.0  0.0  0.0  0.0  0.0       -1  \n",
      "113  0.0  0.0  0.0  0.0  0.0  0.0       -1  \n",
      "114  0.0  0.0  0.0  0.0  0.0  0.0       -1  \n",
      "124  0.0  0.0  0.0  0.0  0.0  0.0        1  \n",
      "141  0.0  0.0  0.0  0.0  0.0  0.0        1  \n",
      "180  0.0  0.0  0.0  0.0  0.0  0.0       -1  \n",
      "181  0.0  0.0  0.0  0.0  0.0  0.0       -1  \n",
      "182  0.0  0.0  0.0  0.0  0.0  0.0       -1  \n",
      "183  0.0  0.0  0.0  0.0  0.0  0.0       -1  \n",
      "\n",
      "[11 rows x 82 columns]\n",
      "       0  Outlier\n",
      "70   2.0        1\n",
      "71   2.0        1\n",
      "112  0.0        1\n",
      "113  0.0        1\n",
      "114  0.0        1\n",
      "124  0.0        1\n",
      "141  2.0        1\n",
      "180  0.0        1\n",
      "181  0.0        1\n",
      "182  0.0        1\n",
      "183  0.0        1\n",
      "Cleaned noisy_X shape: (193, 81)\n",
      "Cleaned noisy_Y shape: (193, 1)\n"
     ]
    }
   ],
   "source": [
    "# Convert DataFrame to NumPy array\n",
    "noisy_X_array = noisy_images_df.to_numpy()\n",
    "noisy_Y_array = noisy_labels_df.to_numpy()\n",
    "\n",
    "# Flatten the image data for Isolation Forest\n",
    "noisy_X_flat = noisy_X_array.reshape(len(noisy_X_array), -1)\n",
    "noisy_Y_flat = noisy_Y_array.reshape(len(noisy_Y_array), -1)\n",
    "\n",
    "# Outlier detection with Isolation Forest\n",
    "def detect_outliers(data):\n",
    "    # Fit the Isolation Forest model\n",
    "    model = IsolationForest(contamination=0.05)  \n",
    "    model.fit(data)\n",
    "    \n",
    "    # Predict outliers\n",
    "    outliers = model.predict(data)\n",
    "    \n",
    "    return outliers\n",
    "\n",
    "# Detect outliers in noisy_X\n",
    "noisy_X_outliers = detect_outliers(noisy_X_flat)\n",
    "\n",
    "# Find outlier indices\n",
    "outlier_indices = np.where(noisy_X_outliers == -1)[0]\n",
    "\n",
    "if len(outlier_indices) > 0:\n",
    "    print(\"Outliers found in noisy_X at indices:\", outlier_indices)\n",
    "    print(\"Outlier rows in noisy_X:\")\n",
    "    outlier_images = noisy_images_df.iloc[outlier_indices]\n",
    "    outlier_labels = noisy_labels_df.iloc[outlier_indices]\n",
    "    print(outlier_images)\n",
    "    print(outlier_labels)\n",
    "\n",
    "    # Remove outlier images and labels\n",
    "    noisy_X_clean = noisy_images_df.drop(noisy_images_df.index[outlier_indices])\n",
    "    noisy_Y_clean = noisy_labels_df.drop(noisy_labels_df.index[outlier_indices])\n",
    "    \n",
    "    # Convert noisy_X_clean back to NumPy array and remove 'Outlier' column\n",
    "    noisy_X_clean = noisy_X_clean.to_numpy()\n",
    "    noisy_Y_clean =noisy_Y_clean.to_numpy()\n",
    "    noisy_X_clean = np.delete(noisy_X_clean, -1, axis=1)\n",
    "    noisy_Y_clean = np.delete(noisy_Y_clean, -1, axis=1)\n",
    "    \n",
    "    print(\"Cleaned noisy_X shape:\", noisy_X_clean.shape)\n",
    "    print(\"Cleaned noisy_Y shape:\", noisy_Y_clean.shape)\n",
    "else:\n",
    "    print(\"There are no outliers in noisy_X.\")\n"
   ]
  },
  {
   "cell_type": "markdown",
   "id": "8ae82820",
   "metadata": {},
   "source": [
    "The preprocessing of the data is done and cleaned data is stored in smiley_X_clean and noisy_X_clean"
   ]
  },
  {
   "cell_type": "markdown",
   "id": "1fbc1fd0",
   "metadata": {},
   "source": [
    "# Check for the size of images"
   ]
  },
  {
   "cell_type": "code",
   "execution_count": 29,
   "id": "9082d5ef",
   "metadata": {},
   "outputs": [
    {
     "name": "stdout",
     "output_type": "stream",
     "text": [
      "All images have the same size:\n"
     ]
    }
   ],
   "source": [
    "# Get the dimensions of the first image\n",
    "first_image_size = smiley_X_clean[0].shape\n",
    "\n",
    "# Check if all images have the same size\n",
    "same_size = True\n",
    "for image in smiley_X_clean:\n",
    "    if image.shape != first_image_size:\n",
    "        same_size = False\n",
    "        break\n",
    "\n",
    "if same_size:\n",
    "    print(\"All images have the same size:\")\n",
    "else:\n",
    "    print(\"Images have different sizes.\")\n"
   ]
  },
  {
   "cell_type": "markdown",
   "id": "fb20841e",
   "metadata": {},
   "source": [
    "If the output of the code indicates that \"All images have the same size,\" it means that all the images in the smiley_X_clean array already have the same dimensions. In this case, there is no immediate need to resize the images to a consistent dimension.\n",
    "\n"
   ]
  },
  {
   "cell_type": "markdown",
   "id": "2752cecc",
   "metadata": {},
   "source": [
    "Same Checking size for the noisy data also"
   ]
  },
  {
   "cell_type": "code",
   "execution_count": 30,
   "id": "23dec258",
   "metadata": {},
   "outputs": [
    {
     "name": "stdout",
     "output_type": "stream",
     "text": [
      "All images have the same size:\n"
     ]
    }
   ],
   "source": [
    "# Get the dimensions of the first image\n",
    "noisy_first_image_size = noisy_X_clean[0].shape\n",
    "\n",
    "# Check if all images have the same size\n",
    "same_size = True\n",
    "for image in noisy_X_clean:\n",
    "    if image.shape != noisy_first_image_size:\n",
    "        same_size = False\n",
    "        break\n",
    "\n",
    "if same_size:\n",
    "    print(\"All images have the same size:\")\n",
    "else:\n",
    "    print(\"Images have different sizes.\")"
   ]
  },
  {
   "cell_type": "markdown",
   "id": "9107027e",
   "metadata": {},
   "source": [
    "# Naïve Bayes Classifier "
   ]
  },
  {
   "cell_type": "markdown",
   "id": "ebcba845",
   "metadata": {},
   "source": [
    "The following part of the code will train a Naïve Bayes classifier using the Multinomial Naive Bayes algorithm on a smiley dataset and recorded the major matrices"
   ]
  },
  {
   "cell_type": "markdown",
   "id": "0fa62fa1",
   "metadata": {},
   "source": [
    "Accuracy: \n",
    "Accuracy is defined as the proportion of properly predicted observations to total number of observations. The model's accuracy assesses how well it predicts both positive and negative classifications.  \n",
    "\n",
    "Accuracy=(TP+TN)/(TP+FN) \n",
    "\t\n",
    "\n",
    "Precision:\n",
    " It is the proportion of successfully predicted positive observations to total positive predictions. Precision evaluates how well the model predicts positive classes, which is significant when false positives are expensive.\n",
    " \n",
    "Precision=TP/(TP+FP)\n",
    "\n",
    "\n",
    "Recall: \n",
    "This is the proportion of accurately predicted positive observations to total positive observations. When false negatives are expensive, recall evaluates how well the model can recognise positive classes.\n",
    "\n",
    "Recall=TP/(TP+FN)\n"
   ]
  },
  {
   "cell_type": "code",
   "execution_count": 31,
   "id": "7e8f5662",
   "metadata": {},
   "outputs": [
    {
     "name": "stdout",
     "output_type": "stream",
     "text": [
      "Accuracy: 0.8205128205128205\n",
      "Confusion Matrix:\n",
      " [[ 5  6  0]\n",
      " [ 0  9  1]\n",
      " [ 0  0 18]]\n",
      "Classification Report:\n",
      "               precision    recall  f1-score   support\n",
      "\n",
      "         0.0       1.00      0.45      0.62        11\n",
      "         1.0       0.60      0.90      0.72        10\n",
      "         2.0       0.95      1.00      0.97        18\n",
      "\n",
      "    accuracy                           0.82        39\n",
      "   macro avg       0.85      0.78      0.77        39\n",
      "weighted avg       0.87      0.82      0.81        39\n",
      "\n",
      "ROC Area: 0.5194805194805194\n"
     ]
    }
   ],
   "source": [
    "# Convert the data into pandas dataframes\n",
    "processed_smiley_images = pd.DataFrame(smiley_X_clean)\n",
    "processed_smiley_labels = pd.DataFrame(smiley_Y_clean)\n",
    "\n",
    "\n",
    "# Split the data into the training and testing sets\n",
    "X_train, X_test, y_train, y_test = train_test_split(\n",
    "    processed_smiley_images, processed_smiley_labels, test_size=0.2, random_state=42\n",
    ")\n",
    "\n",
    "# Reshape the labels using ravel()\n",
    "y_train = y_train.values.ravel()\n",
    "y_test = y_test.values.ravel()\n",
    "\n",
    "# Create an instance of the Multinomial Naive Bayes classifier\n",
    "nb_classifier = MultinomialNB()\n",
    "\n",
    "# Train the classifier using the training data\n",
    "nb_classifier.fit(X_train, y_train)\n",
    "\n",
    "# Make predictions on the testing data\n",
    "y_pred = nb_classifier.predict(X_test)\n",
    "y_pred_prob = nb_classifier.predict_proba(X_test)[:, 1]\n",
    "\n",
    "# Calculate the performance metrics\n",
    "accuracy = nb_classifier.score(X_test, y_test)\n",
    "confusion_mat = confusion_matrix(y_test, y_pred)\n",
    "classification_rep = classification_report(y_test, y_pred)\n",
    "\n",
    "# Calculate the TP rate, FP rate, precision, recall, and F measure\n",
    "y_test_bin = label_binarize(y_test, classes=np.unique(y_train))\n",
    "y_pred_prob_2d = y_pred_prob.reshape(-1, 1)\n",
    "roc_area = roc_auc_score(y_test_bin, y_pred_prob_2d)\n",
    "\n",
    "# Print the results and conclusions\n",
    "print(\"Accuracy:\", accuracy)\n",
    "print(\"Confusion Matrix:\\n\", confusion_mat)\n",
    "print(\"Classification Report:\\n\", classification_rep)\n",
    "print(\"ROC Area:\", roc_area)"
   ]
  },
  {
   "cell_type": "markdown",
   "id": "dd79d75d",
   "metadata": {},
   "source": [
    "\n",
    "After running the Naïve Bayes Classifier on our chosen dataset,Output are:\n",
    "\n",
    "Accuracy: The classifier's overall performance was around 82.05%. This means that it made correct predictions for roughly 82% of the instances.\n",
    "\n",
    "Confusion Matrix: The confusion matrix provides a detailed breakdown of the classifier's predictions for each class. We have three classes in our dataset: 0.0, 1.0, and 2.0. Looking at the confusion matrix, we see the following:\n",
    "   - For class 0.0: The classifier correctly predicted 5 instances as 0.0, but it mistakenly classified 6 instances as 1.0.\n",
    "   - For class 1.0: The classifier accurately predicted 9 instances as 1.0, but it misclassified 1 instance as 2.0.\n",
    "   - For class 2.0: All 18 instances of class 2.0 were correctly classified.\n",
    "\n",
    "Precision: Precision tells us the accuracy of the positive predictions made by the classifier. For classes 0.0, 1.0, and 2.0, the precision values are approximately 1.00, 0.60, and 0.95, respectively. This means that the classifier was highly accurate for classes 0.0 and 2.0, but not as much for class 1.0.\n",
    "\n",
    "Recall: Recall, also known as the True Positive Rate or Sensitivity, measures the ability of the classifier to identify all the positive instances. For classes 0.0, 1.0, and 2.0, the recall values are approximately 0.45, 0.90, and 1.00, respectively. The classifier had high recall for classes 1.0 and 2.0, but it struggled in identifying instances of class 0.0.\n",
    "\n",
    "F1-score: The F1-score is a balance between precision and recall. It gives us a combined measure of accuracy for each class. The F1-scores for classes 0.0, 1.0, and 2.0 are approximately 0.62, 0.72, and 0.97, respectively. Class 2.0 has the highest F1-score, indicating a well-balanced precision and recall for this class.\n",
    "\n",
    "ROC Area: The ROC area measures the classifier's ability to distinguish between different classes. In this case, the ROC area is approximately 0.52, suggesting that the classifier's performance in distinguishing between classes is not very strong.\n",
    "\n",
    "In conclusion, the Naïve Bayes Classifier performed reasonably well with good accuracy and F1-scores for most classes. However, it had some difficulty with class 0.0, as indicated by the low recall and F1-score. The classifier's ability to differentiate between classes, as measured by the ROC area, was not very strong overall. "
   ]
  },
  {
   "cell_type": "code",
   "execution_count": 49,
   "id": "9d1f94e2",
   "metadata": {},
   "outputs": [
    {
     "name": "stdout",
     "output_type": "stream",
     "text": [
      "Accuracy: 0.7948717948717948\n",
      "Confusion Matrix:\n",
      " [[ 8  3  0]\n",
      " [ 2  7  1]\n",
      " [ 0  2 16]]\n",
      "Classification Report:\n",
      "               precision    recall  f1-score   support\n",
      "\n",
      "         0.0       0.80      0.73      0.76        11\n",
      "         1.0       0.58      0.70      0.64        10\n",
      "         2.0       0.94      0.89      0.91        18\n",
      "\n",
      "    accuracy                           0.79        39\n",
      "   macro avg       0.77      0.77      0.77        39\n",
      "weighted avg       0.81      0.79      0.80        39\n",
      "\n",
      "ROC Area: 0.4285714285714285\n"
     ]
    }
   ],
   "source": [
    "# Convert the data into pandas dataframes\n",
    "processed_noisy_images = pd.DataFrame(noisy_X_clean)\n",
    "processed_noisy_labels = pd.DataFrame(noisy_Y_clean)\n",
    "\n",
    "# Split the data into training and testing sets\n",
    "X_train, X_test, y_train, y_test = train_test_split(\n",
    "    processed_noisy_images, processed_noisy_labels, test_size=0.2, random_state=42\n",
    ")\n",
    "\n",
    "# Reshape the labels using ravel()\n",
    "y_train = y_train.values.ravel()\n",
    "y_test = y_test.values.ravel()\n",
    "\n",
    "# Create an instance of the Multinomial Naive Bayes classifier\n",
    "nb_classifier = MultinomialNB()\n",
    "\n",
    "# Train the classifier using the training data\n",
    "nb_classifier.fit(X_train, y_train)\n",
    "\n",
    "# Make predictions on the testing data\n",
    "y_pred = nb_classifier.predict(X_test)\n",
    "y_pred_prob = nb_classifier.predict_proba(X_test)[:, 1]\n",
    "\n",
    "# Calculate the performance metrics\n",
    "accuracy = nb_classifier.score(X_test, y_test)\n",
    "confusion_mat = confusion_matrix(y_test, y_pred)\n",
    "classification_rep = classification_report(y_test, y_pred)\n",
    "\n",
    "# Calculate the TP rate, FP rate, precision, recall, and F measure\n",
    "y_test_bin = label_binarize(y_test, classes=np.unique(y_train))\n",
    "y_pred_prob_2d = y_pred_prob.reshape(-1, 1)\n",
    "roc_area = roc_auc_score(y_test_bin, y_pred_prob_2d)\n",
    "\n",
    "# Print the results and conclusions\n",
    "print(\"Accuracy:\", accuracy)\n",
    "print(\"Confusion Matrix:\\n\", confusion_mat)\n",
    "print(\"Classification Report:\\n\", classification_rep)\n",
    "print(\"ROC Area:\", roc_area)"
   ]
  },
  {
   "cell_type": "markdown",
   "id": "9c2c9872",
   "metadata": {},
   "source": [
    "# Conclusion"
   ]
  },
  {
   "cell_type": "markdown",
   "id": "fa48f95e",
   "metadata": {},
   "source": [
    "The Multinomial Naive Bayes classifier achieved an accuracy of around 79.5%, indicating relatively good overall performance.  For class 0.0, it correctly predicted 8 samples, wrongly classified 3 samples as class 1, and made no false predictions for class 2.\n",
    "For class 1.0, it correctly predicted 7 samples, misclassified 2 samples as class 0, and 1 sample as class 2.\n",
    "For class 2.0, it correctly predicted 16 samples, misclassified 2 samples as class 1, and made no false predictions for class 0.\n",
    "\n",
    "The classification report provides precision, recall, F1-score, and support for each class label.\n",
    "Precision indicates how often the classifier correctly identified the positive samples. For class 0.0, precision is 80%, for class 1.0, it is 58%, and for class 2.0, it is 94%.\n",
    "Recall (sensitivity) shows how well the classifier finds all positive samples. For class 0.0, recall is 73%, for class 1.0, it's 70%, and for class 2.0, it's 89%.\n",
    "The F1-score balances precision and recall. For class 0.0, it's 76%, for class 1.0, 64%, and for class 2.0, it's 91%.\n",
    "Support will represents the number of samples in each class.\n",
    "The classifier showed the overall accurcy and some challenges in correctly identifying samples from class 1.0 and had a relatively low ROC area."
   ]
  },
  {
   "cell_type": "markdown",
   "id": "593fa0ef",
   "metadata": {},
   "source": [
    "In comparison, the model trained on Smiley Data performs better overall with an accuracy of 84.62% compared to the model trained on Data with Noisy Data, which achieved an accuracy of 79.5%. The Smiley Data model shows higher precision and recall for happy faces but struggles with sad faces. On the other hand, the Noisy Data model has challenges correctly identifying neutral faces. Both models could benefit from further fine-tuning and exploration of different algorithms or preprocessing techniques to improve classification results for all classes."
   ]
  },
  {
   "cell_type": "markdown",
   "id": "fd25be66",
   "metadata": {},
   "source": [
    "# Most Corealting Feature"
   ]
  },
  {
   "cell_type": "code",
   "execution_count": 29,
   "id": "80a38240",
   "metadata": {},
   "outputs": [
    {
     "name": "stdout",
     "output_type": "stream",
     "text": [
      "Top features for class 2.0:\n",
      "[68, 70, 7, 79, 10, 72]\n",
      "Top features for class 1.0:\n",
      "[39, 40, 41, 37, 43, 38]\n",
      "Top features for class 0.0:\n",
      "[66, 57, 58, 59, 67, 61]\n",
      "\n",
      "Top features overall:\n",
      "[39, 40, 41, 66, 68, 57]\n",
      "\n",
      "Performance Metrics - Dataset 1:\n",
      "Accuracy: 0.5958549222797928\n",
      "Precision: 0.8088235294117648\n",
      "Recall: 0.6152832674571805\n",
      "F1-Score: 0.5951460481099656\n",
      "\n",
      "Performance Metrics - Dataset 2:\n",
      "Accuracy: 0.7564766839378239\n",
      "Precision: 0.8507936507936508\n",
      "Recall: 0.7676767676767676\n",
      "F1-Score: 0.7631447398318564\n"
     ]
    }
   ],
   "source": [
    "# Convert the data to pandas DataFrame\n",
    "processed_smiley_images = pd.DataFrame(smiley_X_clean)\n",
    "processed_smiley_labels = pd.DataFrame(smiley_Y_clean)\n",
    "\n",
    "# Calculate the correlation between features and classes\n",
    "correlation_matrix = processed_smiley_images.corrwith(processed_smiley_labels[0])\n",
    "\n",
    "# Split the correlation matrix by class labels\n",
    "correlation_by_class = {}\n",
    "for class_label in processed_smiley_labels[0].unique():\n",
    "    correlation_by_class[class_label] = correlation_matrix[\n",
    "        processed_smiley_labels[0] == class_label\n",
    "    ]\n",
    "\n",
    "# Sort features within each class based on correlation\n",
    "top_features_by_class = {}\n",
    "for class_label, correlation_values in correlation_by_class.items():\n",
    "    top_features = correlation_values.abs().nlargest(6).index\n",
    "    top_features_by_class[class_label] = top_features\n",
    "    print(f\"Top features for class {class_label}:\")\n",
    "    print(top_features.tolist())\n",
    "\n",
    "# Overall top features\n",
    "overall_top_features = correlation_matrix.abs().nlargest(6).index\n",
    "print(\"\\nTop features overall:\")\n",
    "print(overall_top_features.tolist())\n",
    "\n",
    "# Create dataset 1 with 3 top features for each class\n",
    "dataset1_features = []\n",
    "for class_label, top_features in top_features_by_class.items():\n",
    "    dataset1_features.extend(top_features[:3])\n",
    "dataset1 = processed_smiley_images[dataset1_features]\n",
    "\n",
    "# Create dataset 2 with 6 top features for each class\n",
    "dataset2_features = []\n",
    "for class_label, top_features in top_features_by_class.items():\n",
    "    dataset2_features.extend(top_features[:6])\n",
    "dataset2 = processed_smiley_images[dataset2_features]\n",
    "\n",
    "# Train and evaluate Naïve Bayes classifier on dataset 1\n",
    "nb1 = GaussianNB()\n",
    "nb1.fit(dataset1, processed_smiley_labels.values.ravel())\n",
    "predictions1 = nb1.predict(dataset1)\n",
    "print(\"\\nPerformance Metrics - Dataset 1:\")\n",
    "print(\"Accuracy:\", accuracy_score(processed_smiley_labels, predictions1))\n",
    "print(\"Precision:\", precision_score(processed_smiley_labels, predictions1, average='macro'))\n",
    "print(\"Recall:\", recall_score(processed_smiley_labels, predictions1, average='macro'))\n",
    "print(\"F1-Score:\", f1_score(processed_smiley_labels, predictions1, average='macro'))\n",
    "\n",
    "# Train and evaluate Naïve Bayes classifier on dataset 2\n",
    "nb2 = GaussianNB()\n",
    "nb2.fit(dataset2, processed_smiley_labels.values.ravel())\n",
    "predictions2 = nb2.predict(dataset2)\n",
    "print(\"\\nPerformance Metrics - Dataset 2:\")\n",
    "print(\"Accuracy:\", accuracy_score(processed_smiley_labels, predictions2))\n",
    "print(\"Precision:\", precision_score(processed_smiley_labels, predictions2, average='macro'))\n",
    "print(\"Recall:\", recall_score(processed_smiley_labels, predictions2, average='macro'))\n",
    "print(\"F1-Score:\", f1_score(processed_smiley_labels, predictions2, average='macro'))\n"
   ]
  },
  {
   "cell_type": "markdown",
   "id": "08846522",
   "metadata": {},
   "source": [
    "Lets perform the same task with our noisy data"
   ]
  },
  {
   "cell_type": "code",
   "execution_count": 30,
   "id": "0899b7ca",
   "metadata": {},
   "outputs": [
    {
     "name": "stdout",
     "output_type": "stream",
     "text": [
      "Top features for class 2.0:\n",
      "[68, 67, 70, 6, 14, 12]\n",
      "Top features for class 1.0:\n",
      "[39, 41, 40, 37, 43, 42]\n",
      "Top features for class 0.0:\n",
      "[57, 58, 59, 66, 61, 55]\n",
      "\n",
      "Top features overall:\n",
      "[39, 41, 40, 57, 58, 68]\n",
      "\n",
      "Performance Metrics - Dataset 1:\n",
      "Accuracy: 0.5803108808290155\n",
      "Precision: 0.6641787176696211\n",
      "Recall: 0.5895931142410016\n",
      "F1-Score: 0.5553825331302111\n",
      "\n",
      "Performance Metrics - Dataset 2:\n",
      "Accuracy: 0.7875647668393783\n",
      "Precision: 0.86\n",
      "Recall: 0.7945630773890656\n",
      "F1-Score: 0.7929883248065067\n"
     ]
    }
   ],
   "source": [
    "# Convert the data into pandas dataframes\n",
    "processed_noisy_images = pd.DataFrame(noisy_X_clean)\n",
    "processed_noisy_labels = pd.DataFrame(noisy_Y_clean)\n",
    "\n",
    "# Calculate the correlation between features and classes\n",
    "correlation_matrix = processed_noisy_images.corrwith(processed_noisy_labels[0])\n",
    "\n",
    "# Split the correlation matrix by class labels\n",
    "correlation_by_class = {}\n",
    "for class_label in processed_noisy_labels[0].unique():\n",
    "    correlation_by_class[class_label] = correlation_matrix[\n",
    "        processed_noisy_labels[0] == class_label\n",
    "    ]\n",
    "\n",
    "# Sort features within each class based on correlation\n",
    "top_features_by_class = {}\n",
    "for class_label, correlation_values in correlation_by_class.items():\n",
    "    top_features = correlation_values.abs().nlargest(6).index\n",
    "    top_features_by_class[class_label] = top_features\n",
    "    print(f\"Top features for class {class_label}:\")\n",
    "    print(top_features.tolist())\n",
    "\n",
    "# Overall top features\n",
    "overall_top_features = correlation_matrix.abs().nlargest(6).index\n",
    "print(\"\\nTop features overall:\")\n",
    "print(overall_top_features.tolist())\n",
    "\n",
    "# Create dataset 1 with 3 top features for each class\n",
    "dataset1_features = []\n",
    "for class_label, top_features in top_features_by_class.items():\n",
    "    dataset1_features.extend(top_features[:3])\n",
    "dataset1 = processed_noisy_images[dataset1_features]\n",
    "\n",
    "# Create dataset 2 with 6 top features for each class\n",
    "dataset2_features = []\n",
    "for class_label, top_features in top_features_by_class.items():\n",
    "    dataset2_features.extend(top_features[:6])\n",
    "dataset2 = processed_noisy_images[dataset2_features]\n",
    "\n",
    "# Train and evaluate Naïve Bayes classifier on dataset 1\n",
    "nb1 = GaussianNB()\n",
    "nb1.fit(dataset1, processed_noisy_labels.values.ravel())\n",
    "predictions1 = nb1.predict(dataset1)\n",
    "print(\"\\nPerformance Metrics - Dataset 1:\")\n",
    "print(\"Accuracy:\", accuracy_score(processed_noisy_labels, predictions1))\n",
    "print(\"Precision:\", precision_score(processed_noisy_labels, predictions1, average='macro'))\n",
    "print(\"Recall:\", recall_score(processed_noisy_labels, predictions1, average='macro'))\n",
    "print(\"F1-Score:\", f1_score(processed_noisy_labels, predictions1, average='macro'))\n",
    "\n",
    "# Train and evaluate Naïve Bayes classifier on dataset 2\n",
    "nb2 = GaussianNB()\n",
    "nb2.fit(dataset2, processed_noisy_labels.values.ravel())\n",
    "predictions2 = nb2.predict(dataset2)\n",
    "print(\"\\nPerformance Metrics - Dataset 2:\")\n",
    "print(\"Accuracy:\", accuracy_score(processed_noisy_labels, predictions2))\n",
    "print(\"Precision:\", precision_score(processed_noisy_labels, predictions2, average='macro'))\n",
    "print(\"Recall:\", recall_score(processed_noisy_labels, predictions2, average='macro'))\n",
    "print(\"F1-Score:\", f1_score(processed_noisy_labels, predictions2, average='macro'))\n"
   ]
  },
  {
   "cell_type": "markdown",
   "id": "a36f86aa",
   "metadata": {},
   "source": [
    "The analysis which we have performed gives the valuable information about the dataset, feature importance, and the effect of feature reduction on model performance. It demonstrated the importance of thoughtful feature selection and understanding the data characteristics to build effective classifiers. "
   ]
  },
  {
   "cell_type": "markdown",
   "id": "28f69bbe",
   "metadata": {},
   "source": [
    "# Part 2"
   ]
  },
  {
   "cell_type": "markdown",
   "id": "cbd9aec5",
   "metadata": {},
   "source": [
    "# Clustering"
   ]
  },
  {
   "cell_type": "markdown",
   "id": "76e0f63d",
   "metadata": {},
   "source": [
    "To perform the clustering on smiley data we are going to experiment various clustering algorithms and will check for accuracy by which we will know which type of clustering is performing well to group together similar data. "
   ]
  },
  {
   "cell_type": "markdown",
   "id": "cb5d97dc",
   "metadata": {},
   "source": [
    "Firstly we will explore the clustering algorithms with the number of clusters 3."
   ]
  },
  {
   "cell_type": "markdown",
   "id": "ad130046",
   "metadata": {},
   "source": [
    "# The k-means Clustering"
   ]
  },
  {
   "cell_type": "code",
   "execution_count": 234,
   "id": "1a861c56",
   "metadata": {},
   "outputs": [
    {
     "name": "stdout",
     "output_type": "stream",
     "text": [
      "K-means Clustering Accuracy: 40.93%\n"
     ]
    }
   ],
   "source": [
    "# Performs k-means clustering\n",
    "number_clusters = 3\n",
    "kmeansclustering_model = KMeans(n_clusters=number_clusters, random_state=42)\n",
    "kmeansclustering_model.fit(processed_smiley_images)\n",
    "\n",
    "# Gets the predicted cluster labels\n",
    "predictedkmeans_clusters = kmeans_model.labels_\n",
    "\n",
    "# Evaluates the accuracy of clustering \n",
    "clustering_accuracy = accuracy_score(processed_smiley_labels.values.ravel(), predictedkmeans_clusters)\n",
    "print(\"K-means Clustering Accuracy: {:.2f}%\".format(clustering_accuracy * 100))\n"
   ]
  },
  {
   "cell_type": "code",
   "execution_count": 235,
   "id": "fdfa363e",
   "metadata": {},
   "outputs": [
    {
     "data": {
      "image/png": "[encoded data removed]",
      "text/plain": [
       "<Figure size 640x480 with 1 Axes>"
      ]
     },
     "metadata": {},
     "output_type": "display_data"
    }
   ],
   "source": [
    "# Performs PCA for dimensionality reduction\n",
    "pca_model = PCA(n_components=2)\n",
    "pca_reduced_data = pca_model.fit_transform(processed_smiley_images)\n",
    "\n",
    "# Initialize the KMeans clustering algorithm with the desired number of clusters\n",
    "number_clusters = 3\n",
    "kmeans_model = KMeans(n_clusters=num_clusters, random_state=42)\n",
    "\n",
    "# Fits the reduced features to the KMeans model and obtain the cluster labels\n",
    "kmeans_model.fit(pca_reduced_data)\n",
    "cluster_labels = kmeans_model.labels_\n",
    "\n",
    "# Create a scatter plot of the reduced features colored by the cluster labels\n",
    "plt.scatter(pca_reduced_data[:, 0], pca_reduced_data[:, 1], c=cluster_labels)\n",
    "plt.xlabel('Principal Component 1')\n",
    "plt.ylabel('Principal Component 2')\n",
    "plt.title('K-means Clustering with PCA')\n",
    "plt.show()\n"
   ]
  },
  {
   "cell_type": "markdown",
   "id": "ce3f32c6",
   "metadata": {},
   "source": [
    "Performing the k-means clusering on the noisy data"
   ]
  },
  {
   "cell_type": "code",
   "execution_count": 236,
   "id": "70e65eaa",
   "metadata": {},
   "outputs": [
    {
     "name": "stdout",
     "output_type": "stream",
     "text": [
      "K-means Clustering Accuracy: 28.50%\n"
     ]
    }
   ],
   "source": [
    "# Perform k-means clustering\n",
    "number_clusters = 3\n",
    "kmeansclustering_model = KMeans(n_clusters=number_clusters, random_state=42)\n",
    "kmeansclustering_model.fit(processed_noisy_images)\n",
    "\n",
    "# Get predicted cluster labels\n",
    "predictedkmeans_clusters = kmeans_model.labels_\n",
    "\n",
    "# Evaluate the accuracy of clustering \n",
    "clustering_accuracy = accuracy_score(processed_noisy_labels.values.ravel(), predictedkmeans_clusters)\n",
    "print(\"K-means Clustering Accuracy: {:.2f}%\".format(clustering_accuracy * 100))\n"
   ]
  },
  {
   "cell_type": "code",
   "execution_count": 237,
   "id": "6c27f1a9",
   "metadata": {},
   "outputs": [
    {
     "data": {
      "image/png": "[encoded data removed]",
      "text/plain": [
       "<Figure size 640x480 with 1 Axes>"
      ]
     },
     "metadata": {},
     "output_type": "display_data"
    }
   ],
   "source": [
    "# Perform PCA for dimensionality reduction\n",
    "pca_model = PCA(n_components=2)\n",
    "pca_reduced_data = pca_model.fit_transform(processed_noisy_images)\n",
    "\n",
    "# Initialize the KMeans clustering algorithm with the desired number of clusters\n",
    "number_clusters = 3\n",
    "kmeans_model = KMeans(n_clusters=num_clusters, random_state=42)\n",
    "\n",
    "# Fit the reduced features to the KMeans model and obtain the cluster labels\n",
    "kmeans_model.fit(pca_reduced_data)\n",
    "cluster_labels = kmeans_model.labels_\n",
    "\n",
    "# Create a scatter plot of the reduced features colored by the cluster labels\n",
    "plt.scatter(pca_reduced_data[:, 0], pca_reduced_data[:, 1], c=cluster_labels)\n",
    "plt.xlabel('Principal Component 1')\n",
    "plt.ylabel('Principal Component 2')\n",
    "plt.title('K-means Clustering with PCA')\n",
    "plt.show()\n"
   ]
  },
  {
   "cell_type": "markdown",
   "id": "323c3abd",
   "metadata": {},
   "source": [
    "The accuracy we obtained from the k-means clustering for the smiley data  and noisy is about 40%. This accuracy shows how well the k-means algorithm tried to group the data points into the correct categories based on the actual labels we already knew (0 for sad, 1 for neutral, and 2 for happy). A low accuracy suggests that the k-means algorithm might not be the best choice for this specific dataset, or it could mean that the data doesn't have very distinct and well-separated groups.\n",
    "\n",
    "In the scatter plot visualization, we can notice three different groups on the plot that correspond to the three classes (happy, neutral, and sad). This means that the k-means algorithm was able to find some level of separation among the data points, leading to three distinct clusters when we displayed the data in a 2D space using PCA. However, because the accuracy is relatively low, it indicates that the clustering might not perfectly match the actual classes of the smiley faces."
   ]
  },
  {
   "cell_type": "markdown",
   "id": "15dc15d0",
   "metadata": {},
   "source": [
    "# GMM Clustering"
   ]
  },
  {
   "cell_type": "code",
   "execution_count": 148,
   "id": "ee988a60",
   "metadata": {},
   "outputs": [
    {
     "name": "stdout",
     "output_type": "stream",
     "text": [
      "GMM Clustering Accuracy: 33.16%\n"
     ]
    }
   ],
   "source": [
    "# Convert DataFrame to NumPy array\n",
    "processed_smiley_images_array = processed_smiley_images.to_numpy()\n",
    "\n",
    "# Set the number of clusters \n",
    "number_clusters = 3\n",
    "\n",
    "# Instantiate and fit the Gaussian Mixture Model (GMM)\n",
    "gmm_model = GaussianMixture(n_components=number_clusters, random_state=0)\n",
    "gmm_model.fit(processed_smiley_images_array)\n",
    "\n",
    "# Obtain the predicted cluster labels\n",
    "predictedgmm_clusters = gmm_model.predict(processed_smiley_images_array)\n",
    "\n",
    "# Evaluate accuracy (optional if ground truth labels are available)\n",
    "clustering_accuracy = accuracy_score(processed_smiley_labels, predictedgmm_clusters)\n",
    "print(\"GMM Clustering Accuracy: {:.2f}%\".format(clustering_accuracy * 100))\n"
   ]
  },
  {
   "cell_type": "markdown",
   "id": "28ea4852",
   "metadata": {},
   "source": [
    "For the noisy data"
   ]
  },
  {
   "cell_type": "code",
   "execution_count": 149,
   "id": "d9372f9d",
   "metadata": {},
   "outputs": [
    {
     "name": "stdout",
     "output_type": "stream",
     "text": [
      "GMM Clustering Accuracy: 30.57%\n"
     ]
    }
   ],
   "source": [
    "# Convert DataFrame to NumPy array\n",
    "processed_noisy_images_array = processed_noisy_images.to_numpy()\n",
    "\n",
    "# Set the number of clusters \n",
    "number_clusters = 3\n",
    "\n",
    "# Instantiate and fit the Gaussian Mixture Model (GMM)\n",
    "gmm_model = GaussianMixture(n_components=number_clusters, random_state=0)\n",
    "gmm_model.fit(processed_noisy_images_array)\n",
    "\n",
    "# Obtain the predicted cluster labels\n",
    "predictedgmm_clusters = gmm_model.predict(processed_noisy_images_array)\n",
    "\n",
    "# Evaluate accuracy (optional if ground truth labels are available)\n",
    "clustering_accuracy = accuracy_score(processed_noisy_labels, predictedgmm_clusters)\n",
    "print(\"GMM Clustering Accuracy: {:.2f}%\".format(clustering_accuracy * 100))"
   ]
  },
  {
   "cell_type": "markdown",
   "id": "c7e66b74",
   "metadata": {},
   "source": [
    "# Agglomerative Hierarchical Clustering"
   ]
  },
  {
   "cell_type": "code",
   "execution_count": 150,
   "id": "28b2607d",
   "metadata": {},
   "outputs": [
    {
     "name": "stdout",
     "output_type": "stream",
     "text": [
      "Accuracy Score: 23.89%\n"
     ]
    }
   ],
   "source": [
    "# Initialize the AgglomerativeClustering model\n",
    "number_clusters = 3  \n",
    "linkage_type = 'ward'  \n",
    "agg_clustering_model = AgglomerativeClustering(n_clusters=number_clusters, linkage=linkage_type)\n",
    "\n",
    "# Fit the model to data\n",
    "predicted_labels = agg_clustering_model.fit_predict(processed_smiley_images)\n",
    "\n",
    "# Compute the silhouette score\n",
    "silhouette_avg = silhouette_score(processed_smiley_images, predicted_labels)\n",
    "print(\"Accuracy Score: {:.2f}%\".format(silhouette_avg * 100))\n"
   ]
  },
  {
   "cell_type": "markdown",
   "id": "80a1b049",
   "metadata": {},
   "source": [
    "Agglomerative Hierarchical Clustering for noisy data"
   ]
  },
  {
   "cell_type": "code",
   "execution_count": 151,
   "id": "78aa9d4c",
   "metadata": {},
   "outputs": [
    {
     "name": "stdout",
     "output_type": "stream",
     "text": [
      "Accuracy Score: 22.74%\n"
     ]
    }
   ],
   "source": [
    "# Initialize the AgglomerativeClustering model\n",
    "number_clusters = 3  \n",
    "linkage_type = 'ward'  \n",
    "agg_clustering_model = AgglomerativeClustering(n_clusters=number_clusters, linkage=linkage_type)\n",
    "\n",
    "# Fit the model to  data\n",
    "predicted_labels = agg_clustering_model.fit_predict(processed_noisy_images)\n",
    "\n",
    "# Compute the silhouette score\n",
    "silhouette_avg = silhouette_score(processed_noisy_images, predicted_labels)\n",
    "print(\"Accuracy Score: {:.2f}%\".format(silhouette_avg * 100))"
   ]
  },
  {
   "cell_type": "markdown",
   "id": "4a2b6df9",
   "metadata": {},
   "source": [
    "# Single Linkage"
   ]
  },
  {
   "cell_type": "code",
   "execution_count": 158,
   "id": "bb1b3eb0",
   "metadata": {},
   "outputs": [
    {
     "name": "stdout",
     "output_type": "stream",
     "text": [
      "Clustering Accuracy: 6.22%\n"
     ]
    }
   ],
   "source": [
    "# Preprocess the data if needed (e.g., scaling)\n",
    "scaled_smiley_data = preprocessing.scale(processed_smiley_images)\n",
    "\n",
    "# Apply PCA for dimensionality reduction if needed\n",
    "pca = PCA(n_components=2)\n",
    "reduced_smiley_data = pca.fit_transform(scaled_smiley_data)\n",
    "\n",
    "# Set the number of clusters\n",
    "num_clusters = 3\n",
    "\n",
    "# Perform hierarchical clustering using Single Linkage\n",
    "linkage_matrix = linkage(reduced_smiley_data, method='single')\n",
    "\n",
    "# Obtain the cluster assignments\n",
    "predicted_cluster_labels = fcluster(linkage_matrix, num_clusters, criterion='maxclust')\n",
    "\n",
    "# Assuming  ground truth labels available\n",
    "true_labels = processed_smiley_labels.values.flatten()\n",
    "\n",
    "# Compute accuracy\n",
    "clustering_accuracy = accuracy_score(true_labels, predicted_cluster_labels)\n",
    "print(\"Clustering Accuracy: {:.2f}%\".format(clustering_accuracy * 100))\n"
   ]
  },
  {
   "cell_type": "code",
   "execution_count": 160,
   "id": "43e7cc4d",
   "metadata": {},
   "outputs": [
    {
     "name": "stdout",
     "output_type": "stream",
     "text": [
      "Clustering Accuracy: 31.09%\n"
     ]
    }
   ],
   "source": [
    "# Preprocess the data if needed (e.g., scaling)\n",
    "scaled_noisy_data = preprocessing.scale(processed_noisy_images)\n",
    "\n",
    "# Apply PCA for dimensionality reduction if needed\n",
    "pca = PCA(n_components=2)\n",
    "reduced_noisy_data = pca.fit_transform(scaled_noisy_data)\n",
    "\n",
    "# Set the number of clusters\n",
    "num_clusters = 3\n",
    "\n",
    "# Perform hierarchical clustering using Single Linkage\n",
    "linkage_matrix = linkage(reduced_noisy_data, method='single')\n",
    "\n",
    "# Obtain the cluster assignments\n",
    "predicted_cluster_labels = fcluster(linkage_matrix, num_clusters, criterion='maxclust')\n",
    "\n",
    "# Assuming  ground truth labels available\n",
    "true_labels = processed_noisy_labels.values.flatten()\n",
    "\n",
    "# Compute accuracy\n",
    "clustering_accuracy = accuracy_score(true_labels, predicted_cluster_labels)\n",
    "print(\"Clustering Accuracy: {:.2f}%\".format(clustering_accuracy * 100))"
   ]
  },
  {
   "cell_type": "markdown",
   "id": "1fdda150",
   "metadata": {},
   "source": [
    "# DBSCAN Clustering"
   ]
  },
  {
   "cell_type": "code",
   "execution_count": 154,
   "id": "7f5c97c9",
   "metadata": {},
   "outputs": [
    {
     "name": "stdout",
     "output_type": "stream",
     "text": [
      "Accuracy: 0.00%\n"
     ]
    }
   ],
   "source": [
    "dbscan = DBSCAN(eps=0.5, min_samples=5)  \n",
    "dbscan.fit(processed_smiley_images)\n",
    "predicted_labels = dbscan.labels_\n",
    "true_labels = processed_smiley_labels.values.flatten()  # Flatten the ground truth labels\n",
    "\n",
    "accuracy = accuracy_score(true_labels, predicted_labels)\n",
    "print(\"Accuracy: {:.2f}%\".format(accuracy * 100))\n"
   ]
  },
  {
   "cell_type": "code",
   "execution_count": 155,
   "id": "5ab89189",
   "metadata": {},
   "outputs": [
    {
     "name": "stdout",
     "output_type": "stream",
     "text": [
      "Clustering Accuracy: 0.00%\n"
     ]
    }
   ],
   "source": [
    "dbscan_model = DBSCAN(eps=0.5, min_samples=5)  \n",
    "dbscan_model.fit(processed_noisy_images)\n",
    "predicted_cluster_labels = dbscan_model.labels_\n",
    "true_labels = processed_noisy_labels.values.flatten()  # Flatten the ground truth labels\n",
    "\n",
    "accuracy = accuracy_score(true_labels, predicted_cluster_labels)\n",
    "print(\"Clustering Accuracy: {:.2f}%\".format(accuracy * 100))\n"
   ]
  },
  {
   "cell_type": "markdown",
   "id": "dc5803e7",
   "metadata": {},
   "source": [
    "# 2nd exp"
   ]
  },
  {
   "cell_type": "markdown",
   "id": "c33f5613",
   "metadata": {},
   "source": [
    "Lets check with number of clusters 4"
   ]
  },
  {
   "cell_type": "markdown",
   "id": "6181815f",
   "metadata": {},
   "source": [
    "# k-means Clustering"
   ]
  },
  {
   "cell_type": "code",
   "execution_count": 161,
   "id": "8b0c012e",
   "metadata": {},
   "outputs": [
    {
     "name": "stdout",
     "output_type": "stream",
     "text": [
      "K-means Clustering Accuracy: 28.50%\n"
     ]
    }
   ],
   "source": [
    "# Performs k-means clustering\n",
    "number_clusters = 4\n",
    "kmeansclustering_model = KMeans(n_clusters=number_clusters, random_state=42)\n",
    "kmeansclustering_model.fit(processed_smiley_images)\n",
    "\n",
    "# Gets the predicted cluster labels\n",
    "predictedkmeans_clusters = kmeans_model.labels_\n",
    "\n",
    "# Evaluates the accuracy of clustering \n",
    "clustering_accuracy = accuracy_score(processed_smiley_labels.values.ravel(), predictedkmeans_clusters)\n",
    "print(\"K-means Clustering Accuracy: {:.2f}%\".format(clustering_accuracy * 100))"
   ]
  },
  {
   "cell_type": "markdown",
   "id": "9b775210",
   "metadata": {},
   "source": [
    "For noisy Data"
   ]
  },
  {
   "cell_type": "code",
   "execution_count": 162,
   "id": "2c973be4",
   "metadata": {},
   "outputs": [
    {
     "name": "stdout",
     "output_type": "stream",
     "text": [
      "K-means Clustering Accuracy: 29.53%\n"
     ]
    }
   ],
   "source": [
    "# Perform k-means clustering\n",
    "number_clusters = 4\n",
    "kmeansclustering_model = KMeans(n_clusters=number_clusters, random_state=42)\n",
    "kmeansclustering_model.fit(processed_noisy_images)\n",
    "\n",
    "# Get predicted cluster labels\n",
    "predictedkmeans_clusters = kmeans_model.labels_\n",
    "\n",
    "# Evaluate the accuracy of clustering \n",
    "clustering_accuracy = accuracy_score(processed_noisy_labels.values.ravel(), predictedkmeans_clusters)\n",
    "print(\"K-means Clustering Accuracy: {:.2f}%\".format(clustering_accuracy * 100))"
   ]
  },
  {
   "cell_type": "markdown",
   "id": "474b81a6",
   "metadata": {},
   "source": [
    "# GMM Clustering"
   ]
  },
  {
   "cell_type": "code",
   "execution_count": 163,
   "id": "b6350c9d",
   "metadata": {},
   "outputs": [
    {
     "name": "stdout",
     "output_type": "stream",
     "text": [
      "GMM Clustering Accuracy: 20.73%\n"
     ]
    }
   ],
   "source": [
    "# Convert DataFrame to NumPy array\n",
    "processed_smiley_images_array = processed_smiley_images.to_numpy()\n",
    "\n",
    "# Set the number of clusters \n",
    "number_clusters = 4\n",
    "\n",
    "# Instantiate and fit the Gaussian Mixture Model (GMM)\n",
    "gmm_model = GaussianMixture(n_components=number_clusters, random_state=0)\n",
    "gmm_model.fit(processed_smiley_images_array)\n",
    "\n",
    "# Obtain the predicted cluster labels\n",
    "predictedgmm_clusters = gmm_model.predict(processed_smiley_images_array)\n",
    "\n",
    "# Evaluate accuracy (optional if ground truth labels are available)\n",
    "clustering_accuracy = accuracy_score(processed_smiley_labels, predictedgmm_clusters)\n",
    "print(\"GMM Clustering Accuracy: {:.2f}%\".format(clustering_accuracy * 100))\n"
   ]
  },
  {
   "cell_type": "markdown",
   "id": "e3559942",
   "metadata": {},
   "source": [
    "GMM Clustering for the noisy data"
   ]
  },
  {
   "cell_type": "code",
   "execution_count": 164,
   "id": "754ba3ce",
   "metadata": {},
   "outputs": [
    {
     "name": "stdout",
     "output_type": "stream",
     "text": [
      "GMM Clustering Accuracy: 18.65%\n"
     ]
    }
   ],
   "source": [
    "# Convert DataFrame to NumPy array\n",
    "processed_noisy_images_array = processed_noisy_images.to_numpy()\n",
    "\n",
    "# Set the number of clusters \n",
    "number_clusters = 4\n",
    "\n",
    "# Instantiate and fit the Gaussian Mixture Model (GMM)\n",
    "gmm_model = GaussianMixture(n_components=number_clusters, random_state=0)\n",
    "gmm_model.fit(processed_noisy_images_array)\n",
    "\n",
    "# Obtain the predicted cluster labels\n",
    "predictedgmm_clusters = gmm_model.predict(processed_noisy_images_array)\n",
    "\n",
    "# Evaluate accuracy (optional if ground truth labels are available)\n",
    "clustering_accuracy = accuracy_score(processed_noisy_labels, predictedgmm_clusters)\n",
    "print(\"GMM Clustering Accuracy: {:.2f}%\".format(clustering_accuracy * 100))"
   ]
  },
  {
   "cell_type": "markdown",
   "id": "0c6d70a4",
   "metadata": {},
   "source": [
    "# Agglomerative Hierarchical Clustering"
   ]
  },
  {
   "cell_type": "code",
   "execution_count": 165,
   "id": "0da3d2d9",
   "metadata": {},
   "outputs": [
    {
     "name": "stdout",
     "output_type": "stream",
     "text": [
      "Accuracy Score: 27.34%\n"
     ]
    }
   ],
   "source": [
    "# Initialize the AgglomerativeClustering model\n",
    "number_clusters = 4 \n",
    "linkage_type = 'ward'  \n",
    "agg_clustering_model = AgglomerativeClustering(n_clusters=number_clusters, linkage=linkage_type)\n",
    "\n",
    "# Fit the model to data\n",
    "predicted_labels = agg_clustering_model.fit_predict(processed_smiley_images)\n",
    "\n",
    "# Compute the silhouette score\n",
    "silhouette_avg = silhouette_score(processed_smiley_images, predicted_labels)\n",
    "print(\"Accuracy Score: {:.2f}%\".format(silhouette_avg * 100))"
   ]
  },
  {
   "cell_type": "markdown",
   "id": "8478c9c7",
   "metadata": {},
   "source": [
    "Agglomerative Hierarchical Clustering for noisy data"
   ]
  },
  {
   "cell_type": "code",
   "execution_count": 166,
   "id": "dd229655",
   "metadata": {},
   "outputs": [
    {
     "name": "stdout",
     "output_type": "stream",
     "text": [
      "Accuracy Score: 26.11%\n"
     ]
    }
   ],
   "source": [
    "# Initialize the AgglomerativeClustering model\n",
    "number_clusters = 4  \n",
    "linkage_type = 'ward'  \n",
    "agg_clustering_model = AgglomerativeClustering(n_clusters=number_clusters, linkage=linkage_type)\n",
    "\n",
    "# Fit the model to data\n",
    "predicted_labels = agg_clustering_model.fit_predict(processed_noisy_images)\n",
    "\n",
    "# Compute the silhouette score\n",
    "silhouette_avg = silhouette_score(processed_noisy_images, predicted_labels)\n",
    "print(\"Accuracy Score: {:.2f}%\".format(silhouette_avg * 100))"
   ]
  },
  {
   "cell_type": "markdown",
   "id": "0ce0677f",
   "metadata": {},
   "source": [
    "# Single Linkagae"
   ]
  },
  {
   "cell_type": "code",
   "execution_count": 167,
   "id": "bf3cf404",
   "metadata": {},
   "outputs": [
    {
     "name": "stdout",
     "output_type": "stream",
     "text": [
      "Clustering Accuracy: 6.22%\n"
     ]
    }
   ],
   "source": [
    "# Preprocess the data if needed (e.g., scaling)\n",
    "scaled_smiley_data = preprocessing.scale(processed_smiley_images)\n",
    "\n",
    "# Apply PCA for dimensionality reduction if needed\n",
    "pca = PCA(n_components=2)\n",
    "reduced_smiley_data = pca.fit_transform(scaled_smiley_data)\n",
    "\n",
    "# Set the number of clusters\n",
    "num_clusters = 4\n",
    "\n",
    "# Perform hierarchical clustering using Single Linkage\n",
    "linkage_matrix = linkage(reduced_smiley_data, method='single')\n",
    "\n",
    "# Obtain the cluster assignments\n",
    "predicted_cluster_labels = fcluster(linkage_matrix, num_clusters, criterion='maxclust')\n",
    "\n",
    "# Assuming  ground truth labels available\n",
    "true_labels = processed_smiley_labels.values.flatten()\n",
    "\n",
    "# Compute accuracy\n",
    "clustering_accuracy = accuracy_score(true_labels, predicted_cluster_labels)\n",
    "print(\"Clustering Accuracy: {:.2f}%\".format(clustering_accuracy * 100))\n"
   ]
  },
  {
   "cell_type": "code",
   "execution_count": 168,
   "id": "dc97e27c",
   "metadata": {},
   "outputs": [
    {
     "name": "stdout",
     "output_type": "stream",
     "text": [
      "Clustering Accuracy: 31.09%\n"
     ]
    }
   ],
   "source": [
    "# Preprocess the data if needed (e.g., scaling)\n",
    "scaled_noisy_data = preprocessing.scale(processed_noisy_images)\n",
    "\n",
    "# Apply PCA for dimensionality reduction if needed\n",
    "pca = PCA(n_components=2)\n",
    "reduced_noisy_data = pca.fit_transform(scaled_noisy_data)\n",
    "\n",
    "# Set the number of clusters\n",
    "num_clusters = 4\n",
    "\n",
    "# Perform hierarchical clustering using Single Linkage\n",
    "linkage_matrix = linkage(reduced_noisy_data, method='single')\n",
    "\n",
    "# Obtain the cluster assignments\n",
    "predicted_cluster_labels = fcluster(linkage_matrix, num_clusters, criterion='maxclust')\n",
    "\n",
    "# Assuming  ground truth labels available\n",
    "true_labels = processed_noisy_labels.values.flatten()\n",
    "\n",
    "# Compute accuracy\n",
    "clustering_accuracy = accuracy_score(true_labels, predicted_cluster_labels)\n",
    "print(\"Clustering Accuracy: {:.2f}%\".format(clustering_accuracy * 100))"
   ]
  },
  {
   "cell_type": "markdown",
   "id": "e29d1549",
   "metadata": {},
   "source": [
    "# 3rd Exp"
   ]
  },
  {
   "cell_type": "markdown",
   "id": "8d65f1f2",
   "metadata": {},
   "source": [
    "Lets check with the number of clusters = 5"
   ]
  },
  {
   "cell_type": "markdown",
   "id": "c1865043",
   "metadata": {},
   "source": [
    "# k-means Clustering"
   ]
  },
  {
   "cell_type": "code",
   "execution_count": 169,
   "id": "3dff07b6",
   "metadata": {},
   "outputs": [
    {
     "name": "stdout",
     "output_type": "stream",
     "text": [
      "K-means Clustering Accuracy: 28.50%\n"
     ]
    }
   ],
   "source": [
    "# Performs k-means clustering\n",
    "number_clusters =5\n",
    "kmeansclustering_model = KMeans(n_clusters=number_clusters, random_state=42)\n",
    "kmeansclustering_model.fit(processed_smiley_images)\n",
    "\n",
    "# Gets the predicted cluster labels\n",
    "predictedkmeans_clusters = kmeans_model.labels_\n",
    "\n",
    "# Evaluates the accuracy of clustering \n",
    "clustering_accuracy = accuracy_score(processed_smiley_labels.values.ravel(), predictedkmeans_clusters)\n",
    "print(\"K-means Clustering Accuracy: {:.2f}%\".format(clustering_accuracy * 100))"
   ]
  },
  {
   "cell_type": "markdown",
   "id": "bd65c353",
   "metadata": {},
   "source": [
    "For noisy Data"
   ]
  },
  {
   "cell_type": "code",
   "execution_count": 170,
   "id": "32dfb1d1",
   "metadata": {},
   "outputs": [
    {
     "name": "stdout",
     "output_type": "stream",
     "text": [
      "K-means Clustering Accuracy: 29.53%\n"
     ]
    }
   ],
   "source": [
    "# Perform k-means clustering\n",
    "number_clusters = 5\n",
    "kmeansclustering_model = KMeans(n_clusters=number_clusters, random_state=42)\n",
    "kmeansclustering_model.fit(processed_noisy_images)\n",
    "\n",
    "# Get predicted cluster labels\n",
    "predictedkmeans_clusters = kmeans_model.labels_\n",
    "\n",
    "# Evaluate the accuracy of clustering \n",
    "clustering_accuracy = accuracy_score(processed_noisy_labels.values.ravel(), predictedkmeans_clusters)\n",
    "print(\"K-means Clustering Accuracy: {:.2f}%\".format(clustering_accuracy * 100))"
   ]
  },
  {
   "cell_type": "markdown",
   "id": "46fd37a5",
   "metadata": {},
   "source": [
    "# GMM Clustering"
   ]
  },
  {
   "cell_type": "code",
   "execution_count": 171,
   "id": "a7095801",
   "metadata": {},
   "outputs": [
    {
     "name": "stdout",
     "output_type": "stream",
     "text": [
      "GMM Clustering Accuracy: 20.73%\n"
     ]
    }
   ],
   "source": [
    "# Convert DataFrame to NumPy array\n",
    "processed_smiley_images_array = processed_smiley_images.to_numpy()\n",
    "\n",
    "# Set the number of clusters \n",
    "number_clusters = 5\n",
    "\n",
    "# Instantiate and fit the Gaussian Mixture Model (GMM)\n",
    "gmm_model = GaussianMixture(n_components=number_clusters, random_state=0)\n",
    "gmm_model.fit(processed_smiley_images_array)\n",
    "\n",
    "# Obtain the predicted cluster labels\n",
    "predictedgmm_clusters = gmm_model.predict(processed_smiley_images_array)\n",
    "\n",
    "# Evaluate accuracy (optional if ground truth labels are available)\n",
    "clustering_accuracy = accuracy_score(processed_smiley_labels, predictedgmm_clusters)\n",
    "print(\"GMM Clustering Accuracy: {:.2f}%\".format(clustering_accuracy * 100))\n"
   ]
  },
  {
   "cell_type": "markdown",
   "id": "395c7c7c",
   "metadata": {},
   "source": [
    "GMM Clustering for the noisy data"
   ]
  },
  {
   "cell_type": "code",
   "execution_count": 172,
   "id": "236f0937",
   "metadata": {},
   "outputs": [
    {
     "name": "stdout",
     "output_type": "stream",
     "text": [
      "GMM Clustering Accuracy: 9.33%\n"
     ]
    }
   ],
   "source": [
    "# Convert DataFrame to NumPy array\n",
    "processed_noisy_images_array = processed_noisy_images.to_numpy()\n",
    "\n",
    "# Set the number of clusters \n",
    "number_clusters = 5\n",
    "\n",
    "# Instantiate and fit the Gaussian Mixture Model (GMM)\n",
    "gmm_model = GaussianMixture(n_components=number_clusters, random_state=0)\n",
    "gmm_model.fit(processed_noisy_images_array)\n",
    "\n",
    "# Obtain the predicted cluster labels\n",
    "predictedgmm_clusters = gmm_model.predict(processed_noisy_images_array)\n",
    "\n",
    "# Evaluate accuracy (optional if ground truth labels are available)\n",
    "clustering_accuracy = accuracy_score(processed_noisy_labels, predictedgmm_clusters)\n",
    "print(\"GMM Clustering Accuracy: {:.2f}%\".format(clustering_accuracy * 100))"
   ]
  },
  {
   "cell_type": "markdown",
   "id": "8662230b",
   "metadata": {},
   "source": [
    "# Agglomerative Hierarchical Clustering"
   ]
  },
  {
   "cell_type": "code",
   "execution_count": 173,
   "id": "f40a3484",
   "metadata": {},
   "outputs": [
    {
     "name": "stdout",
     "output_type": "stream",
     "text": [
      "Accuracy Score: 25.81%\n"
     ]
    }
   ],
   "source": [
    "# Initialize the AgglomerativeClustering model\n",
    "number_clusters = 5 \n",
    "linkage_type = 'ward'  \n",
    "agg_clustering_model = AgglomerativeClustering(n_clusters=number_clusters, linkage=linkage_type)\n",
    "\n",
    "# Fit the model to data\n",
    "predicted_labels = agg_clustering_model.fit_predict(processed_smiley_images)\n",
    "\n",
    "# Compute the silhouette score\n",
    "silhouette_avg = silhouette_score(processed_smiley_images, predicted_labels)\n",
    "print(\"Accuracy Score: {:.2f}%\".format(silhouette_avg * 100))"
   ]
  },
  {
   "cell_type": "markdown",
   "id": "aedfc22d",
   "metadata": {},
   "source": [
    "Agglomerative Hierarchical Clustering for noisy data"
   ]
  },
  {
   "cell_type": "code",
   "execution_count": 174,
   "id": "c6815471",
   "metadata": {},
   "outputs": [
    {
     "name": "stdout",
     "output_type": "stream",
     "text": [
      "Accuracy Score: 26.74%\n"
     ]
    }
   ],
   "source": [
    "# Initialize the AgglomerativeClustering model\n",
    "number_clusters = 5  \n",
    "linkage_type = 'ward'  \n",
    "agg_clustering_model = AgglomerativeClustering(n_clusters=number_clusters, linkage=linkage_type)\n",
    "\n",
    "# Fit the model to data\n",
    "predicted_labels = agg_clustering_model.fit_predict(processed_noisy_images)\n",
    "\n",
    "# Compute the silhouette score\n",
    "silhouette_avg = silhouette_score(processed_noisy_images, predicted_labels)\n",
    "print(\"Accuracy Score: {:.2f}%\".format(silhouette_avg * 100))"
   ]
  },
  {
   "cell_type": "markdown",
   "id": "64eee6d4",
   "metadata": {},
   "source": [
    "# Single Linkagae"
   ]
  },
  {
   "cell_type": "code",
   "execution_count": 175,
   "id": "3ed87398",
   "metadata": {},
   "outputs": [
    {
     "name": "stdout",
     "output_type": "stream",
     "text": [
      "Clustering Accuracy: 6.22%\n"
     ]
    }
   ],
   "source": [
    "# Preprocess the data if needed (e.g., scaling)\n",
    "scaled_smiley_data = preprocessing.scale(processed_smiley_images)\n",
    "\n",
    "# Apply PCA for dimensionality reduction if needed\n",
    "pca = PCA(n_components=2)\n",
    "reduced_smiley_data = pca.fit_transform(scaled_smiley_data)\n",
    "\n",
    "# Set the number of clusters\n",
    "num_clusters = 5\n",
    "\n",
    "# Perform hierarchical clustering using Single Linkage\n",
    "linkage_matrix = linkage(reduced_smiley_data, method='single')\n",
    "\n",
    "# Obtain the cluster assignments\n",
    "predicted_cluster_labels = fcluster(linkage_matrix, num_clusters, criterion='maxclust')\n",
    "\n",
    "# Assuming  ground truth labels available\n",
    "true_labels = processed_smiley_labels.values.flatten()\n",
    "\n",
    "# Compute accuracy\n",
    "clustering_accuracy = accuracy_score(true_labels, predicted_cluster_labels)\n",
    "print(\"Clustering Accuracy: {:.2f}%\".format(clustering_accuracy * 100))\n"
   ]
  },
  {
   "cell_type": "code",
   "execution_count": 176,
   "id": "af30136c",
   "metadata": {},
   "outputs": [
    {
     "name": "stdout",
     "output_type": "stream",
     "text": [
      "Clustering Accuracy: 6.22%\n"
     ]
    }
   ],
   "source": [
    "# Preprocess the data if needed (e.g., scaling)\n",
    "scaled_noisy_data = preprocessing.scale(processed_noisy_images)\n",
    "\n",
    "# Apply PCA for dimensionality reduction if needed\n",
    "pca = PCA(n_components=2)\n",
    "reduced_noisy_data = pca.fit_transform(scaled_noisy_data)\n",
    "\n",
    "# Set the number of clusters\n",
    "num_clusters = 5\n",
    "\n",
    "# Perform hierarchical clustering using Single Linkage\n",
    "linkage_matrix = linkage(reduced_noisy_data, method='single')\n",
    "\n",
    "# Obtain the cluster assignments\n",
    "predicted_cluster_labels = fcluster(linkage_matrix, num_clusters, criterion='maxclust')\n",
    "\n",
    "# Assuming  ground truth labels available\n",
    "true_labels = processed_noisy_labels.values.flatten()\n",
    "\n",
    "# Compute accuracy\n",
    "clustering_accuracy = accuracy_score(true_labels, predicted_cluster_labels)\n",
    "print(\"Clustering Accuracy: {:.2f}%\".format(clustering_accuracy * 100))"
   ]
  },
  {
   "cell_type": "markdown",
   "id": "476b6da7",
   "metadata": {},
   "source": [
    "# 4Th Exp"
   ]
  },
  {
   "cell_type": "markdown",
   "id": "37e87c9a",
   "metadata": {},
   "source": [
    "Lets check clustering on the data with the number of clusters is 6"
   ]
  },
  {
   "cell_type": "markdown",
   "id": "8bb055c0",
   "metadata": {},
   "source": [
    "# k-means Clustering"
   ]
  },
  {
   "cell_type": "code",
   "execution_count": 177,
   "id": "21ef0cd0",
   "metadata": {},
   "outputs": [
    {
     "name": "stdout",
     "output_type": "stream",
     "text": [
      "K-means Clustering Accuracy: 28.50%\n"
     ]
    }
   ],
   "source": [
    "# Performs k-means clustering\n",
    "number_clusters = 6\n",
    "kmeansclustering_model = KMeans(n_clusters=number_clusters, random_state=42)\n",
    "kmeansclustering_model.fit(processed_smiley_images)\n",
    "\n",
    "# Gets the predicted cluster labels\n",
    "predictedkmeans_clusters = kmeans_model.labels_\n",
    "\n",
    "# Evaluates the accuracy of clustering \n",
    "clustering_accuracy = accuracy_score(processed_smiley_labels.values.ravel(), predictedkmeans_clusters)\n",
    "print(\"K-means Clustering Accuracy: {:.2f}%\".format(clustering_accuracy * 100))"
   ]
  },
  {
   "cell_type": "markdown",
   "id": "db59fceb",
   "metadata": {},
   "source": [
    "For noisy Data"
   ]
  },
  {
   "cell_type": "code",
   "execution_count": 130,
   "id": "47adbffa",
   "metadata": {},
   "outputs": [
    {
     "name": "stdout",
     "output_type": "stream",
     "text": [
      "K-means Clustering Accuracy: 30.57%\n"
     ]
    }
   ],
   "source": [
    "# Perform k-means clustering\n",
    "number_clusters = 6\n",
    "kmeansclustering_model = KMeans(n_clusters=number_clusters, random_state=42)\n",
    "kmeansclustering_model.fit(processed_noisy_images)\n",
    "\n",
    "# Get predicted cluster labels\n",
    "predictedkmeans_clusters = kmeans_model.labels_\n",
    "\n",
    "# Evaluate the accuracy of clustering \n",
    "clustering_accuracy = accuracy_score(processed_noisy_labels.values.ravel(), predictedkmeans_clusters)\n",
    "print(\"K-means Clustering Accuracy: {:.2f}%\".format(clustering_accuracy * 100))"
   ]
  },
  {
   "cell_type": "markdown",
   "id": "2b43aa0e",
   "metadata": {},
   "source": [
    "# GMM Clustering"
   ]
  },
  {
   "cell_type": "code",
   "execution_count": 178,
   "id": "c2815a32",
   "metadata": {},
   "outputs": [
    {
     "name": "stdout",
     "output_type": "stream",
     "text": [
      "GMM Clustering Accuracy: 14.51%\n"
     ]
    }
   ],
   "source": [
    "# Convert DataFrame to NumPy array\n",
    "processed_smiley_images_array = processed_smiley_images.to_numpy()\n",
    "\n",
    "# Set the number of clusters \n",
    "number_clusters =6\n",
    "\n",
    "# Instantiate and fit the Gaussian Mixture Model (GMM)\n",
    "gmm_model = GaussianMixture(n_components=number_clusters, random_state=0)\n",
    "gmm_model.fit(processed_smiley_images_array)\n",
    "\n",
    "# Obtain the predicted cluster labels\n",
    "predictedgmm_clusters = gmm_model.predict(processed_smiley_images_array)\n",
    "\n",
    "# Evaluate accuracy (optional if ground truth labels are available)\n",
    "clustering_accuracy = accuracy_score(processed_smiley_labels, predictedgmm_clusters)\n",
    "print(\"GMM Clustering Accuracy: {:.2f}%\".format(clustering_accuracy * 100))\n"
   ]
  },
  {
   "cell_type": "markdown",
   "id": "ecf27c4f",
   "metadata": {},
   "source": [
    "GMM Clustering for the noisy data"
   ]
  },
  {
   "cell_type": "code",
   "execution_count": 179,
   "id": "377dc39d",
   "metadata": {},
   "outputs": [
    {
     "name": "stdout",
     "output_type": "stream",
     "text": [
      "GMM Clustering Accuracy: 9.33%\n"
     ]
    }
   ],
   "source": [
    "# Convert DataFrame to NumPy array\n",
    "processed_noisy_images_array = processed_noisy_images.to_numpy()\n",
    "\n",
    "# Set the number of clusters \n",
    "number_clusters = 6\n",
    "\n",
    "# Instantiate and fit the Gaussian Mixture Model (GMM)\n",
    "gmm_model = GaussianMixture(n_components=number_clusters, random_state=0)\n",
    "gmm_model.fit(processed_noisy_images_array)\n",
    "\n",
    "# Obtain the predicted cluster labels\n",
    "predictedgmm_clusters = gmm_model.predict(processed_noisy_images_array)\n",
    "\n",
    "# Evaluate accuracy (optional if ground truth labels are available)\n",
    "clustering_accuracy = accuracy_score(processed_noisy_labels, predictedgmm_clusters)\n",
    "print(\"GMM Clustering Accuracy: {:.2f}%\".format(clustering_accuracy * 100))"
   ]
  },
  {
   "cell_type": "markdown",
   "id": "a02ac8ae",
   "metadata": {},
   "source": [
    "# Agglomerative Hierarchical Clustering"
   ]
  },
  {
   "cell_type": "code",
   "execution_count": 180,
   "id": "4b4cedd6",
   "metadata": {},
   "outputs": [
    {
     "name": "stdout",
     "output_type": "stream",
     "text": [
      "Accuracy Score: 27.53%\n"
     ]
    }
   ],
   "source": [
    "# Initialize the AgglomerativeClustering model\n",
    "number_clusters = 6 \n",
    "linkage_type = 'ward'  \n",
    "agg_clustering_model = AgglomerativeClustering(n_clusters=number_clusters, linkage=linkage_type)\n",
    "\n",
    "# Fit the model to  data\n",
    "predicted_labels = agg_clustering_model.fit_predict(processed_smiley_images)\n",
    "\n",
    "# Compute the silhouette score\n",
    "silhouette_avg = silhouette_score(processed_smiley_images, predicted_labels)\n",
    "print(\"Accuracy Score: {:.2f}%\".format(silhouette_avg * 100))"
   ]
  },
  {
   "cell_type": "markdown",
   "id": "38f9b06a",
   "metadata": {},
   "source": [
    "Agglomerative Hierarchical Clustering for noisy data"
   ]
  },
  {
   "cell_type": "code",
   "execution_count": 181,
   "id": "20d2a473",
   "metadata": {},
   "outputs": [
    {
     "name": "stdout",
     "output_type": "stream",
     "text": [
      "Accuracy Score: 27.27%\n"
     ]
    }
   ],
   "source": [
    "# Initialize the AgglomerativeClustering model\n",
    "number_clusters =6  \n",
    "linkage_type = 'ward'  \n",
    "agg_clustering_model = AgglomerativeClustering(n_clusters=number_clusters, linkage=linkage_type)\n",
    "\n",
    "# Fit the model to  data\n",
    "predicted_labels = agg_clustering_model.fit_predict(processed_noisy_images)\n",
    "\n",
    "# Compute the silhouette score\n",
    "silhouette_avg = silhouette_score(processed_noisy_images, predicted_labels)\n",
    "print(\"Accuracy Score: {:.2f}%\".format(silhouette_avg * 100))"
   ]
  },
  {
   "cell_type": "markdown",
   "id": "02232691",
   "metadata": {},
   "source": [
    "# Single Linkagae"
   ]
  },
  {
   "cell_type": "code",
   "execution_count": 182,
   "id": "96712477",
   "metadata": {},
   "outputs": [
    {
     "name": "stdout",
     "output_type": "stream",
     "text": [
      "Clustering Accuracy: 6.22%\n"
     ]
    }
   ],
   "source": [
    "# Preprocess the data if needed (e.g., scaling)\n",
    "scaled_smiley_data = preprocessing.scale(processed_smiley_images)\n",
    "\n",
    "# Apply PCA for dimensionality reduction if needed\n",
    "pca = PCA(n_components=2)\n",
    "reduced_smiley_data = pca.fit_transform(scaled_smiley_data)\n",
    "\n",
    "# Set the number of clusters\n",
    "num_clusters = 6\n",
    "\n",
    "# Perform hierarchical clustering using Single Linkage\n",
    "linkage_matrix = linkage(reduced_smiley_data, method='single')\n",
    "\n",
    "# Obtain the cluster assignments\n",
    "predicted_cluster_labels = fcluster(linkage_matrix, num_clusters, criterion='maxclust')\n",
    "\n",
    "# Assuming  ground truth labels available\n",
    "true_labels = processed_smiley_labels.values.flatten()\n",
    "\n",
    "# Compute accuracy\n",
    "clustering_accuracy = accuracy_score(true_labels, predicted_cluster_labels)\n",
    "print(\"Clustering Accuracy: {:.2f}%\".format(clustering_accuracy * 100))\n"
   ]
  },
  {
   "cell_type": "code",
   "execution_count": 183,
   "id": "f191b428",
   "metadata": {},
   "outputs": [
    {
     "name": "stdout",
     "output_type": "stream",
     "text": [
      "Clustering Accuracy: 6.22%\n"
     ]
    }
   ],
   "source": [
    "# Preprocess the data if needed (e.g., scaling)\n",
    "scaled_noisy_data = preprocessing.scale(processed_noisy_images)\n",
    "\n",
    "# Apply PCA for dimensionality reduction if needed\n",
    "pca = PCA(n_components=2)\n",
    "reduced_noisy_data = pca.fit_transform(scaled_noisy_data)\n",
    "\n",
    "# Set the number of clusters\n",
    "num_clusters = 6\n",
    "\n",
    "# Perform hierarchical clustering using Single Linkage\n",
    "linkage_matrix = linkage(reduced_noisy_data, method='single')\n",
    "\n",
    "# Obtain the cluster assignments\n",
    "predicted_cluster_labels = fcluster(linkage_matrix, num_clusters, criterion='maxclust')\n",
    "\n",
    "# Assuming  ground truth labels available\n",
    "true_labels = processed_noisy_labels.values.flatten()\n",
    "\n",
    "# Compute accuracy\n",
    "clustering_accuracy = accuracy_score(true_labels, predicted_cluster_labels)\n",
    "print(\"Clustering Accuracy: {:.2f}%\".format(clustering_accuracy * 100))"
   ]
  },
  {
   "cell_type": "markdown",
   "id": "02e8a779",
   "metadata": {},
   "source": [
    "In conclusion, the k-means clustering algorithm demonstrated an accuracy range of 28% to 30%. Conversely, the Gaussian Mixture Model (GMM) clustering exhibited a decline in accuracy as the number of clusters increased.\n",
    "\n",
    "Subsequently, the exploration of Agglomerative Hierarchical Clustering revealed that increasing the number of clusters resulted in improved accuracy.\n",
    "\n",
    "On the other hand, the DBSCAN algorithm performed poorly in the initial experiment with 3 clusters, achieving 0% accuracy, leading to its exclusion from further experiments. \n",
    "\n",
    "Following that, the Single Linkage algorithm produced varying results, with accuracy rates of either 31% or 6%.\n",
    "\n",
    "These experiments highlighted the time-consuming nature of manually testing different algorithms and cluster numbers. To streamline the process, techniques like the elbow method and Silhouette score can be utilized to automatically determine the optimal number of clusters for each algorithm."
   ]
  },
  {
   "cell_type": "markdown",
   "id": "0725e171",
   "metadata": {},
   "source": [
    "# Elbow Method"
   ]
  },
  {
   "cell_type": "markdown",
   "id": "837b687e",
   "metadata": {},
   "source": [
    "The Elbow Method is a technique used to find the best number of clusters for grouping similar data points together. In smiley face dataset, it helps us determine how many different groups (clusters) we should create for the smiley face images. To do this, calculate a value called the Sum of Squared Distances (SSE) for different numbers of clusters (k). We then plot these SSE values on a graph to create what is called the \"Elbow curve.\"\n",
    "\n",
    "With the Elbow curve, we can visually identify the \"elbow\" point, which is the optimal number of clusters. It's the point where adding more clusters doesn't significantly reduce the SSE anymore. Once we know the optimal number of clusters (k), we proceed to apply the K-means Clustering algorithm.\n",
    "\n",
    "K-means Clustering is a method that divides our smiley face images into the determined number of clusters (k). Each cluster represents a group of images that are similar to each other. This helps us organize and group the images based on their similarities.\n",
    "\n",
    "To evaluate how well our K-means Clustering worked, we calculate two metrics: the Silhouette Score and the Davies-Bouldin Index.\n",
    "\n",
    "   - The Silhouette Score measures how well-defined the clusters are. It looks at how close the data points are to the other points in the same cluster compared to the nearest neighboring cluster. A higher Silhouette Score means that the clusters are well-separated and distinct.\n",
    "\n",
    "   - The Davies-Bouldin Index assesses the quality of the clustering by considering both the compactness within each cluster and the separation between different clusters. A lower Davies-Bouldin Index suggests better clustering results.\n",
    "\n",
    "Also calculated the Cosine Similarity between two specific smiley face images. Cosine Similarity is a way to measure how similar two images are to each other. It gives us a value between -1 and 1, where 1 indicates that the images are very similar, and -1 means they are very dissimilar.\n"
   ]
  },
  {
   "cell_type": "code",
   "execution_count": 210,
   "id": "5301c925",
   "metadata": {},
   "outputs": [
    {
     "data": {
      "image/png": "[encoded data removed]",
      "text/plain": [
       "<Figure size 640x480 with 1 Axes>"
      ]
     },
     "metadata": {},
     "output_type": "display_data"
    },
    {
     "name": "stdout",
     "output_type": "stream",
     "text": [
      "Silhouette Score (K-means): 0.22229146740598543\n",
      "Davies-Bouldin Index (K-means): 1.7375930662531982\n",
      "Cosine Similarity between Image 6 and Image 5: [[0.88888889]]\n"
     ]
    }
   ],
   "source": [
    "# Convert the processed data to numpy arrays\n",
    "data_matrix = processed_smiley_images.values\n",
    "labels = processed_smiley_labels.values.flatten()\n",
    "\n",
    "# 1. Elbow Method to determine the optimal number of clusters\n",
    "sse_values = []\n",
    "k_values = range(2, 11)\n",
    "for k in k_values:\n",
    "    kmeans = KMeans(n_clusters=k, random_state=42)\n",
    "    kmeans.fit(data_matrix)\n",
    "    sse_values.append(kmeans.inertia_)\n",
    "\n",
    "# Plotting the Elbow curve\n",
    "plt.plot(k_values, sse_values, 'bo-')\n",
    "plt.xlabel('Number of Clusters (k)')\n",
    "plt.ylabel('Sum of Squared Distances')\n",
    "plt.title('Elbow Method for Optimal k')\n",
    "plt.show()\n",
    "\n",
    "# Determine the optimal number of clusters from the Elbow curve\n",
    "optimal_k =3  \n",
    "\n",
    "# 2. K-means Clustering with the optimal number of clusters\n",
    "kmeans_model = KMeans(n_clusters=optimal_k, random_state=42)\n",
    "kmeans_model.fit(data_matrix)\n",
    "\n",
    "# Silhouette score to evaluate the clustering quality\n",
    "silhouette_avg = silhouette_score(data_matrix, kmeans_model.labels_)\n",
    "print(\"Silhouette Score (K-means):\", silhouette_avg)\n",
    "\n",
    "# Davies-Bouldin index to evaluate the clustering quality\n",
    "db_index = davies_bouldin_score(data_matrix, kmeans_model.labels_)\n",
    "print(\"Davies-Bouldin Index (K-means):\", db_index)\n",
    "\n",
    "# 3. Similarity Measures between two images\n",
    "image1 = processed_smiley_images.iloc[6].values\n",
    "image2 = processed_smiley_images.iloc[5].values\n",
    "\n",
    "image1 = image1.reshape(1, -1)\n",
    "image2 = image2.reshape(1, -1)\n",
    "\n",
    "# Cosine similarity between the two images\n",
    "cosine_sim = cosine_similarity(image1, image2)\n",
    "print(\"Cosine Similarity between Image 6 and Image 5:\", cosine_sim)\n"
   ]
  },
  {
   "cell_type": "markdown",
   "id": "03da39e3",
   "metadata": {},
   "source": [
    "Silhouette Score close to 0.22 means that the clusters are somewhat distinct from each other, suggesting that the clustering process has been moderately successful.\n",
    "On the other hand, the Davies-Bouldin Index with a value of approximately 1.74, the result indicates that the clusters are relatively compact and reasonably separated from one another. \n",
    "\n",
    "The output indicate that the K-means clustering successfully grouped the smiley face images into separate clusters, and the images within each cluster are moderately similar to one another. This means the algorithm was able to identify some distinct patterns in the data, allowing it to create meaningful groups of smiley faces.\n",
    "\n",
    "Furthermore, when compared Image 6th and Image 5th using Cosine Similarity, we found that they have a relatively high similarity score of 0.88. This suggests that these two images share many common features and are quite similar in terms of their content. So, visually, Image 1 and Image 2 likely look quite alike as they share similar characteristics or shapes in their smiley faces.\n",
    "\n",
    "Elbow Point:\n",
    "To find the ptimal number of clusters for smiley faces data, we look for the \"elbow\" point on the graph. This is the point where the graph changes from a steep decline to a more gradual decrease. In this case, after analyzing the data, I believe that the optimal number of clusters is 7."
   ]
  },
  {
   "cell_type": "code",
   "execution_count": 221,
   "id": "22e09162",
   "metadata": {},
   "outputs": [
    {
     "data": {
      "image/png": "[encoded data removed]",
      "text/plain": [
       "<Figure size 640x480 with 1 Axes>"
      ]
     },
     "metadata": {},
     "output_type": "display_data"
    },
    {
     "name": "stdout",
     "output_type": "stream",
     "text": [
      "Silhouette Score (GMM) with Optimal k: 0.22229146740598543\n",
      "Davies-Bouldin Index (GMM) with Optimal k: 1.7375930662531982\n",
      "Cosine Similarity between two images: [[0.77777778]]\n"
     ]
    }
   ],
   "source": [
    "# Convert the processed data to numpy arrays\n",
    "X = processed_smiley_images.values\n",
    "y = processed_smiley_labels.values.flatten()\n",
    "\n",
    "# 1. Silhouette Method to Determine Optimal Number of Clusters\n",
    "silhouette_scores = []\n",
    "k_values = range(2, 11)\n",
    "for k in k_values:\n",
    "    gmm = GaussianMixture(n_components=k, random_state=42)\n",
    "    gmm.fit(X)\n",
    "    cluster_labels = gmm.predict(X)\n",
    "    silhouette_scores.append(silhouette_score(X, cluster_labels))\n",
    "\n",
    "# Plot the Silhouette scores\n",
    "plt.plot(k_values, silhouette_scores, 'bo-')\n",
    "plt.xlabel('Number of Clusters (k)')\n",
    "plt.ylabel('Silhouette Score')\n",
    "plt.title('Silhouette Method for Optimal k')\n",
    "plt.show()\n",
    "\n",
    "# Determine the optimal number of clusters from the Silhouette curve\n",
    "optimal_k = 3  \n",
    "\n",
    "# 2. Cluster Validity Measures (GMM)\n",
    "gmm = GaussianMixture(n_components=optimal_k, random_state=42)\n",
    "gmm.fit(X)\n",
    "\n",
    "# Silhouette score\n",
    "silhouette_avg = silhouette_score(X, gmm.predict(X))\n",
    "print(\"Silhouette Score (GMM) with Optimal k:\", silhouette_avg)\n",
    "\n",
    "# Davies-Bouldin index\n",
    "db_index = davies_bouldin_score(X, gmm.predict(X))\n",
    "print(\"Davies-Bouldin Index (GMM) with Optimal k:\", db_index)\n",
    "\n",
    "# 3. Similarity Measures\n",
    "img1 = processed_smiley_images.iloc[4].values\n",
    "img2 = processed_smiley_images.iloc[6].values\n",
    "\n",
    "img1 = img1.reshape(1, -1)\n",
    "img2 = img2.reshape(1, -1)\n",
    "\n",
    "# Cosine similarity\n",
    "cosine_sim = cosine_similarity(img1, img2)\n",
    "print(\"Cosine Similarity between two images:\", cosine_sim)\n"
   ]
  },
  {
   "cell_type": "markdown",
   "id": "483dd621",
   "metadata": {},
   "source": [
    "The plot will display a curve that shows how the Silhouette scores change as we try different numbers of clusters (k) in our smiley faces dataset. The Silhouette score measures how well the data points are grouped within their clusters.\n",
    "\n",
    "By looking at the curve, we can identify the point where the Silhouette score is highest. This point corresponds to the optimal number of clusters for our data. In our smiley faces dataset, we can see that cluster 7 has the highest Silhouette score, indicating that dividing the data into 7 clusters is the most effective way to group the smiley faces using the Gaussian Mixture Model (GMM) algorithm."
   ]
  },
  {
   "cell_type": "markdown",
   "id": "0f5a5d13",
   "metadata": {},
   "source": [
    "# Part 3"
   ]
  },
  {
   "cell_type": "markdown",
   "id": "29b749e5",
   "metadata": {},
   "source": [
    "# Supervised Learning: Generalisation & Overfitting; Decision trees"
   ]
  },
  {
   "cell_type": "markdown",
   "id": "61067ec6",
   "metadata": {},
   "source": [
    "In this part we will see supervised learning where a model is taught using labeled data to recognize patterns and make predictions. It learns to make accurate predictions on new data instead of simply memorizing the examples it was trained on. Overfitting can happen when the model becomes too fixated on the training data, which can lead to poor performance on new, unseen data.\n",
    "Also decision trees, these the models used in machine learning for tasks like sorting things into categories or making numerical predictions. They make decisions by looking at different features and dividing the data into smaller groups."
   ]
  },
  {
   "cell_type": "code",
   "execution_count": 227,
   "id": "cd77973b",
   "metadata": {},
   "outputs": [
    {
     "name": "stdout",
     "output_type": "stream",
     "text": [
      "Accuracy on Training Set: 1.0\n",
      "Average Accuracy (10-fold CV): 0.9800000000000001\n",
      "Accuracy on Test Set: 0.9743589743589743\n",
      "Classification Report:\n",
      "               precision    recall  f1-score   support\n",
      "\n",
      "         0.0       1.00      1.00      1.00        11\n",
      "         1.0       0.91      1.00      0.95        10\n",
      "         2.0       1.00      0.94      0.97        18\n",
      "\n",
      "    accuracy                           0.97        39\n",
      "   macro avg       0.97      0.98      0.97        39\n",
      "weighted avg       0.98      0.97      0.97        39\n",
      "\n",
      "ROC AUC Score: 0.9849936143039592\n"
     ]
    }
   ],
   "source": [
    "# Convert the processed data to numpy arrays\n",
    "features = processed_smiley_images.values\n",
    "labels = processed_smiley_labels.values.flatten()\n",
    "\n",
    "# Creates a Test Set\n",
    "from sklearn.model_selection import train_test_split\n",
    "X_train, X_test, y_train, y_test = train_test_split(features, labels, test_size=0.2, random_state=42)\n",
    "\n",
    "# Train the Decision Tree Model\n",
    "from sklearn.tree import DecisionTreeClassifier\n",
    "clf = DecisionTreeClassifier()\n",
    "clf.fit(X_train, y_train)\n",
    "\n",
    "# Measures the Accuracy on the Training Set\n",
    "from sklearn.metrics import accuracy_score\n",
    "train_predictions = clf.predict(X_train)\n",
    "train_accuracy = accuracy_score(y_train, train_predictions)\n",
    "print(\"Accuracy on Training Set:\", train_accuracy)\n",
    "\n",
    "#Performs 10-fold Cross-Validation\n",
    "from sklearn.model_selection import cross_val_score\n",
    "import numpy as np\n",
    "cv_scores = cross_val_score(clf, X_train, y_train, cv=10)\n",
    "average_cv_accuracy = np.mean(cv_scores)\n",
    "print(\"Average Accuracy (10-fold CV):\", average_cv_accuracy)\n",
    "\n",
    "#Record and Analyze Findings\n",
    "test_predictions = clf.predict(X_test)\n",
    "test_accuracy = accuracy_score(y_test, test_predictions)\n",
    "print(\"Accuracy on Test Set:\", test_accuracy)\n",
    "\n",
    "from sklearn.metrics import classification_report\n",
    "classification_rep = classification_report(y_test, test_predictions)\n",
    "print(\"Classification Report:\\n\", classification_rep)\n",
    "\n",
    "# Optional - ROC Curve and AUC\n",
    "from sklearn.metrics import roc_auc_score\n",
    "test_probabilities = clf.predict_proba(X_test)\n",
    "roc_auc = roc_auc_score(y_test, test_probabilities, multi_class='ovr')\n",
    "print(\"ROC AUC Score:\", roc_auc)\n"
   ]
  },
  {
   "cell_type": "code",
   "execution_count": 60,
   "id": "646634fd",
   "metadata": {
    "scrolled": true
   },
   "outputs": [
    {
     "name": "stdout",
     "output_type": "stream",
     "text": [
      "Accuracy on Test Set: 0.9743589743589743\n",
      "Classification Report:\n",
      "               precision    recall  f1-score   support\n",
      "\n",
      "         0.0       0.92      1.00      0.96        11\n",
      "         1.0       1.00      0.91      0.95        11\n",
      "         2.0       1.00      1.00      1.00        17\n",
      "\n",
      "    accuracy                           0.97        39\n",
      "   macro avg       0.97      0.97      0.97        39\n",
      "weighted avg       0.98      0.97      0.97        39\n",
      "\n"
     ]
    }
   ],
   "source": [
    "# Converts data to numpy arrays\n",
    "X_data = processed_smiley_images.values\n",
    "y_labels = processed_smiley_labels.values.flatten()\n",
    "\n",
    "# Creates Training and Testing Data Sets\n",
    "X_train, X_test, y_train, y_test = train_test_split(X_data, y_labels, test_size=0.2, random_state=42)\n",
    "\n",
    "# Trains the Decision Tree Model\n",
    "classifier = DecisionTreeClassifier()\n",
    "classifier.fit(X_train, y_train)\n",
    "\n",
    "#Test the Classifier Using the Test Data Set\n",
    "y_test_pred = classifier.predict(X_test)\n",
    "test_accuracy = accuracy_score(y_test, y_test_pred)\n",
    "print(\"Accuracy on Test Set:\", test_accuracy)\n",
    "\n",
    "classification_rep = classification_report(y_test, y_test_pred)\n",
    "print(\"Classification Report:\\n\", classification_rep)\n"
   ]
  },
  {
   "cell_type": "markdown",
   "id": "64e0b8aa",
   "metadata": {},
   "source": [
    "Accuracy on Training Set: 1.0\n",
    "The decision tree classifier achieved a perfect accuracy of 100% on the training set. This means that it was able to correctly classify all the samples in the training data. \n",
    "\n",
    "Average Accuracy (10-fold CV): 0.9800000000000001\n",
    "The decision tree classifier achieved an average accuracy of approximately 98.% during 10-fold cross-validation. Cross-validation helps estimate the model's performance on unseen data by splitting the data into multiple folds and evaluating the model on different combinations of training and validation sets.\n",
    "\n",
    "Accuracy on Test Set: 0.9743589743589743\n",
    "The decision tree classifier achieved an accuracy of approximately 97% on the test set. This indicates that the model performed well on the unseen test data, which is a positive sign.\n",
    "\n",
    "Classification Report:\n",
    "The precision, recall, and F1-score values are high for all three classes (sad, neutral, happy), indicating that the classifier is performing well in terms of correctly identifying instances of each class. The support column represents the number of samples in each class.\n",
    "\n",
    "ROC AUC Score: 0.9849936143039592\n",
    "The Receiver Operating Characteristic (ROC) Area Under the Curve (AUC) score measures the classifier's ability to distinguish between different classes. The score of approximately 0.985 indicates that the decision tree classifier has good discriminatory power. \n",
    "\n",
    "\n",
    "From these findings, it seems that the decision tree classifier generalizes well to new data. The high accuracy on the test set and consistent performance metrics across training, cross-validation, and test sets suggest that the model is able to effectively classify smiley faces into the three categories (sad, neutral, happy). "
   ]
  },
  {
   "cell_type": "markdown",
   "id": "e6d65461",
   "metadata": {},
   "source": [
    "Now lets perform with our noisy data"
   ]
  },
  {
   "cell_type": "code",
   "execution_count": 59,
   "id": "f202346f",
   "metadata": {},
   "outputs": [
    {
     "name": "stdout",
     "output_type": "stream",
     "text": [
      "Accuracy on Training Set: 1.0\n",
      "Average Accuracy (10-fold CV): 0.9875\n",
      "Accuracy on Test Set: 0.9743589743589743\n",
      "Classification Report:\n",
      "               precision    recall  f1-score   support\n",
      "\n",
      "         0.0       0.92      1.00      0.96        11\n",
      "         1.0       1.00      0.91      0.95        11\n",
      "         2.0       1.00      1.00      1.00        17\n",
      "\n",
      "    accuracy                           0.97        39\n",
      "   macro avg       0.97      0.97      0.97        39\n",
      "weighted avg       0.98      0.97      0.97        39\n",
      "\n",
      "ROC AUC Score: 0.9788961038961039\n"
     ]
    }
   ],
   "source": [
    "# Convert the processed data to numpy arrays\n",
    "features = processed_noisy_images.values\n",
    "labels = processed_noisy_labels.values.flatten()\n",
    "\n",
    "# Creates a Test Set\n",
    "from sklearn.model_selection import train_test_split\n",
    "X_train, X_test, y_train, y_test = train_test_split(features, labels, test_size=0.2, random_state=42)\n",
    "\n",
    "# Train the Decision Tree Model\n",
    "from sklearn.tree import DecisionTreeClassifier\n",
    "clf = DecisionTreeClassifier()\n",
    "clf.fit(X_train, y_train)\n",
    "\n",
    "# Measures the Accuracy on the Training Set\n",
    "from sklearn.metrics import accuracy_score\n",
    "train_predictions = clf.predict(X_train)\n",
    "train_accuracy = accuracy_score(y_train, train_predictions)\n",
    "print(\"Accuracy on Training Set:\", train_accuracy)\n",
    "\n",
    "#Performs 10-fold Cross-Validation\n",
    "from sklearn.model_selection import cross_val_score\n",
    "import numpy as np\n",
    "cv_scores = cross_val_score(clf, X_train, y_train, cv=10)\n",
    "average_cv_accuracy = np.mean(cv_scores)\n",
    "print(\"Average Accuracy (10-fold CV):\", average_cv_accuracy)\n",
    "\n",
    "#Record and Analyze Findings\n",
    "test_predictions = clf.predict(X_test)\n",
    "test_accuracy = accuracy_score(y_test, test_predictions)\n",
    "print(\"Accuracy on Test Set:\", test_accuracy)\n",
    "\n",
    "from sklearn.metrics import classification_report\n",
    "classification_rep = classification_report(y_test, test_predictions)\n",
    "print(\"Classification Report:\\n\", classification_rep)\n",
    "\n",
    "# Optional - ROC Curve and AUC\n",
    "from sklearn.metrics import roc_auc_score\n",
    "test_probabilities = clf.predict_proba(X_test)\n",
    "roc_auc = roc_auc_score(y_test, test_probabilities, multi_class='ovr')\n",
    "print(\"ROC AUC Score:\", roc_auc)\n"
   ]
  },
  {
   "cell_type": "code",
   "execution_count": 61,
   "id": "66fa1278",
   "metadata": {},
   "outputs": [
    {
     "name": "stdout",
     "output_type": "stream",
     "text": [
      "Accuracy on Test Set: 0.9743589743589743\n",
      "Classification Report:\n",
      "               precision    recall  f1-score   support\n",
      "\n",
      "         0.0       0.92      1.00      0.96        11\n",
      "         1.0       1.00      0.91      0.95        11\n",
      "         2.0       1.00      1.00      1.00        17\n",
      "\n",
      "    accuracy                           0.97        39\n",
      "   macro avg       0.97      0.97      0.97        39\n",
      "weighted avg       0.98      0.97      0.97        39\n",
      "\n"
     ]
    }
   ],
   "source": [
    "# Converts data to numpy arrays\n",
    "X_data = processed_noisy_images.values\n",
    "y_labels = processed_noisy_labels.values.flatten()\n",
    "\n",
    "# Creates Training and Testing Data Sets\n",
    "X_train, X_test, y_train, y_test = train_test_split(X_data, y_labels, test_size=0.2, random_state=42)\n",
    "\n",
    "# Trains the Decision Tree Model\n",
    "classifier = DecisionTreeClassifier()\n",
    "classifier.fit(X_train, y_train)\n",
    "\n",
    "#Test the Classifier Using the Test Data Set\n",
    "y_test_pred = classifier.predict(X_test)\n",
    "test_accuracy = accuracy_score(y_test, y_test_pred)\n",
    "print(\"Accuracy on Test Set:\", test_accuracy)\n",
    "\n",
    "classification_rep = classification_report(y_test, y_test_pred)\n",
    "print(\"Classification Report:\\n\", classification_rep)\n"
   ]
  },
  {
   "cell_type": "markdown",
   "id": "db6fe803",
   "metadata": {},
   "source": [
    "Its showing Quite same results as our normal data"
   ]
  },
  {
   "cell_type": "code",
   "execution_count": 241,
   "id": "bb24c0dd",
   "metadata": {},
   "outputs": [
    {
     "name": "stdout",
     "output_type": "stream",
     "text": [
      "\n",
      "Max Depth: 5, Criterion: gini\n",
      "10-fold Accuracy:  0.8594736842105263\n",
      "10-fold Precision:  0.8926444900129111\n",
      "10-fold Recall:  0.8594736842105263\n",
      "10-fold F1-score:  0.8401311167332839\n",
      "10-fold ROC AUC score:  0.9691772700983228\n",
      "\n",
      "Max Depth: 10, Criterion: gini\n",
      "10-fold Accuracy:  0.9842105263157895\n",
      "10-fold Precision:  0.9908834586466165\n",
      "10-fold Recall:  0.9789473684210526\n",
      "10-fold F1-score:  0.9789203778677462\n",
      "10-fold ROC AUC score:  0.9919871794871795\n",
      "\n",
      "Max Depth: 20, Criterion: gini\n",
      "10-fold Accuracy:  0.9894736842105264\n",
      "10-fold Precision:  0.9908834586466165\n",
      "10-fold Recall:  0.9894736842105264\n",
      "10-fold F1-score:  0.9788565820144767\n",
      "10-fold ROC AUC score:  0.9923076923076923\n",
      "\n",
      "Max Depth: 50, Criterion: gini\n",
      "10-fold Accuracy:  0.9842105263157895\n",
      "10-fold Precision:  0.9902255639097743\n",
      "10-fold Recall:  0.9842105263157894\n",
      "10-fold F1-score:  0.9895104895104895\n",
      "10-fold ROC AUC score:  0.9881410256410257\n",
      "\n",
      "Max Depth: 100, Criterion: gini\n",
      "10-fold Accuracy:  0.9736842105263157\n",
      "10-fold Precision:  0.9864974937343358\n",
      "10-fold Recall:  0.9789473684210526\n",
      "10-fold F1-score:  0.9894736842105264\n",
      "10-fold ROC AUC score:  0.987820512820513\n"
     ]
    }
   ],
   "source": [
    "# Convert the data to pandas DataFrame\n",
    "processed_images_df = pd.DataFrame(smiley_X_clean)\n",
    "processed_labels_df = pd.DataFrame(smiley_Y_clean)\n",
    "\n",
    "# Define the function for C4.5 evaluation\n",
    "def perform_C45_evaluation(X, y, max_depth_values, criterion=\"gini\"):\n",
    "    for depth in max_depth_values:\n",
    "        clf = DecisionTreeClassifier(max_depth=depth, criterion=criterion)\n",
    "        accuracy = cross_val_score(clf, X, y, cv=10, scoring='accuracy').mean()\n",
    "        precision = cross_val_score(clf, X, y, cv=10, scoring='precision_weighted').mean()\n",
    "        recall = cross_val_score(clf, X, y, cv=10, scoring='recall_weighted').mean()\n",
    "        f1_score = cross_val_score(clf, X, y, cv=10, scoring='f1_weighted').mean()\n",
    "        roc_auc = cross_val_score(clf, X, y, cv=10, scoring='roc_auc_ovr_weighted').mean()\n",
    "\n",
    "        print(f'\\nMax Depth: {depth}, Criterion: {criterion}')\n",
    "        print(\"10-fold Accuracy: \", accuracy)\n",
    "        print(\"10-fold Precision: \", precision)\n",
    "        print(\"10-fold Recall: \", recall)\n",
    "        print(\"10-fold F1-score: \", f1_score)\n",
    "        print(\"10-fold ROC AUC score: \", roc_auc)\n",
    "\n",
    "# Convert the processed data to numpy arrays\n",
    "X_data = processed_images_df.values\n",
    "y_labels = processed_labels_df.values.flatten()\n",
    "\n",
    "# Define the maximum depth values to test\n",
    "max_depth_values_to_test = [5, 10, 20, 50, 100]\n",
    "\n",
    "# Perform C4.5 evaluation\n",
    "perform_C45_evaluation(X_data, y_labels, max_depth_values_to_test)\n"
   ]
  },
  {
   "cell_type": "code",
   "execution_count": 245,
   "id": "c004c70e",
   "metadata": {},
   "outputs": [
    {
     "name": "stdout",
     "output_type": "stream",
     "text": [
      "Best Parameters: {'criterion': 'gini', 'max_depth': 10, 'min_samples_leaf': 1, 'min_samples_split': 5}\n",
      "Accuracy on Test Set with Best Model: 0.9487179487179487\n",
      "Classification Report with Best Model:\n",
      "               precision    recall  f1-score   support\n",
      "\n",
      "         0.0       0.92      1.00      0.96        11\n",
      "         1.0       0.91      1.00      0.95        10\n",
      "         2.0       1.00      0.89      0.94        18\n",
      "\n",
      "    accuracy                           0.95        39\n",
      "   macro avg       0.94      0.96      0.95        39\n",
      "weighted avg       0.95      0.95      0.95        39\n",
      "\n"
     ]
    }
   ],
   "source": [
    "# Convert the processed data to numpy arrays\n",
    "X_dataDT = processed_smiley_images.values\n",
    "y_dataDT = processed_smiley_labels.values.flatten()\n",
    "\n",
    "# Create Training and Testing Data Sets\n",
    "X_train, X_test, y_train, y_test = train_test_split(X_dataDT, y_dataDT, test_size=0.2, random_state=42)\n",
    "\n",
    "# Define the Decision Tree Classifier\n",
    "classifier = DecisionTreeClassifier()\n",
    "\n",
    "# Define the parameter grid for grid search\n",
    "param_grid = {\n",
    "    'max_depth': [5, 10, 15],\n",
    "    'min_samples_leaf': [1, 5, 10],\n",
    "    'criterion': ['gini', 'entropy'],\n",
    "    'min_samples_split': [2, 5, 10],\n",
    "}\n",
    "\n",
    "# Perform Grid Search with 10-fold cross-validation\n",
    "grid_search_cv = GridSearchCV(classifier, param_grid, cv=10)\n",
    "grid_search_cv.fit(X_train, y_train)\n",
    "\n",
    "# Get the best parameters and the best model from grid search\n",
    "best_parameters = grid_search_cv.best_params_\n",
    "print(\"Best Parameters:\", best_parameters)\n",
    "\n",
    "best_classifier = grid_search_cv.best_estimator_\n",
    "\n",
    "# Evaluate the Best Model on Test Set\n",
    "y_test_pred = best_classifier.predict(X_test)\n",
    "test_accuracy = accuracy_score(y_test, y_test_pred)\n",
    "print(\"Accuracy on Test Set with Best Model:\", test_accuracy)\n",
    "\n",
    "classification_report_str = classification_report(y_test, y_test_pred)\n",
    "print(\"Classification Report with Best Model:\\n\", classification_report_str)\n"
   ]
  },
  {
   "cell_type": "markdown",
   "id": "1e000a7a",
   "metadata": {},
   "source": [
    "Conducted experiments using a decision tree classifier with different settings to see how they affect its performance. Here's what we discovered:\n",
    "\n",
    "1. Max Depth:\n",
    "   - Increasing the maximum depth of the tree improved its performance on the training data.\n",
    "   - However, when the depth became too large, the model started memorizing the training data and didn't do well on new, unseen data (test set).\n",
    "   - The best balance was achieved with a max depth of 20.\n",
    "\n",
    "2. Splitting Criteria:\n",
    "   - The \"gini\" criterion provided good results across different tree depths and seemed to be suitable for this dataset.\n",
    "\n",
    "3. Minimal Number of Instances per Leaf (min_samples_leaf):\n",
    "   - We didn't see explicit variations in this parameter, so we couldn't draw specific conclusions about its impact.\n",
    "\n",
    "4. Confidence Threshold for Pruning (min_samples_split):\n",
    "   - Similar to min_samples_leaf, we couldn't draw specific conclusions about this parameter's influence.\n",
    "\n",
    "The best model had a max depth of 10 and used the \"gini\" criterion. It performed well on the test set with high accuracy, precision, recall, and F1-score for all classes.\n",
    "\n",
    "Experimenting with different decision tree parameters is essential to find the best configuration that avoids overfitting and generalizes well to new data. The \"gini\" criterion appears to be a good choice for this dataset."
   ]
  },
  {
   "cell_type": "markdown",
   "id": "0918ce68",
   "metadata": {},
   "source": [
    "First Experiment  (30% Instances to Testing Set):"
   ]
  },
  {
   "cell_type": "code",
   "execution_count": 249,
   "id": "dcf1c5ce",
   "metadata": {},
   "outputs": [
    {
     "name": "stdout",
     "output_type": "stream",
     "text": [
      "Accuracy on New Training Set (30% Instances to Testing Set): 1.0\n",
      "Accuracy on New Testing Set (30% Instances to Testing Set): 1.0\n"
     ]
    }
   ],
   "source": [
    "# Convert the processed data to numpy arrays\n",
    "X_data = processed_smiley_images.values\n",
    "y_data = processed_smiley_labels.values.flatten()\n",
    "\n",
    "# Create Original Training and Testing Data Sets\n",
    "X_train_orig, X_test_orig, y_train_orig, y_test_orig = train_test_split(X_data, y_data, test_size=0.2, random_state=42)\n",
    "\n",
    "# Create New Training and Testing Data Sets (30% Instances to Testing Set)\n",
    "X_train_new, X_test_new, y_train_new, y_test_new = train_test_split(X_train_orig, y_train_orig, test_size=0.3, random_state=42)\n",
    "\n",
    "# Define the Decision Tree Classifier\n",
    "classifier = DecisionTreeClassifier()\n",
    "\n",
    "# Train the Decision Tree Model on the New Training Set (30% Instances to Testing Set)\n",
    "classifier.fit(X_train_new, y_train_new)\n",
    "\n",
    "# Evaluate Accuracy on New Training Set (30% Instances to Testing Set)\n",
    "y_train_pred_new = classifier.predict(X_train_new)\n",
    "train_accuracy_new = accuracy_score(y_train_new, y_train_pred_new)\n",
    "print(\"Accuracy on New Training Set (30% Instances to Testing Set):\", train_accuracy_new)\n",
    "\n",
    "# Evaluate Accuracy on New Testing Set (30% Instances to Testing Set)\n",
    "y_test_pred_new = classifier.predict(X_test_new)\n",
    "test_accuracy_new = accuracy_score(y_test_new, y_test_pred_new)\n",
    "print(\"Accuracy on New Testing Set (30% Instances to Testing Set):\", test_accuracy_new)\n"
   ]
  },
  {
   "cell_type": "markdown",
   "id": "4b3ed2ed",
   "metadata": {},
   "source": [
    "First Experiment  (60% Instances to Testing Set):"
   ]
  },
  {
   "cell_type": "code",
   "execution_count": 250,
   "id": "ceb06107",
   "metadata": {},
   "outputs": [
    {
     "name": "stdout",
     "output_type": "stream",
     "text": [
      "Accuracy on New Training Set (60% Instances to Testing Set): 1.0\n",
      "Accuracy on New Testing Set (60% Instances to Testing Set): 0.989247311827957\n"
     ]
    }
   ],
   "source": [
    "\n",
    "# Convert the processed data to numpy arrays\n",
    "X_data = processed_smiley_images.values\n",
    "y_data = processed_smiley_labels.values.flatten()\n",
    "\n",
    "# Create Original Training and Testing Data Sets\n",
    "X_train_original, X_test_original, y_train_original, y_test_original = train_test_split(X_data, y_data, test_size=0.2, random_state=42)\n",
    "\n",
    "# Create New Training and Testing Data Sets (60% Instances to Testing Set)\n",
    "X_train_new, X_test_new, y_train_new, y_test_new = train_test_split(X_train_original, y_train_original, test_size=0.6, random_state=42)\n",
    "\n",
    "# Define the Decision Tree Classifier\n",
    "classifier = DecisionTreeClassifier()\n",
    "\n",
    "# Train the Decision Tree Model on the New Training Set (60% Instances to Testing Set)\n",
    "classifier.fit(X_train_new, y_train_new)\n",
    "\n",
    "# Evaluate Accuracy on New Training Set (60% Instances to Testing Set)\n",
    "y_train_pred_new = classifier.predict(X_train_new)\n",
    "train_accuracy_new = accuracy_score(y_train_new, y_train_pred_new)\n",
    "print(\"Accuracy on New Training Set (60% Instances to Testing Set):\", train_accuracy_new)\n",
    "\n",
    "# Evaluate Accuracy on New Testing Set (60% Instances to Testing Set)\n",
    "y_test_pred_new = classifier.predict(X_test_new)\n",
    "test_accuracy_new = accuracy_score(y_test_new, y_test_pred_new)\n",
    "print(\"Accuracy on New Testing Set (60% Instances to Testing Set):\", test_accuracy_new)\n"
   ]
  },
  {
   "cell_type": "markdown",
   "id": "0e488478",
   "metadata": {},
   "source": [
    "From the results of the two experiments, it is evident that the Decision Tree Classifier is experiencing overfitting. Overfitting occurs when a model fits the training data too well, memorizing the noise and specific details of the training set rather than learning general patterns that can be applied to new, unseen data.\n",
    "\n",
    "In both experiments, the accuracy on the training set is 1.0, which means the classifier achieves a perfect score on the data it has seen during training. This indicates that the classifier is able to memorize the training data and fit it very well, without making any errors. However, this perfect performance on the training set does not necessarily indicate a good model.\n",
    "\n",
    "In the first experiment, where 30% of instances were moved to the testing set, the classifier achieved a high accuracy of 1 on the testing set. While this accuracy is good, it is eaxct like the training accuracy. This suggests that the model is  completely overfitting in this case.\n",
    "\n",
    "In the second experiment, where 60% of instances were moved to the testing set, the classifier achieved a testing accuracy of 0.9677, which is still quite high but slightly lower than the accuracy in the first experiment. However, the key observation is that the accuracy on the testing set is lower than the accuracy on the training set, indicating overfitting is more pronounced.\n",
    "\n",
    "Overall, the results suggest that as we increase the size of the testing set (i.e., reducing the size of the training set), the classifier's performance on the testing set starts to drop, indicating overfitting. The model performs exceptionally well on the data it has seen during training but does not generalize as effectively to new, unseen data.\n",
    "\n",
    "Conclusions:\n",
    "The Decision Tree Classifier is overfitting to some extent in both experiments, as indicated by the higher accuracy on the training set compared to the testing set. \n",
    "The overfitting becomes more pronounced when the size of the testing set is increased (60% instances to testing set), leading to a larger drop in accuracy on the testing set.\n",
    "To address overfitting, it might be necessary to apply regularization techniques, such as limiting the maximum depth of the tree, setting a minimum number of samples required to split an internal node, or pruning the tree after training.\n",
    "Monitoring the performance on the testing set and comparing it to the training set can help detect and manage overfitting, as it provides insights into the model's ability to generalize."
   ]
  },
  {
   "cell_type": "markdown",
   "id": "2d123fa6",
   "metadata": {},
   "source": [
    "# Random Forests"
   ]
  },
  {
   "cell_type": "code",
   "execution_count": 254,
   "id": "ee658ff0",
   "metadata": {},
   "outputs": [
    {
     "name": "stdout",
     "output_type": "stream",
     "text": [
      "Accuracy on Training Set: 1.0\n",
      "Average Accuracy (10-fold CV): 1.0\n",
      "Accuracy on Test Set: 1.0\n",
      "Classification Report:\n",
      "               precision    recall  f1-score   support\n",
      "\n",
      "         0.0       1.00      1.00      1.00        11\n",
      "         1.0       1.00      1.00      1.00        10\n",
      "         2.0       1.00      1.00      1.00        18\n",
      "\n",
      "    accuracy                           1.00        39\n",
      "   macro avg       1.00      1.00      1.00        39\n",
      "weighted avg       1.00      1.00      1.00        39\n",
      "\n",
      "ROC AUC Score: 1.0\n"
     ]
    }
   ],
   "source": [
    "# Convert the processed data to numpy arrays\n",
    "X_data = processed_smiley_images.values\n",
    "y_data = processed_smiley_labels.values.flatten()\n",
    "\n",
    "# Split the data into training and testing sets\n",
    "X_train, X_test, y_train, y_test = train_test_split(X_data, y_data, test_size=0.2, random_state=42) \n",
    "\n",
    "# Create a Random Forest Classifier with a specified random state\n",
    "classifier = RandomForestClassifier(random_state=42) \n",
    "\n",
    "# Train the classifier on the training set\n",
    "classifier.fit(X_train, y_train)\n",
    "\n",
    "# Evaluate accuracy on the training set\n",
    "y_train_pred = classifier.predict(X_train)\n",
    "train_accuracy = accuracy_score(y_train, y_train_pred)\n",
    "print(\"Accuracy on Training Set:\", train_accuracy)\n",
    "\n",
    "# Perform 10-fold cross-validation and calculate average accuracy\n",
    "cv_scores = cross_val_score(classifier, X_train, y_train, cv=10)\n",
    "average_cv_accuracy = np.mean(cv_scores)\n",
    "print(\"Average Accuracy (10-fold CV):\", average_cv_accuracy)\n",
    "\n",
    "# Evaluate accuracy on the test set\n",
    "y_test_pred = classifier.predict(X_test)\n",
    "test_accuracy = accuracy_score(y_test, y_test_pred)\n",
    "print(\"Accuracy on Test Set:\", test_accuracy)\n",
    "\n",
    "# Generate the classification report for the test set\n",
    "classification_rep = classification_report(y_test, y_test_pred)\n",
    "print(\"Classification Report:\\n\", classification_rep)\n",
    "\n",
    "# Calculate ROC AUC score for multi-class classification\n",
    "y_test_proba = classifier.predict_proba(X_test)\n",
    "roc_auc = roc_auc_score(y_test, y_test_proba, multi_class='ovr')\n",
    "print(\"ROC AUC Score:\", roc_auc)\n"
   ]
  },
  {
   "cell_type": "code",
   "execution_count": 255,
   "id": "2e2118e6",
   "metadata": {},
   "outputs": [
    {
     "name": "stdout",
     "output_type": "stream",
     "text": [
      "Accuracy on Training Set: 1.0\n",
      "Average Accuracy (10-fold CV): 1.0\n",
      "Accuracy on Test Set: 1.0\n",
      "Classification Report:\n",
      "               precision    recall  f1-score   support\n",
      "\n",
      "         0.0       1.00      1.00      1.00        11\n",
      "         1.0       1.00      1.00      1.00        10\n",
      "         2.0       1.00      1.00      1.00        18\n",
      "\n",
      "    accuracy                           1.00        39\n",
      "   macro avg       1.00      1.00      1.00        39\n",
      "weighted avg       1.00      1.00      1.00        39\n",
      "\n",
      "ROC AUC Score: 1.0\n"
     ]
    }
   ],
   "source": [
    "# Convert the processed data to numpy arrays\n",
    "X_data = processed_smiley_images.values\n",
    "y_data = processed_smiley_labels.values.flatten()\n",
    "\n",
    "# Split the data into training and testing sets\n",
    "X_train_data, X_test_data, y_train_data, y_test_data = train_test_split(X_data, y_data, test_size=0.2, random_state=42) \n",
    "\n",
    "# Create a Random Forest Classifier with a specified random state\n",
    "rf_classifier = RandomForestClassifier(random_state=42)  \n",
    "\n",
    "# Train the classifier on the training set\n",
    "rf_classifier.fit(X_train_data, y_train_data)\n",
    "\n",
    "# Evaluate accuracy on the training set\n",
    "y_train_pred_data = rf_classifier.predict(X_train_data)\n",
    "train_accuracy_data = accuracy_score(y_train_data, y_train_pred_data)\n",
    "print(\"Accuracy on Training Set:\", train_accuracy_data)\n",
    "\n",
    "# Perform 10-fold cross-validation and calculate average accuracy\n",
    "cv_scores_data = cross_val_score(rf_classifier, X_train_data, y_train_data, cv=10)\n",
    "average_cv_accuracy_data = np.mean(cv_scores_data)\n",
    "print(\"Average Accuracy (10-fold CV):\", average_cv_accuracy_data)\n",
    "\n",
    "# Evaluate accuracy on the test set\n",
    "y_test_pred_data = rf_classifier.predict(X_test_data)\n",
    "test_accuracy_data = accuracy_score(y_test_data, y_test_pred_data)\n",
    "print(\"Accuracy on Test Set:\", test_accuracy_data)\n",
    "\n",
    "# Generate the classification report for the test set\n",
    "classification_rep_data = classification_report(y_test_data, y_test_pred_data)\n",
    "print(\"Classification Report:\\n\", classification_rep_data)\n",
    "\n",
    "# Calculate ROC AUC score for multi-class classification\n",
    "y_test_proba_data = rf_classifier.predict_proba(X_test_data)\n",
    "roc_auc_data = roc_auc_score(y_test_data, y_test_proba_data, multi_class='ovr')\n",
    "print(\"ROC AUC Score:\", roc_auc_data)\n"
   ]
  },
  {
   "cell_type": "markdown",
   "id": "019d8465",
   "metadata": {},
   "source": [
    "it appears that the decision tree model generalizes very well to new data.\n",
    "\n",
    "Here's why:\n",
    "\n",
    "High Accuracy on Training Set: In the first task, the decision tree achieved an accuracy of 1.0 (100%) on the training set, meaning it correctly predicted all the samples in the training data. This might indicate a possibility of overfitting since the model memorized the training data perfectly.\n",
    "\n",
    "High Accuracy on Test Set: In the second task, when the model was evaluated on the test set (unseen data), it again achieved an accuracy of 1.0 (100%). This indicates that the decision tree is capable of making accurate predictions on new, unseen data.\n",
    "\n",
    "Classification Report: The classification report in both tasks shows perfect precision, recall, and F1-score values for all three classes (happy, neutral, and sad). The support values for each class match the number of samples in the test set for each class, indicating that the model has made correct predictions for all instances of each class.\n",
    "\n",
    "ROC AUC Score: In the first task, the ROC AUC score is also perfect (1.0) for all classes, suggesting that the model has excellent discriminative power and is able to distinguish between different classes effectively.\n",
    "\n",
    "Considering all these factors, it can be concluded that the decision tree model generalizes extremely well to new data. However, it's important to be cautious when interpreting such high accuracy and perfect results, as it could be an indication of overfitting. In practice, it is essential to validate the model on larger and more diverse datasets to gain more confidence in its generalization capabilities. "
   ]
  },
  {
   "cell_type": "code",
   "execution_count": 42,
   "id": "729643a4",
   "metadata": {},
   "outputs": [
    {
     "name": "stdout",
     "output_type": "stream",
     "text": [
      "Best Parameters: {'criterion': 'gini', 'max_depth': 10, 'min_samples_leaf': 1, 'min_samples_split': 2, 'n_estimators': 50}\n",
      "Accuracy on Test Set with Best Model: 1.0\n",
      "Classification Report with Best Model:\n",
      "               precision    recall  f1-score   support\n",
      "\n",
      "         0.0       1.00      1.00      1.00        11\n",
      "         1.0       1.00      1.00      1.00        10\n",
      "         2.0       1.00      1.00      1.00        18\n",
      "\n",
      "    accuracy                           1.00        39\n",
      "   macro avg       1.00      1.00      1.00        39\n",
      "weighted avg       1.00      1.00      1.00        39\n",
      "\n"
     ]
    }
   ],
   "source": [
    "\n",
    "# Convert the data into pandas dataframes\n",
    "processed_smiley_images = pd.DataFrame(smiley_X_clean)\n",
    "processed_smiley_labels = pd.DataFrame(smiley_Y_clean)\n",
    "\n",
    "# Convert the processed data to numpy arrays\n",
    "X = processed_smiley_images.values\n",
    "y = processed_smiley_labels.values.flatten()\n",
    "\n",
    "# Create Training and Testing Data Sets\n",
    "X_train, X_test, y_train, y_test = train_test_split(X, y, test_size=0.2, random_state=42)\n",
    "\n",
    "# Define the Random Forest Classifier\n",
    "clf = RandomForestClassifier(random_state=42)\n",
    "\n",
    "# Define the parameter grid for grid search\n",
    "param_grid = {\n",
    "    'n_estimators': [50, 100, 150],\n",
    "    'max_depth': [5, 10, 15],\n",
    "    'min_samples_leaf': [1, 5, 10],\n",
    "    'criterion': ['gini', 'entropy'],\n",
    "    'min_samples_split': [2, 5, 10],\n",
    "}\n",
    "\n",
    "# Perform Grid Search with 10-fold cross-validation\n",
    "grid_search = GridSearchCV(clf, param_grid, cv=10)\n",
    "grid_search.fit(X_train, y_train)\n",
    "\n",
    "# Get the best parameters and the best model from grid search\n",
    "best_params = grid_search.best_params_\n",
    "print(\"Best Parameters:\", best_params)\n",
    "\n",
    "best_clf = grid_search.best_estimator_\n",
    "\n",
    "# Evaluate the Best Model on Test Set\n",
    "y_test_pred = best_clf.predict(X_test)\n",
    "test_accuracy = accuracy_score(y_test, y_test_pred)\n",
    "print(\"Accuracy on Test Set with Best Model:\", test_accuracy)\n",
    "\n",
    "classification_rep = classification_report(y_test, y_test_pred)\n",
    "print(\"Classification Report with Best Model:\\n\", classification_rep)\n"
   ]
  },
  {
   "cell_type": "markdown",
   "id": "e0cb66b4",
   "metadata": {},
   "source": [
    "Conclusion:\n",
    "\n",
    "After conducting a grid search with 10-fold cross-validation on the Random Forest Classifier, we found the best combination of hyperparameters, which are {'criterion': 'gini', 'max_depth': 10, 'min_samples_leaf': 1, 'min_samples_split': 2, 'n_estimators': 50}. Using these optimized parameters, we evaluated the model on the test set, and the results were remarkable, achieving a perfect accuracy of 100%.\n",
    "\n",
    "The classification report provides further insights into the model's performance on the test set. For all three smiley face classes (0, 1, and 2), the precision, recall, and F1-score were all excellent, with a perfect score of 1.00. This means that the model made no errors in classifying instances from each class and demonstrated a flawless precision and recall for all classes.\n",
    "\n",
    "Both the macro average and weighted average F1-scores are also 1.00, which indicates an outstanding overall performance of the best model on the test set.\n",
    "\n",
    "In conclusion, the grid search successfully identified the best hyperparameters for the Random Forest Classifier, resulting in an exceptional and flawless model for classifying smiley face images on the given test dataset. The model's 100% accuracy makes it highly reliable for this specific task. However, it's essential to keep in mind that while the model performs exceptionally well on this particular test set, its performance on new and unseen data."
   ]
  },
  {
   "cell_type": "markdown",
   "id": "73309c1a",
   "metadata": {},
   "source": [
    "30% instances"
   ]
  },
  {
   "cell_type": "code",
   "execution_count": 236,
   "id": "da2d067d",
   "metadata": {},
   "outputs": [
    {
     "name": "stdout",
     "output_type": "stream",
     "text": [
      "Accuracy on New Training Set (30% Instances to Testing Set): 1.0\n",
      "Accuracy on New Testing Set (30% Instances to Testing Set): 1.0\n"
     ]
    }
   ],
   "source": [
    "\n",
    "# Convert the processed data to numpy arrays\n",
    "X = processed_smiley_images.values\n",
    "y = processed_smiley_labels.values.flatten()\n",
    "\n",
    "# Create Original Training and Testing Data Sets\n",
    "X_train_orig, X_test_orig, y_train_orig, y_test_orig = train_test_split(X, y, test_size=0.2, random_state=42)\n",
    "\n",
    "# Create New Training and Testing Data Sets (30% Instances to Testing Set)\n",
    "X_train_30, X_test_30, y_train_30, y_test_30 = train_test_split(X_train_orig, y_train_orig, test_size=0.3, random_state=42)\n",
    "\n",
    "# Define the Random Forest Classifier\n",
    "clf = RandomForestClassifier(random_state=42)\n",
    "\n",
    "# Train the Random Forest Model on the New Training Set (30% Instances to Testing Set)\n",
    "clf.fit(X_train_30, y_train_30)\n",
    "\n",
    "# Evaluate Accuracy on New Training Set (30% Instances to Testing Set)\n",
    "y_train_pred_30 = clf.predict(X_train_30)\n",
    "train_accuracy_30 = accuracy_score(y_train_30, y_train_pred_30)\n",
    "print(\"Accuracy on New Training Set (30% Instances to Testing Set):\", train_accuracy_30)\n",
    "\n",
    "# Evaluate Accuracy on New Testing Set (30% Instances to Testing Set)\n",
    "y_test_pred_30 = clf.predict(X_test_30)\n",
    "test_accuracy_30 = accuracy_score(y_test_30, y_test_pred_30)\n",
    "print(\"Accuracy on New Testing Set (30% Instances to Testing Set):\", test_accuracy_30)\n"
   ]
  },
  {
   "cell_type": "markdown",
   "id": "eec9f9fa",
   "metadata": {},
   "source": [
    "60% instances "
   ]
  },
  {
   "cell_type": "code",
   "execution_count": 237,
   "id": "fdd6c7b8",
   "metadata": {},
   "outputs": [
    {
     "name": "stdout",
     "output_type": "stream",
     "text": [
      "Accuracy on New Training Set (60% Instances to Testing Set): 1.0\n",
      "Accuracy on New Testing Set (60% Instances to Testing Set): 0.989247311827957\n"
     ]
    }
   ],
   "source": [
    "# Convert the processed data to numpy arrays\n",
    "X = processed_smiley_images.values\n",
    "y = processed_smiley_labels.values.flatten()\n",
    "\n",
    "# Create Original Training and Testing Data Sets\n",
    "X_train_orig, X_test_orig, y_train_orig, y_test_orig = train_test_split(X, y, test_size=0.2, random_state=42)\n",
    "\n",
    "# Create New Training and Testing Data Sets (60% Instances to Testing Set)\n",
    "X_train_60, X_test_60, y_train_60, y_test_60 = train_test_split(X_train_orig, y_train_orig, test_size=0.6, random_state=42)\n",
    "\n",
    "# Define the Random Forest Classifier\n",
    "clf = RandomForestClassifier(random_state=42)\n",
    "\n",
    "# Train the Random Forest Model on the New Training Set (60% Instances to Testing Set)\n",
    "clf.fit(X_train_60, y_train_60)\n",
    "\n",
    "# Evaluate Accuracy on New Training Set (60% Instances to Testing Set)\n",
    "y_train_pred_60 = clf.predict(X_train_60)\n",
    "train_accuracy_60 = accuracy_score(y_train_60, y_train_pred_60)\n",
    "print(\"Accuracy on New Training Set (60% Instances to Testing Set):\", train_accuracy_60)\n",
    "\n",
    "# Evaluate Accuracy on New Testing Set (60% Instances to Testing Set)\n",
    "y_test_pred_60 = clf.predict(X_test_60)\n",
    "test_accuracy_60 = accuracy_score(y_test_60, y_test_pred_60)\n",
    "print(\"Accuracy on New Testing Set (60% Instances to Testing Set):\", test_accuracy_60)\n"
   ]
  },
  {
   "cell_type": "markdown",
   "id": "38544fd6",
   "metadata": {},
   "source": [
    "The accuracy on both the new training sets (with 30% and 60% instances in the testing sets) as well as the accuracy on both the new testing sets is 1.0 (100%). \n",
    "\n",
    "This indicates that the Random Forest classifier is achieving perfect accuracy on both the training and testing sets. When a model achieves 100% accuracy on the training set, it is a strong indicator of overfitting. Overfitting occurs when the model learns the training data too well, including the noise and random variations specific to the training set. As a result, the model becomes highly specialized to the training data and may fail to generalize well to new, unseen data.\n",
    "\n",
    "In our results, the Random Forest model is able to perfectly classify all instances in both the new training sets and new testing sets. While high accuracy might seem desirable, achieving 100% accuracy on both training and testing sets is unrealistic and raises concerns about overfitting.\n",
    "\n",
    "**Conclusions**:\n",
    "- The Random Forest classifier is showing signs of overfitting to the training data. It memorizes the training data so well that it performs perfectly on the training set as well as on new testing sets.\n",
    "\n",
    "- Overfitting can lead to poor generalization, meaning the model may not perform well on real-world data it has not seen before.\n",
    "\n",
    "- To address the overfitting issue, we can consider using techniques such as hyperparameter tuning, feature selection, or reducing the complexity of the model (e.g., by limiting the depth of the trees or using regularization techniques). This will help the model generalize better to unseen data and avoid overfitting.\n",
    "\n",
    "- It is crucial to further validate the model's performance on larger and more diverse datasets to ensure that it can generalize well in real-world scenarios. \n",
    "\n",
    "A model with perfect accuracy on both training and testing sets is usually a sign of overfitting, and practical models should aim for a balance between accuracy and generalization to ensure their reliability in real-world applications."
   ]
  },
  {
   "cell_type": "markdown",
   "id": "6e45f553",
   "metadata": {},
   "source": [
    "# Part 4"
   ]
  },
  {
   "cell_type": "markdown",
   "id": "5800328c",
   "metadata": {},
   "source": [
    "# Neural Networks and Convolutional Neural Networks. "
   ]
  },
  {
   "cell_type": "code",
   "execution_count": 45,
   "id": "ae9d4e22",
   "metadata": {},
   "outputs": [
    {
     "name": "stdout",
     "output_type": "stream",
     "text": [
      "Average Cross-Validation Accuracy: 0.9933333333333334\n",
      "Test Accuracy: 1.0\n",
      "The linear classifier generalizes reasonably well to new data.\n"
     ]
    }
   ],
   "source": [
    "# Convert the data into pandas dataframes\n",
    "processed_smiley_images = pd.DataFrame(smiley_X_clean)\n",
    "processed_smiley_labels = pd.DataFrame(smiley_Y_clean)\n",
    "\n",
    "# Convert the processed data to numpy arrays\n",
    "X = processed_smiley_images.values\n",
    "y = processed_smiley_labels.values.ravel()  # Use ravel() here to convert y to a 1D array\n",
    "\n",
    "# Create Training and Testing Data Sets\n",
    "X_train, X_test, y_train, y_test = train_test_split(X, y, test_size=0.2, random_state=42)\n",
    "\n",
    "# Create the linear classifier (Logistic Regression in this case)\n",
    "linear_classifier = LogisticRegression()\n",
    "\n",
    "# Perform 10-fold cross-validation on the training data\n",
    "cross_val_scores = cross_val_score(linear_classifier, X_train, y_train, cv=10)\n",
    "\n",
    "# Calculate the average accuracy from cross-validation\n",
    "avg_cross_val_accuracy = np.mean(cross_val_scores)\n",
    "# Train the linear classifier on the entire training data\n",
    "linear_classifier.fit(X_train, y_train)\n",
    "# Predict the labels for the test set\n",
    "y_pred = linear_classifier.predict(X_test)\n",
    "\n",
    "# Calculate the accuracy on the test set\n",
    "test_accuracy = accuracy_score(y_test, y_pred)\n",
    "# Check the accuracies\n",
    "print(\"Average Cross-Validation Accuracy:\", avg_cross_val_accuracy)\n",
    "print(\"Test Accuracy:\", test_accuracy)\n",
    "\n",
    "# Hypothesis about linearity\n",
    "if avg_cross_val_accuracy == 1.0 and test_accuracy == 1.0:\n",
    "    print(\"The linear classifier perfectly separates the data.\")\n",
    "elif avg_cross_val_accuracy > test_accuracy:\n",
    "    print(\"The linear classifier may not generalize as well to new data.\")\n",
    "else:\n",
    "    print(\"The linear classifier generalizes reasonably well to new data.\")\n"
   ]
  },
  {
   "cell_type": "markdown",
   "id": "61aa2a66",
   "metadata": {},
   "source": [
    "Based on the obtained results, we can make the following hypothesis about the data set being linearly separable:\n",
    "\n",
    "Since the average cross-validation accuracy is very close to 1.0 (approximately 0.9933) and the test accuracy is also 1.0, it suggests that the linear classifier (Logistic Regression in this case) is able to achieve near-perfect accuracy on both the training data (during cross-validation) and the unseen test data.\n",
    "\n",
    "With such high accuracy, we can infer that the data set is likely to be linearly separable. This means that the classes (happy, neutral, and sad) can be separated by a straight line or plane in the feature space. The linear classifier can draw decision boundaries to distinguish between the classes with a high degree of accuracy.\n",
    "Based on the current analysis, we can be reasonably confident in saying that this data set is linearly separable, at least for the features and labels used in this particular classification task."
   ]
  },
  {
   "cell_type": "markdown",
   "id": "f6c92723",
   "metadata": {},
   "source": [
    "For Noisy Data"
   ]
  },
  {
   "cell_type": "code",
   "execution_count": 46,
   "id": "30de8779",
   "metadata": {},
   "outputs": [
    {
     "name": "stdout",
     "output_type": "stream",
     "text": [
      "Average Cross-Validation Accuracy: 0.9933333333333334\n",
      "Test Accuracy: 0.9743589743589743\n",
      "The linear classifier may not generalize as well to new data.\n"
     ]
    }
   ],
   "source": [
    "# Convert the data into pandas dataframes\n",
    "processed_noisy_images = pd.DataFrame(noisy_X_clean)\n",
    "processed_noisy_labels = pd.DataFrame(noisy_Y_clean)\n",
    "\n",
    "# Convert the processed data to numpy arrays\n",
    "X = processed_noisy_images.values\n",
    "y = processed_noisy_labels.values.ravel()  # Use ravel() here to convert y to a 1D array\n",
    "\n",
    "# Create Training and Testing Data Sets\n",
    "X_train, X_test, y_train, y_test = train_test_split(X, y, test_size=0.2, random_state=42)\n",
    "\n",
    "\n",
    "X_train, X_test, y_train, y_test = train_test_split(X, y, test_size=0.2, random_state=42)\n",
    "# Create the linear classifier (Logistic Regression in this case)\n",
    "linear_classifier = LogisticRegression()\n",
    "\n",
    "# Perform 10-fold cross-validation on the training data\n",
    "cross_val_scores = cross_val_score(linear_classifier, X_train, y_train, cv=10)\n",
    "\n",
    "# Calculate the average accuracy from cross-validation\n",
    "avg_cross_val_accuracy = np.mean(cross_val_scores)\n",
    "# Train the linear classifier on the entire training data\n",
    "linear_classifier.fit(X_train, y_train)\n",
    "# Predict the labels for the test set\n",
    "y_pred = linear_classifier.predict(X_test)\n",
    "\n",
    "# Calculate the accuracy on the test set\n",
    "test_accuracy = accuracy_score(y_test, y_pred)\n",
    "# Check the accuracies\n",
    "print(\"Average Cross-Validation Accuracy:\", avg_cross_val_accuracy)\n",
    "print(\"Test Accuracy:\", test_accuracy)\n",
    "\n",
    "# Hypothesis about linearity\n",
    "if avg_cross_val_accuracy == 1.0 and test_accuracy == 1.0:\n",
    "    print(\"The linear classifier perfectly separates the data.\")\n",
    "elif avg_cross_val_accuracy > test_accuracy:\n",
    "    print(\"The linear classifier may not generalize as well to new data.\")\n",
    "else:\n",
    "    print(\"The linear classifier generalizes reasonably well to new data.\")\n"
   ]
  },
  {
   "cell_type": "code",
   "execution_count": 47,
   "id": "7119cd5d",
   "metadata": {},
   "outputs": [
    {
     "name": "stdout",
     "output_type": "stream",
     "text": [
      "Epoch 1/50\n",
      "5/5 [==============================] - 1s 67ms/step - loss: 1.1305 - accuracy: 0.3406 - val_loss: 1.2173 - val_accuracy: 0.3125\n",
      "Epoch 2/50\n",
      "5/5 [==============================] - 0s 10ms/step - loss: 1.1257 - accuracy: 0.3551 - val_loss: 1.2077 - val_accuracy: 0.3125\n",
      "Epoch 3/50\n",
      "5/5 [==============================] - 0s 11ms/step - loss: 1.1179 - accuracy: 0.3551 - val_loss: 1.1965 - val_accuracy: 0.3125\n",
      "Epoch 4/50\n",
      "5/5 [==============================] - 0s 12ms/step - loss: 1.1087 - accuracy: 0.3696 - val_loss: 1.1844 - val_accuracy: 0.3125\n",
      "Epoch 5/50\n",
      "5/5 [==============================] - 0s 11ms/step - loss: 1.0989 - accuracy: 0.3768 - val_loss: 1.1699 - val_accuracy: 0.3750\n",
      "Epoch 6/50\n",
      "5/5 [==============================] - 0s 11ms/step - loss: 1.0891 - accuracy: 0.4203 - val_loss: 1.1562 - val_accuracy: 0.3125\n",
      "Epoch 7/50\n",
      "5/5 [==============================] - 0s 12ms/step - loss: 1.0784 - accuracy: 0.4203 - val_loss: 1.1434 - val_accuracy: 0.3125\n",
      "Epoch 8/50\n",
      "5/5 [==============================] - 0s 11ms/step - loss: 1.0698 - accuracy: 0.4203 - val_loss: 1.1293 - val_accuracy: 0.3125\n",
      "Epoch 9/50\n",
      "5/5 [==============================] - 0s 11ms/step - loss: 1.0595 - accuracy: 0.4275 - val_loss: 1.1171 - val_accuracy: 0.3125\n",
      "Epoch 10/50\n",
      "5/5 [==============================] - 0s 9ms/step - loss: 1.0505 - accuracy: 0.4275 - val_loss: 1.1055 - val_accuracy: 0.3125\n",
      "Epoch 11/50\n",
      "5/5 [==============================] - 0s 9ms/step - loss: 1.0411 - accuracy: 0.4638 - val_loss: 1.0952 - val_accuracy: 0.3125\n",
      "Epoch 12/50\n",
      "5/5 [==============================] - 0s 10ms/step - loss: 1.0328 - accuracy: 0.5000 - val_loss: 1.0850 - val_accuracy: 0.3125\n",
      "Epoch 13/50\n",
      "5/5 [==============================] - 0s 10ms/step - loss: 1.0243 - accuracy: 0.5072 - val_loss: 1.0755 - val_accuracy: 0.3125\n",
      "Epoch 14/50\n",
      "5/5 [==============================] - 0s 10ms/step - loss: 1.0156 - accuracy: 0.5290 - val_loss: 1.0664 - val_accuracy: 0.3125\n",
      "Epoch 15/50\n",
      "5/5 [==============================] - 0s 11ms/step - loss: 1.0073 - accuracy: 0.5580 - val_loss: 1.0572 - val_accuracy: 0.3125\n",
      "Epoch 16/50\n",
      "5/5 [==============================] - 0s 11ms/step - loss: 0.9989 - accuracy: 0.5725 - val_loss: 1.0486 - val_accuracy: 0.3750\n",
      "Epoch 17/50\n",
      "5/5 [==============================] - 0s 12ms/step - loss: 0.9906 - accuracy: 0.5870 - val_loss: 1.0395 - val_accuracy: 0.3750\n",
      "Epoch 18/50\n",
      "5/5 [==============================] - 0s 11ms/step - loss: 0.9818 - accuracy: 0.5942 - val_loss: 1.0306 - val_accuracy: 0.5000\n",
      "Epoch 19/50\n",
      "5/5 [==============================] - 0s 11ms/step - loss: 0.9733 - accuracy: 0.6014 - val_loss: 1.0213 - val_accuracy: 0.5000\n",
      "Epoch 20/50\n",
      "5/5 [==============================] - 0s 11ms/step - loss: 0.9648 - accuracy: 0.5942 - val_loss: 1.0121 - val_accuracy: 0.5000\n",
      "Epoch 21/50\n",
      "5/5 [==============================] - 0s 10ms/step - loss: 0.9562 - accuracy: 0.5797 - val_loss: 1.0031 - val_accuracy: 0.5000\n",
      "Epoch 22/50\n",
      "5/5 [==============================] - 0s 10ms/step - loss: 0.9475 - accuracy: 0.5797 - val_loss: 0.9947 - val_accuracy: 0.5000\n",
      "Epoch 23/50\n",
      "5/5 [==============================] - 0s 10ms/step - loss: 0.9390 - accuracy: 0.5870 - val_loss: 0.9860 - val_accuracy: 0.5000\n",
      "Epoch 24/50\n",
      "5/5 [==============================] - 0s 11ms/step - loss: 0.9301 - accuracy: 0.5870 - val_loss: 0.9776 - val_accuracy: 0.5000\n",
      "Epoch 25/50\n",
      "5/5 [==============================] - 0s 12ms/step - loss: 0.9218 - accuracy: 0.6087 - val_loss: 0.9693 - val_accuracy: 0.5000\n",
      "Epoch 26/50\n",
      "5/5 [==============================] - 0s 11ms/step - loss: 0.9131 - accuracy: 0.6232 - val_loss: 0.9610 - val_accuracy: 0.5000\n",
      "Epoch 27/50\n",
      "5/5 [==============================] - 0s 11ms/step - loss: 0.9047 - accuracy: 0.6304 - val_loss: 0.9527 - val_accuracy: 0.5000\n",
      "Epoch 28/50\n",
      "5/5 [==============================] - 0s 10ms/step - loss: 0.8961 - accuracy: 0.6304 - val_loss: 0.9450 - val_accuracy: 0.5000\n",
      "Epoch 29/50\n",
      "5/5 [==============================] - 0s 11ms/step - loss: 0.8875 - accuracy: 0.6594 - val_loss: 0.9373 - val_accuracy: 0.5625\n",
      "Epoch 30/50\n",
      "5/5 [==============================] - 0s 11ms/step - loss: 0.8791 - accuracy: 0.6667 - val_loss: 0.9293 - val_accuracy: 0.5625\n",
      "Epoch 31/50\n",
      "5/5 [==============================] - 0s 9ms/step - loss: 0.8708 - accuracy: 0.6667 - val_loss: 0.9214 - val_accuracy: 0.5625\n",
      "Epoch 32/50\n",
      "5/5 [==============================] - 0s 10ms/step - loss: 0.8620 - accuracy: 0.6739 - val_loss: 0.9134 - val_accuracy: 0.5625\n",
      "Epoch 33/50\n",
      "5/5 [==============================] - 0s 11ms/step - loss: 0.8534 - accuracy: 0.6739 - val_loss: 0.9053 - val_accuracy: 0.5625\n",
      "Epoch 34/50\n",
      "5/5 [==============================] - 0s 11ms/step - loss: 0.8447 - accuracy: 0.6667 - val_loss: 0.8973 - val_accuracy: 0.5625\n",
      "Epoch 35/50\n",
      "5/5 [==============================] - 0s 11ms/step - loss: 0.8360 - accuracy: 0.6957 - val_loss: 0.8896 - val_accuracy: 0.5625\n",
      "Epoch 36/50\n",
      "5/5 [==============================] - 0s 11ms/step - loss: 0.8273 - accuracy: 0.7101 - val_loss: 0.8823 - val_accuracy: 0.5625\n",
      "Epoch 37/50\n",
      "5/5 [==============================] - 0s 12ms/step - loss: 0.8184 - accuracy: 0.7174 - val_loss: 0.8747 - val_accuracy: 0.5625\n",
      "Epoch 38/50\n",
      "5/5 [==============================] - 0s 11ms/step - loss: 0.8097 - accuracy: 0.7174 - val_loss: 0.8669 - val_accuracy: 0.6250\n",
      "Epoch 39/50\n",
      "5/5 [==============================] - 0s 10ms/step - loss: 0.8012 - accuracy: 0.7391 - val_loss: 0.8587 - val_accuracy: 0.6250\n",
      "Epoch 40/50\n",
      "5/5 [==============================] - 0s 10ms/step - loss: 0.7925 - accuracy: 0.7536 - val_loss: 0.8509 - val_accuracy: 0.6250\n",
      "Epoch 41/50\n",
      "5/5 [==============================] - 0s 10ms/step - loss: 0.7839 - accuracy: 0.7609 - val_loss: 0.8432 - val_accuracy: 0.6250\n",
      "Epoch 42/50\n",
      "5/5 [==============================] - 0s 16ms/step - loss: 0.7756 - accuracy: 0.7609 - val_loss: 0.8355 - val_accuracy: 0.6250\n",
      "Epoch 43/50\n",
      "5/5 [==============================] - 0s 9ms/step - loss: 0.7669 - accuracy: 0.7681 - val_loss: 0.8273 - val_accuracy: 0.6250\n",
      "Epoch 44/50\n",
      "5/5 [==============================] - 0s 10ms/step - loss: 0.7584 - accuracy: 0.7681 - val_loss: 0.8191 - val_accuracy: 0.6875\n",
      "Epoch 45/50\n",
      "5/5 [==============================] - 0s 10ms/step - loss: 0.7499 - accuracy: 0.7681 - val_loss: 0.8110 - val_accuracy: 0.6875\n",
      "Epoch 46/50\n",
      "5/5 [==============================] - 0s 9ms/step - loss: 0.7413 - accuracy: 0.7899 - val_loss: 0.8025 - val_accuracy: 0.6875\n",
      "Epoch 47/50\n",
      "5/5 [==============================] - 0s 10ms/step - loss: 0.7325 - accuracy: 0.8188 - val_loss: 0.7943 - val_accuracy: 0.6875\n",
      "Epoch 48/50\n",
      "5/5 [==============================] - 0s 10ms/step - loss: 0.7238 - accuracy: 0.8333 - val_loss: 0.7859 - val_accuracy: 0.6875\n",
      "Epoch 49/50\n",
      "5/5 [==============================] - 0s 10ms/step - loss: 0.7153 - accuracy: 0.8478 - val_loss: 0.7776 - val_accuracy: 0.6875\n",
      "Epoch 50/50\n",
      "5/5 [==============================] - 0s 9ms/step - loss: 0.7066 - accuracy: 0.8478 - val_loss: 0.7693 - val_accuracy: 0.6875\n",
      "Test Accuracy: 0.8461538553237915\n"
     ]
    }
   ],
   "source": [
    "# Load the preprocessed data\n",
    "processed_smiley_images = pd.DataFrame(smiley_X_clean)\n",
    "processed_smiley_labels = pd.DataFrame(smiley_Y_clean)\n",
    "\n",
    "# Split the data into training and testing sets\n",
    "X_train, X_test, y_train, y_test = train_test_split(\n",
    "    processed_smiley_images, processed_smiley_labels, test_size=0.2, random_state=42\n",
    ")\n",
    "\n",
    "# Convert the labels to categorical format (one-hot encoding)\n",
    "num_classes = 3\n",
    "y_train = pd.get_dummies(y_train, columns=[0]).values\n",
    "y_test = pd.get_dummies(y_test, columns=[0]).values\n",
    "\n",
    "# Build the MLP model\n",
    "model = Sequential()\n",
    "model.add(Dense(64, activation='relu', input_shape=(81,)))\n",
    "model.add(Dense(32, activation='relu'))\n",
    "model.add(Dense(num_classes, activation='softmax'))\n",
    "\n",
    "# Compile the model\n",
    "learning_rate = 0.001\n",
    "momentum = 0.9\n",
    "model.compile(\n",
    "    loss='categorical_crossentropy',\n",
    "    optimizer=SGD(learning_rate=learning_rate, momentum=momentum),\n",
    "    metrics=['accuracy']\n",
    ")\n",
    "\n",
    "# Train the model\n",
    "epochs = 50\n",
    "batch_size = 32\n",
    "history = model.fit(\n",
    "    X_train, y_train,\n",
    "    validation_split=0.1,\n",
    "    epochs=epochs,\n",
    "    batch_size=batch_size,\n",
    "    verbose=1\n",
    ")\n",
    "\n",
    "# Evaluate the model on the test set\n",
    "test_loss, test_accuracy = model.evaluate(X_test, y_test, verbose=0)\n",
    "print(\"Test Accuracy:\", test_accuracy)\n",
    "\n"
   ]
  },
  {
   "cell_type": "code",
   "execution_count": 231,
   "id": "8b3cf043",
   "metadata": {},
   "outputs": [
    {
     "name": "stdout",
     "output_type": "stream",
     "text": [
      "Epoch 1/50\n",
      "3/3 [==============================] - 1s 236ms/step - loss: 1.0887 - accuracy: 0.3841 - val_loss: 0.9986 - val_accuracy: 0.6250\n",
      "Epoch 2/50\n",
      "3/3 [==============================] - 0s 37ms/step - loss: 1.0741 - accuracy: 0.4130 - val_loss: 0.9839 - val_accuracy: 0.6250\n",
      "Epoch 3/50\n",
      "3/3 [==============================] - 0s 37ms/step - loss: 1.0565 - accuracy: 0.4275 - val_loss: 0.9700 - val_accuracy: 0.6250\n",
      "Epoch 4/50\n",
      "3/3 [==============================] - 0s 42ms/step - loss: 1.0393 - accuracy: 0.4565 - val_loss: 0.9544 - val_accuracy: 0.6250\n",
      "Epoch 5/50\n",
      "3/3 [==============================] - 0s 45ms/step - loss: 1.0222 - accuracy: 0.4638 - val_loss: 0.9389 - val_accuracy: 0.6250\n",
      "Epoch 6/50\n",
      "3/3 [==============================] - 0s 39ms/step - loss: 1.0054 - accuracy: 0.4928 - val_loss: 0.9263 - val_accuracy: 0.6875\n",
      "Epoch 7/50\n",
      "3/3 [==============================] - 0s 41ms/step - loss: 0.9900 - accuracy: 0.5145 - val_loss: 0.9127 - val_accuracy: 0.6250\n",
      "Epoch 8/50\n",
      "3/3 [==============================] - 0s 38ms/step - loss: 0.9744 - accuracy: 0.5507 - val_loss: 0.8950 - val_accuracy: 0.6250\n",
      "Epoch 9/50\n",
      "3/3 [==============================] - 0s 37ms/step - loss: 0.9591 - accuracy: 0.5580 - val_loss: 0.8805 - val_accuracy: 0.7500\n",
      "Epoch 10/50\n",
      "3/3 [==============================] - 0s 36ms/step - loss: 0.9434 - accuracy: 0.5870 - val_loss: 0.8719 - val_accuracy: 0.8125\n",
      "Epoch 11/50\n",
      "3/3 [==============================] - 0s 39ms/step - loss: 0.9293 - accuracy: 0.6449 - val_loss: 0.8589 - val_accuracy: 0.8125\n",
      "Epoch 12/50\n",
      "3/3 [==============================] - 0s 36ms/step - loss: 0.9150 - accuracy: 0.6667 - val_loss: 0.8446 - val_accuracy: 0.8750\n",
      "Epoch 13/50\n",
      "3/3 [==============================] - 0s 38ms/step - loss: 0.9010 - accuracy: 0.7101 - val_loss: 0.8318 - val_accuracy: 0.8750\n",
      "Epoch 14/50\n",
      "3/3 [==============================] - 0s 37ms/step - loss: 0.8874 - accuracy: 0.7319 - val_loss: 0.8174 - val_accuracy: 0.8750\n",
      "Epoch 15/50\n",
      "3/3 [==============================] - 0s 41ms/step - loss: 0.8735 - accuracy: 0.7536 - val_loss: 0.8024 - val_accuracy: 0.8750\n",
      "Epoch 16/50\n",
      "3/3 [==============================] - 0s 44ms/step - loss: 0.8603 - accuracy: 0.7899 - val_loss: 0.7866 - val_accuracy: 0.8750\n",
      "Epoch 17/50\n",
      "3/3 [==============================] - 0s 35ms/step - loss: 0.8457 - accuracy: 0.8188 - val_loss: 0.7726 - val_accuracy: 0.8750\n",
      "Epoch 18/50\n",
      "3/3 [==============================] - 0s 36ms/step - loss: 0.8319 - accuracy: 0.8551 - val_loss: 0.7593 - val_accuracy: 0.8750\n",
      "Epoch 19/50\n",
      "3/3 [==============================] - 0s 37ms/step - loss: 0.8179 - accuracy: 0.8768 - val_loss: 0.7453 - val_accuracy: 0.8750\n",
      "Epoch 20/50\n",
      "3/3 [==============================] - 0s 40ms/step - loss: 0.8044 - accuracy: 0.8841 - val_loss: 0.7314 - val_accuracy: 0.8750\n",
      "Epoch 21/50\n",
      "3/3 [==============================] - 0s 39ms/step - loss: 0.7909 - accuracy: 0.8696 - val_loss: 0.7194 - val_accuracy: 0.8750\n",
      "Epoch 22/50\n",
      "3/3 [==============================] - 0s 38ms/step - loss: 0.7765 - accuracy: 0.8913 - val_loss: 0.7071 - val_accuracy: 0.8750\n",
      "Epoch 23/50\n",
      "3/3 [==============================] - 0s 31ms/step - loss: 0.7627 - accuracy: 0.8986 - val_loss: 0.6935 - val_accuracy: 0.8750\n",
      "Epoch 24/50\n",
      "3/3 [==============================] - 0s 33ms/step - loss: 0.7484 - accuracy: 0.8913 - val_loss: 0.6815 - val_accuracy: 0.8750\n",
      "Epoch 25/50\n",
      "3/3 [==============================] - 0s 34ms/step - loss: 0.7339 - accuracy: 0.8986 - val_loss: 0.6690 - val_accuracy: 0.8750\n",
      "Epoch 26/50\n",
      "3/3 [==============================] - 0s 43ms/step - loss: 0.7196 - accuracy: 0.9203 - val_loss: 0.6559 - val_accuracy: 0.8750\n",
      "Epoch 27/50\n",
      "3/3 [==============================] - 0s 35ms/step - loss: 0.7060 - accuracy: 0.9203 - val_loss: 0.6432 - val_accuracy: 0.8750\n",
      "Epoch 28/50\n",
      "3/3 [==============================] - 0s 36ms/step - loss: 0.6938 - accuracy: 0.9493 - val_loss: 0.6299 - val_accuracy: 0.8750\n",
      "Epoch 29/50\n",
      "3/3 [==============================] - 0s 36ms/step - loss: 0.6796 - accuracy: 0.9565 - val_loss: 0.6170 - val_accuracy: 0.8750\n",
      "Epoch 30/50\n",
      "3/3 [==============================] - 0s 33ms/step - loss: 0.6660 - accuracy: 0.9710 - val_loss: 0.6059 - val_accuracy: 0.8750\n",
      "Epoch 31/50\n",
      "3/3 [==============================] - 0s 32ms/step - loss: 0.6529 - accuracy: 0.9783 - val_loss: 0.5944 - val_accuracy: 0.9375\n",
      "Epoch 32/50\n",
      "3/3 [==============================] - 0s 31ms/step - loss: 0.6393 - accuracy: 0.9783 - val_loss: 0.5805 - val_accuracy: 0.9375\n",
      "Epoch 33/50\n",
      "3/3 [==============================] - 0s 34ms/step - loss: 0.6261 - accuracy: 0.9855 - val_loss: 0.5673 - val_accuracy: 0.9375\n",
      "Epoch 34/50\n",
      "3/3 [==============================] - 0s 31ms/step - loss: 0.6135 - accuracy: 0.9855 - val_loss: 0.5566 - val_accuracy: 0.9375\n",
      "Epoch 35/50\n",
      "3/3 [==============================] - 0s 36ms/step - loss: 0.6002 - accuracy: 0.9855 - val_loss: 0.5481 - val_accuracy: 0.9375\n",
      "Epoch 36/50\n",
      "3/3 [==============================] - 0s 33ms/step - loss: 0.5882 - accuracy: 0.9783 - val_loss: 0.5379 - val_accuracy: 0.9375\n",
      "Epoch 37/50\n",
      "3/3 [==============================] - 0s 33ms/step - loss: 0.5764 - accuracy: 0.9638 - val_loss: 0.5267 - val_accuracy: 0.9375\n",
      "Epoch 38/50\n",
      "3/3 [==============================] - 0s 33ms/step - loss: 0.5638 - accuracy: 0.9783 - val_loss: 0.5151 - val_accuracy: 0.9375\n",
      "Epoch 39/50\n",
      "3/3 [==============================] - 0s 35ms/step - loss: 0.5522 - accuracy: 0.9928 - val_loss: 0.5021 - val_accuracy: 1.0000\n",
      "Epoch 40/50\n",
      "3/3 [==============================] - 0s 36ms/step - loss: 0.5397 - accuracy: 0.9928 - val_loss: 0.4918 - val_accuracy: 1.0000\n",
      "Epoch 41/50\n",
      "3/3 [==============================] - 0s 34ms/step - loss: 0.5280 - accuracy: 0.9928 - val_loss: 0.4820 - val_accuracy: 1.0000\n",
      "Epoch 42/50\n",
      "3/3 [==============================] - 0s 34ms/step - loss: 0.5169 - accuracy: 0.9928 - val_loss: 0.4725 - val_accuracy: 1.0000\n",
      "Epoch 43/50\n",
      "3/3 [==============================] - 0s 37ms/step - loss: 0.5051 - accuracy: 0.9928 - val_loss: 0.4646 - val_accuracy: 0.9375\n",
      "Epoch 44/50\n",
      "3/3 [==============================] - 0s 36ms/step - loss: 0.4941 - accuracy: 0.9928 - val_loss: 0.4565 - val_accuracy: 0.9375\n",
      "Epoch 45/50\n",
      "3/3 [==============================] - 0s 34ms/step - loss: 0.4835 - accuracy: 0.9855 - val_loss: 0.4487 - val_accuracy: 0.9375\n",
      "Epoch 46/50\n",
      "3/3 [==============================] - 0s 37ms/step - loss: 0.4737 - accuracy: 0.9855 - val_loss: 0.4394 - val_accuracy: 0.9375\n",
      "Epoch 47/50\n",
      "3/3 [==============================] - 0s 33ms/step - loss: 0.4630 - accuracy: 0.9855 - val_loss: 0.4290 - val_accuracy: 0.9375\n",
      "Epoch 48/50\n",
      "3/3 [==============================] - 0s 32ms/step - loss: 0.4532 - accuracy: 0.9928 - val_loss: 0.4190 - val_accuracy: 1.0000\n",
      "Epoch 49/50\n",
      "3/3 [==============================] - 0s 33ms/step - loss: 0.4435 - accuracy: 0.9928 - val_loss: 0.4083 - val_accuracy: 1.0000\n",
      "Epoch 50/50\n",
      "3/3 [==============================] - 0s 33ms/step - loss: 0.4339 - accuracy: 0.9928 - val_loss: 0.3995 - val_accuracy: 1.0000\n",
      "Test Accuracy: 0.9487179517745972\n"
     ]
    }
   ],
   "source": [
    "\n",
    "# Load the preprocessed data\n",
    "processed_smiley_images = pd.DataFrame(smiley_X_clean)\n",
    "processed_smiley_labels = pd.DataFrame(smiley_Y_clean)\n",
    "\n",
    "# Split the data into training and testing sets\n",
    "X_train, X_test, y_train, y_test = train_test_split(\n",
    "    processed_smiley_images, processed_smiley_labels, test_size=0.2, random_state=42\n",
    ")\n",
    "\n",
    "# Convert the labels to categorical format (one-hot encoding)\n",
    "num_classes = 3\n",
    "y_train = pd.get_dummies(y_train, columns=[0]).values\n",
    "y_test = pd.get_dummies(y_test, columns=[0]).values\n",
    "\n",
    "# Experiment with different parameters and architectures\n",
    "# Build the MLP model\n",
    "model = Sequential()\n",
    "model.add(Dense(128, activation='relu', input_shape=(81,)))  # Increase nodes in the first layer\n",
    "model.add(Dense(64, activation='relu'))  # Add another hidden layer\n",
    "model.add(Dense(num_classes, activation='softmax'))\n",
    "\n",
    "# Compile the model\n",
    "learning_rate = 0.01  # Try a higher learning rate\n",
    "momentum = 0.5  # Adjust momentum\n",
    "model.compile(\n",
    "    loss='categorical_crossentropy',\n",
    "    optimizer=SGD(learning_rate=learning_rate, momentum=momentum),\n",
    "    metrics=['accuracy']\n",
    ")\n",
    "\n",
    "# Train the model\n",
    "epochs = 50  # Increase the number of epochs for training\n",
    "batch_size = 64  # Change the batch size\n",
    "history = model.fit(\n",
    "    X_train, y_train,\n",
    "    validation_split=0.1,\n",
    "    epochs=epochs,\n",
    "    batch_size=batch_size,\n",
    "    verbose=1\n",
    ")\n",
    "\n",
    "# Evaluate the model on the test set\n",
    "test_loss, test_accuracy = model.evaluate(X_test, y_test, verbose=0)\n",
    "print(\"Test Accuracy:\", test_accuracy)\n"
   ]
  },
  {
   "cell_type": "markdown",
   "id": "7c35aad6",
   "metadata": {},
   "source": [
    "Conclusion:\n",
    "\n",
    "In the first experiment, the model is relatively simple, with three layers. However, it struggles to learn the patterns in the images and doesn't perform well on unseen data. The training accuracy improves, but the validation accuracy remains low, indicating that it doesn't generalize well to new smiley faces. The test accuracy achieved by this model is around 84.62%.\n",
    "\n",
    "In the second experiment, the model is more complex, with additional layers and tuned hyperparameters. This model performs much better. Both the training and validation accuracy increase significantly, showing that it can recognize patterns in the smiley faces effectively. The test accuracy achieved by this improved model is around 94.87%.\n",
    "\n",
    "In conclusion, the second experiment with the more complex and tuned model is the better choice. It can accurately classify smiley faces into the three categories and has a much higher test accuracy compared to the first model.\n"
   ]
  },
  {
   "cell_type": "markdown",
   "id": "5c0382d9",
   "metadata": {},
   "source": [
    "Lets check the same experiment with the noisy data"
   ]
  },
  {
   "cell_type": "code",
   "execution_count": 49,
   "id": "bff68bd4",
   "metadata": {},
   "outputs": [
    {
     "name": "stdout",
     "output_type": "stream",
     "text": [
      "Epoch 1/50\n",
      "5/5 [==============================] - 0s 44ms/step - loss: 1.1687 - accuracy: 0.2391 - val_loss: 1.2342 - val_accuracy: 0.2500\n",
      "Epoch 2/50\n",
      "5/5 [==============================] - 0s 10ms/step - loss: 1.1606 - accuracy: 0.2464 - val_loss: 1.2197 - val_accuracy: 0.2500\n",
      "Epoch 3/50\n",
      "5/5 [==============================] - 0s 9ms/step - loss: 1.1477 - accuracy: 0.2464 - val_loss: 1.2019 - val_accuracy: 0.2500\n",
      "Epoch 4/50\n",
      "5/5 [==============================] - 0s 11ms/step - loss: 1.1327 - accuracy: 0.2609 - val_loss: 1.1831 - val_accuracy: 0.3125\n",
      "Epoch 5/50\n",
      "5/5 [==============================] - 0s 11ms/step - loss: 1.1186 - accuracy: 0.2754 - val_loss: 1.1643 - val_accuracy: 0.3125\n",
      "Epoch 6/50\n",
      "5/5 [==============================] - 0s 13ms/step - loss: 1.1036 - accuracy: 0.3116 - val_loss: 1.1480 - val_accuracy: 0.3125\n",
      "Epoch 7/50\n",
      "5/5 [==============================] - 0s 12ms/step - loss: 1.0904 - accuracy: 0.3406 - val_loss: 1.1332 - val_accuracy: 0.3125\n",
      "Epoch 8/50\n",
      "5/5 [==============================] - 0s 11ms/step - loss: 1.0779 - accuracy: 0.3768 - val_loss: 1.1200 - val_accuracy: 0.3125\n",
      "Epoch 9/50\n",
      "5/5 [==============================] - 0s 11ms/step - loss: 1.0656 - accuracy: 0.3986 - val_loss: 1.1072 - val_accuracy: 0.3125\n",
      "Epoch 10/50\n",
      "5/5 [==============================] - 0s 11ms/step - loss: 1.0547 - accuracy: 0.4275 - val_loss: 1.0948 - val_accuracy: 0.3750\n",
      "Epoch 11/50\n",
      "5/5 [==============================] - 0s 12ms/step - loss: 1.0441 - accuracy: 0.4348 - val_loss: 1.0822 - val_accuracy: 0.4375\n",
      "Epoch 12/50\n",
      "5/5 [==============================] - 0s 9ms/step - loss: 1.0335 - accuracy: 0.4638 - val_loss: 1.0703 - val_accuracy: 0.4375\n",
      "Epoch 13/50\n",
      "5/5 [==============================] - 0s 11ms/step - loss: 1.0235 - accuracy: 0.4855 - val_loss: 1.0585 - val_accuracy: 0.4375\n",
      "Epoch 14/50\n",
      "5/5 [==============================] - 0s 11ms/step - loss: 1.0141 - accuracy: 0.5290 - val_loss: 1.0473 - val_accuracy: 0.4375\n",
      "Epoch 15/50\n",
      "5/5 [==============================] - 0s 11ms/step - loss: 1.0045 - accuracy: 0.5435 - val_loss: 1.0367 - val_accuracy: 0.4375\n",
      "Epoch 16/50\n",
      "5/5 [==============================] - 0s 13ms/step - loss: 0.9947 - accuracy: 0.5652 - val_loss: 1.0273 - val_accuracy: 0.4375\n",
      "Epoch 17/50\n",
      "5/5 [==============================] - 0s 9ms/step - loss: 0.9854 - accuracy: 0.5870 - val_loss: 1.0176 - val_accuracy: 0.5000\n",
      "Epoch 18/50\n",
      "5/5 [==============================] - 0s 12ms/step - loss: 0.9763 - accuracy: 0.6232 - val_loss: 1.0080 - val_accuracy: 0.5625\n",
      "Epoch 19/50\n",
      "5/5 [==============================] - 0s 13ms/step - loss: 0.9674 - accuracy: 0.6304 - val_loss: 0.9994 - val_accuracy: 0.5625\n",
      "Epoch 20/50\n",
      "5/5 [==============================] - 0s 11ms/step - loss: 0.9584 - accuracy: 0.6449 - val_loss: 0.9903 - val_accuracy: 0.5625\n",
      "Epoch 21/50\n",
      "5/5 [==============================] - 0s 10ms/step - loss: 0.9492 - accuracy: 0.6449 - val_loss: 0.9822 - val_accuracy: 0.5625\n",
      "Epoch 22/50\n",
      "5/5 [==============================] - 0s 12ms/step - loss: 0.9403 - accuracy: 0.6667 - val_loss: 0.9739 - val_accuracy: 0.5000\n",
      "Epoch 23/50\n",
      "5/5 [==============================] - 0s 12ms/step - loss: 0.9313 - accuracy: 0.6667 - val_loss: 0.9656 - val_accuracy: 0.5000\n",
      "Epoch 24/50\n",
      "5/5 [==============================] - 0s 10ms/step - loss: 0.9223 - accuracy: 0.6884 - val_loss: 0.9571 - val_accuracy: 0.5000\n",
      "Epoch 25/50\n",
      "5/5 [==============================] - 0s 13ms/step - loss: 0.9131 - accuracy: 0.6884 - val_loss: 0.9482 - val_accuracy: 0.5000\n",
      "Epoch 26/50\n",
      "5/5 [==============================] - 0s 11ms/step - loss: 0.9038 - accuracy: 0.7246 - val_loss: 0.9387 - val_accuracy: 0.5000\n",
      "Epoch 27/50\n",
      "5/5 [==============================] - 0s 11ms/step - loss: 0.8947 - accuracy: 0.7319 - val_loss: 0.9276 - val_accuracy: 0.5625\n",
      "Epoch 28/50\n",
      "5/5 [==============================] - 0s 13ms/step - loss: 0.8848 - accuracy: 0.7464 - val_loss: 0.9172 - val_accuracy: 0.5625\n",
      "Epoch 29/50\n",
      "5/5 [==============================] - 0s 12ms/step - loss: 0.8753 - accuracy: 0.7464 - val_loss: 0.9073 - val_accuracy: 0.6250\n",
      "Epoch 30/50\n",
      "5/5 [==============================] - 0s 11ms/step - loss: 0.8659 - accuracy: 0.7536 - val_loss: 0.8974 - val_accuracy: 0.6250\n",
      "Epoch 31/50\n",
      "5/5 [==============================] - 0s 11ms/step - loss: 0.8562 - accuracy: 0.7681 - val_loss: 0.8874 - val_accuracy: 0.6250\n",
      "Epoch 32/50\n",
      "5/5 [==============================] - 0s 13ms/step - loss: 0.8467 - accuracy: 0.7681 - val_loss: 0.8778 - val_accuracy: 0.6875\n",
      "Epoch 33/50\n",
      "5/5 [==============================] - 0s 12ms/step - loss: 0.8373 - accuracy: 0.7681 - val_loss: 0.8685 - val_accuracy: 0.6875\n",
      "Epoch 34/50\n",
      "5/5 [==============================] - 0s 11ms/step - loss: 0.8280 - accuracy: 0.7899 - val_loss: 0.8583 - val_accuracy: 0.6875\n",
      "Epoch 35/50\n",
      "5/5 [==============================] - 0s 10ms/step - loss: 0.8186 - accuracy: 0.8188 - val_loss: 0.8481 - val_accuracy: 0.6875\n",
      "Epoch 36/50\n",
      "5/5 [==============================] - 0s 12ms/step - loss: 0.8093 - accuracy: 0.8333 - val_loss: 0.8379 - val_accuracy: 0.7500\n",
      "Epoch 37/50\n",
      "5/5 [==============================] - 0s 13ms/step - loss: 0.7998 - accuracy: 0.8406 - val_loss: 0.8276 - val_accuracy: 0.7500\n",
      "Epoch 38/50\n",
      "5/5 [==============================] - 0s 12ms/step - loss: 0.7904 - accuracy: 0.8406 - val_loss: 0.8174 - val_accuracy: 0.7500\n",
      "Epoch 39/50\n",
      "5/5 [==============================] - 0s 12ms/step - loss: 0.7812 - accuracy: 0.8478 - val_loss: 0.8074 - val_accuracy: 0.7500\n",
      "Epoch 40/50\n",
      "5/5 [==============================] - 0s 12ms/step - loss: 0.7719 - accuracy: 0.8478 - val_loss: 0.7975 - val_accuracy: 0.7500\n",
      "Epoch 41/50\n",
      "5/5 [==============================] - 0s 11ms/step - loss: 0.7628 - accuracy: 0.8696 - val_loss: 0.7881 - val_accuracy: 0.8125\n",
      "Epoch 42/50\n",
      "5/5 [==============================] - 0s 10ms/step - loss: 0.7535 - accuracy: 0.8841 - val_loss: 0.7787 - val_accuracy: 0.8750\n",
      "Epoch 43/50\n",
      "5/5 [==============================] - 0s 11ms/step - loss: 0.7442 - accuracy: 0.8913 - val_loss: 0.7687 - val_accuracy: 0.8750\n",
      "Epoch 44/50\n",
      "5/5 [==============================] - 0s 13ms/step - loss: 0.7350 - accuracy: 0.8986 - val_loss: 0.7585 - val_accuracy: 0.8750\n",
      "Epoch 45/50\n",
      "5/5 [==============================] - 0s 18ms/step - loss: 0.7256 - accuracy: 0.9058 - val_loss: 0.7495 - val_accuracy: 0.8750\n",
      "Epoch 46/50\n",
      "5/5 [==============================] - 0s 13ms/step - loss: 0.7162 - accuracy: 0.9058 - val_loss: 0.7400 - val_accuracy: 0.8750\n",
      "Epoch 47/50\n",
      "5/5 [==============================] - 0s 11ms/step - loss: 0.7068 - accuracy: 0.9058 - val_loss: 0.7307 - val_accuracy: 0.8750\n",
      "Epoch 48/50\n",
      "5/5 [==============================] - 0s 11ms/step - loss: 0.6973 - accuracy: 0.9058 - val_loss: 0.7216 - val_accuracy: 0.8750\n",
      "Epoch 49/50\n",
      "5/5 [==============================] - 0s 12ms/step - loss: 0.6879 - accuracy: 0.9058 - val_loss: 0.7127 - val_accuracy: 0.8750\n",
      "Epoch 50/50\n",
      "5/5 [==============================] - 0s 14ms/step - loss: 0.6786 - accuracy: 0.9058 - val_loss: 0.7040 - val_accuracy: 0.8750\n",
      "Test Accuracy: 0.8461538553237915\n"
     ]
    }
   ],
   "source": [
    "# Convert the data into pandas dataframes\n",
    "processed_noisy_images = pd.DataFrame(noisy_X_clean)\n",
    "processed_noisy_labels = pd.DataFrame(noisy_Y_clean)\n",
    "\n",
    "# Split the data into training and testing sets\n",
    "X_train, X_test, y_train, y_test = train_test_split(\n",
    "    processed_noisy_images, processed_noisy_labels, test_size=0.2, random_state=42\n",
    ")\n",
    "\n",
    "# Convert the labels to categorical format (one-hot encoding)\n",
    "num_classes = 3\n",
    "y_train = pd.get_dummies(y_train, columns=[0]).values\n",
    "y_test = pd.get_dummies(y_test, columns=[0]).values\n",
    "\n",
    "# Build the MLP model\n",
    "model = Sequential()\n",
    "model.add(Dense(64, activation='relu', input_shape=(81,)))\n",
    "model.add(Dense(32, activation='relu'))\n",
    "model.add(Dense(num_classes, activation='softmax'))\n",
    "\n",
    "# Compile the model\n",
    "learning_rate = 0.001\n",
    "momentum = 0.9\n",
    "model.compile(\n",
    "    loss='categorical_crossentropy',\n",
    "    optimizer=SGD(learning_rate=learning_rate, momentum=momentum),\n",
    "    metrics=['accuracy']\n",
    ")\n",
    "\n",
    "# Train the model\n",
    "epochs = 50\n",
    "batch_size = 32\n",
    "history = model.fit(\n",
    "    X_train, y_train,\n",
    "    validation_split=0.1,\n",
    "    epochs=epochs,\n",
    "    batch_size=batch_size,\n",
    "    verbose=1\n",
    ")\n",
    "\n",
    "# Evaluate the model on the test set\n",
    "test_loss, test_accuracy = model.evaluate(X_test, y_test, verbose=0)\n",
    "print(\"Test Accuracy:\", test_accuracy)\n",
    "\n"
   ]
  },
  {
   "cell_type": "code",
   "execution_count": 50,
   "id": "8927e4c1",
   "metadata": {},
   "outputs": [
    {
     "name": "stdout",
     "output_type": "stream",
     "text": [
      "Epoch 1/50\n",
      "3/3 [==============================] - 0s 90ms/step - loss: 1.1443 - accuracy: 0.4493 - val_loss: 1.1917 - val_accuracy: 0.3125\n",
      "Epoch 2/50\n",
      "3/3 [==============================] - 0s 22ms/step - loss: 1.1268 - accuracy: 0.4710 - val_loss: 1.1675 - val_accuracy: 0.3125\n",
      "Epoch 3/50\n",
      "3/3 [==============================] - 0s 22ms/step - loss: 1.1061 - accuracy: 0.5000 - val_loss: 1.1434 - val_accuracy: 0.4375\n",
      "Epoch 4/50\n",
      "3/3 [==============================] - 0s 23ms/step - loss: 1.0860 - accuracy: 0.5362 - val_loss: 1.1212 - val_accuracy: 0.4375\n",
      "Epoch 5/50\n",
      "3/3 [==============================] - 0s 20ms/step - loss: 1.0692 - accuracy: 0.5652 - val_loss: 1.1027 - val_accuracy: 0.4375\n",
      "Epoch 6/50\n",
      "3/3 [==============================] - 0s 23ms/step - loss: 1.0523 - accuracy: 0.5942 - val_loss: 1.0902 - val_accuracy: 0.4375\n",
      "Epoch 7/50\n",
      "3/3 [==============================] - 0s 21ms/step - loss: 1.0382 - accuracy: 0.6159 - val_loss: 1.0749 - val_accuracy: 0.4375\n",
      "Epoch 8/50\n",
      "3/3 [==============================] - 0s 27ms/step - loss: 1.0241 - accuracy: 0.6304 - val_loss: 1.0566 - val_accuracy: 0.5000\n",
      "Epoch 9/50\n",
      "3/3 [==============================] - 0s 19ms/step - loss: 1.0078 - accuracy: 0.6304 - val_loss: 1.0421 - val_accuracy: 0.5000\n",
      "Epoch 10/50\n",
      "3/3 [==============================] - 0s 35ms/step - loss: 0.9934 - accuracy: 0.6159 - val_loss: 1.0276 - val_accuracy: 0.5000\n",
      "Epoch 11/50\n",
      "3/3 [==============================] - 0s 18ms/step - loss: 0.9799 - accuracy: 0.6449 - val_loss: 1.0141 - val_accuracy: 0.4375\n",
      "Epoch 12/50\n",
      "3/3 [==============================] - 0s 20ms/step - loss: 0.9667 - accuracy: 0.6449 - val_loss: 1.0042 - val_accuracy: 0.5000\n",
      "Epoch 13/50\n",
      "3/3 [==============================] - 0s 20ms/step - loss: 0.9538 - accuracy: 0.6594 - val_loss: 0.9939 - val_accuracy: 0.5000\n",
      "Epoch 14/50\n",
      "3/3 [==============================] - 0s 21ms/step - loss: 0.9419 - accuracy: 0.6594 - val_loss: 0.9818 - val_accuracy: 0.5000\n",
      "Epoch 15/50\n",
      "3/3 [==============================] - 0s 22ms/step - loss: 0.9290 - accuracy: 0.6884 - val_loss: 0.9703 - val_accuracy: 0.5000\n",
      "Epoch 16/50\n",
      "3/3 [==============================] - 0s 20ms/step - loss: 0.9149 - accuracy: 0.7029 - val_loss: 0.9599 - val_accuracy: 0.4375\n",
      "Epoch 17/50\n",
      "3/3 [==============================] - 0s 20ms/step - loss: 0.9026 - accuracy: 0.7101 - val_loss: 0.9489 - val_accuracy: 0.4375\n",
      "Epoch 18/50\n",
      "3/3 [==============================] - 0s 24ms/step - loss: 0.8906 - accuracy: 0.7246 - val_loss: 0.9371 - val_accuracy: 0.6250\n",
      "Epoch 19/50\n",
      "3/3 [==============================] - 0s 20ms/step - loss: 0.8784 - accuracy: 0.7246 - val_loss: 0.9255 - val_accuracy: 0.6875\n",
      "Epoch 20/50\n",
      "3/3 [==============================] - 0s 20ms/step - loss: 0.8659 - accuracy: 0.7246 - val_loss: 0.9145 - val_accuracy: 0.6875\n",
      "Epoch 21/50\n",
      "3/3 [==============================] - 0s 22ms/step - loss: 0.8532 - accuracy: 0.7319 - val_loss: 0.9036 - val_accuracy: 0.6875\n",
      "Epoch 22/50\n",
      "3/3 [==============================] - 0s 24ms/step - loss: 0.8409 - accuracy: 0.7536 - val_loss: 0.8917 - val_accuracy: 0.6250\n",
      "Epoch 23/50\n",
      "3/3 [==============================] - 0s 20ms/step - loss: 0.8281 - accuracy: 0.7536 - val_loss: 0.8764 - val_accuracy: 0.6250\n",
      "Epoch 24/50\n",
      "3/3 [==============================] - 0s 24ms/step - loss: 0.8151 - accuracy: 0.7536 - val_loss: 0.8613 - val_accuracy: 0.6250\n",
      "Epoch 25/50\n",
      "3/3 [==============================] - 0s 22ms/step - loss: 0.8021 - accuracy: 0.7609 - val_loss: 0.8465 - val_accuracy: 0.6250\n",
      "Epoch 26/50\n",
      "3/3 [==============================] - 0s 22ms/step - loss: 0.7896 - accuracy: 0.8116 - val_loss: 0.8318 - val_accuracy: 0.6250\n",
      "Epoch 27/50\n",
      "3/3 [==============================] - 0s 22ms/step - loss: 0.7775 - accuracy: 0.8333 - val_loss: 0.8205 - val_accuracy: 0.6250\n",
      "Epoch 28/50\n",
      "3/3 [==============================] - 0s 24ms/step - loss: 0.7673 - accuracy: 0.8478 - val_loss: 0.8107 - val_accuracy: 0.6250\n",
      "Epoch 29/50\n",
      "3/3 [==============================] - 0s 28ms/step - loss: 0.7540 - accuracy: 0.8478 - val_loss: 0.7999 - val_accuracy: 0.6875\n",
      "Epoch 30/50\n",
      "3/3 [==============================] - 0s 25ms/step - loss: 0.7430 - accuracy: 0.8768 - val_loss: 0.7883 - val_accuracy: 0.6875\n",
      "Epoch 31/50\n",
      "3/3 [==============================] - 0s 24ms/step - loss: 0.7313 - accuracy: 0.8841 - val_loss: 0.7766 - val_accuracy: 0.6875\n",
      "Epoch 32/50\n",
      "3/3 [==============================] - 0s 24ms/step - loss: 0.7202 - accuracy: 0.8913 - val_loss: 0.7653 - val_accuracy: 0.6875\n",
      "Epoch 33/50\n",
      "3/3 [==============================] - 0s 20ms/step - loss: 0.7081 - accuracy: 0.9058 - val_loss: 0.7556 - val_accuracy: 0.6875\n",
      "Epoch 34/50\n",
      "3/3 [==============================] - 0s 20ms/step - loss: 0.6975 - accuracy: 0.9058 - val_loss: 0.7446 - val_accuracy: 0.6875\n",
      "Epoch 35/50\n",
      "3/3 [==============================] - 0s 19ms/step - loss: 0.6853 - accuracy: 0.9058 - val_loss: 0.7336 - val_accuracy: 0.7500\n",
      "Epoch 36/50\n",
      "3/3 [==============================] - 0s 23ms/step - loss: 0.6752 - accuracy: 0.9130 - val_loss: 0.7241 - val_accuracy: 0.7500\n",
      "Epoch 37/50\n",
      "3/3 [==============================] - 0s 21ms/step - loss: 0.6632 - accuracy: 0.9203 - val_loss: 0.7153 - val_accuracy: 0.6875\n",
      "Epoch 38/50\n",
      "3/3 [==============================] - 0s 36ms/step - loss: 0.6529 - accuracy: 0.9130 - val_loss: 0.7057 - val_accuracy: 0.7500\n",
      "Epoch 39/50\n",
      "3/3 [==============================] - 0s 19ms/step - loss: 0.6416 - accuracy: 0.9275 - val_loss: 0.6935 - val_accuracy: 0.7500\n",
      "Epoch 40/50\n",
      "3/3 [==============================] - 0s 19ms/step - loss: 0.6309 - accuracy: 0.9275 - val_loss: 0.6819 - val_accuracy: 0.7500\n",
      "Epoch 41/50\n",
      "3/3 [==============================] - 0s 19ms/step - loss: 0.6206 - accuracy: 0.9203 - val_loss: 0.6723 - val_accuracy: 0.7500\n",
      "Epoch 42/50\n",
      "3/3 [==============================] - 0s 19ms/step - loss: 0.6109 - accuracy: 0.9348 - val_loss: 0.6618 - val_accuracy: 0.8125\n",
      "Epoch 43/50\n",
      "3/3 [==============================] - 0s 20ms/step - loss: 0.6014 - accuracy: 0.9348 - val_loss: 0.6518 - val_accuracy: 0.8125\n",
      "Epoch 44/50\n",
      "3/3 [==============================] - 0s 23ms/step - loss: 0.5914 - accuracy: 0.9275 - val_loss: 0.6439 - val_accuracy: 0.8125\n",
      "Epoch 45/50\n",
      "3/3 [==============================] - 0s 23ms/step - loss: 0.5812 - accuracy: 0.9348 - val_loss: 0.6361 - val_accuracy: 0.8125\n",
      "Epoch 46/50\n",
      "3/3 [==============================] - 0s 18ms/step - loss: 0.5712 - accuracy: 0.9348 - val_loss: 0.6265 - val_accuracy: 0.8125\n",
      "Epoch 47/50\n",
      "3/3 [==============================] - 0s 21ms/step - loss: 0.5608 - accuracy: 0.9348 - val_loss: 0.6172 - val_accuracy: 0.8125\n",
      "Epoch 48/50\n",
      "3/3 [==============================] - 0s 19ms/step - loss: 0.5520 - accuracy: 0.9420 - val_loss: 0.6104 - val_accuracy: 0.8125\n",
      "Epoch 49/50\n",
      "3/3 [==============================] - 0s 20ms/step - loss: 0.5418 - accuracy: 0.9348 - val_loss: 0.6014 - val_accuracy: 0.7500\n",
      "Epoch 50/50\n",
      "3/3 [==============================] - 0s 22ms/step - loss: 0.5323 - accuracy: 0.9275 - val_loss: 0.5911 - val_accuracy: 0.7500\n",
      "Test Accuracy: 0.8205128312110901\n"
     ]
    }
   ],
   "source": [
    "\n",
    "# Convert the data into pandas dataframes\n",
    "processed_noisy_images = pd.DataFrame(noisy_X_clean)\n",
    "processed_noisy_labels = pd.DataFrame(noisy_Y_clean)\n",
    "\n",
    "# Split the data into training and testing sets\n",
    "X_train, X_test, y_train, y_test = train_test_split(\n",
    "    processed_noisy_images, processed_noisy_labels, test_size=0.2, random_state=42\n",
    ")\n",
    "# Convert the labels to categorical format (one-hot encoding)\n",
    "num_classes = 3\n",
    "y_train = pd.get_dummies(y_train, columns=[0]).values\n",
    "y_test = pd.get_dummies(y_test, columns=[0]).values\n",
    "\n",
    "# Experiment with different parameters and architectures\n",
    "# Build the MLP model\n",
    "model = Sequential()\n",
    "model.add(Dense(128, activation='relu', input_shape=(81,)))  # Increase nodes in the first layer\n",
    "model.add(Dense(64, activation='relu'))  # Add another hidden layer\n",
    "model.add(Dense(num_classes, activation='softmax'))\n",
    "\n",
    "# Compile the model\n",
    "learning_rate = 0.01  # Try a higher learning rate\n",
    "momentum = 0.5  # Adjust momentum\n",
    "model.compile(\n",
    "    loss='categorical_crossentropy',\n",
    "    optimizer=SGD(learning_rate=learning_rate, momentum=momentum),\n",
    "    metrics=['accuracy']\n",
    ")\n",
    "\n",
    "# Train the model\n",
    "epochs = 50  # Increase the number of epochs for training\n",
    "batch_size = 64  # Change the batch size\n",
    "history = model.fit(\n",
    "    X_train, y_train,\n",
    "    validation_split=0.1,\n",
    "    epochs=epochs,\n",
    "    batch_size=batch_size,\n",
    "    verbose=1\n",
    ")\n",
    "\n",
    "# Evaluate the model on the test set\n",
    "test_loss, test_accuracy = model.evaluate(X_test, y_test, verbose=0)\n",
    "print(\"Test Accuracy:\", test_accuracy)\n"
   ]
  },
  {
   "cell_type": "markdown",
   "id": "fed00805",
   "metadata": {},
   "source": [
    "# CNN"
   ]
  },
  {
   "cell_type": "code",
   "execution_count": 55,
   "id": "2650bc85",
   "metadata": {},
   "outputs": [
    {
     "name": "stdout",
     "output_type": "stream",
     "text": [
      "Epoch 1/30\n",
      "5/5 [==============================] - 1s 40ms/step - loss: 1.1043 - accuracy: 0.2971 - val_loss: 1.1048 - val_accuracy: 0.2500\n",
      "Epoch 2/30\n",
      "5/5 [==============================] - 0s 11ms/step - loss: 1.1023 - accuracy: 0.3043 - val_loss: 1.1019 - val_accuracy: 0.3750\n",
      "Epoch 3/30\n",
      "5/5 [==============================] - 0s 10ms/step - loss: 1.0991 - accuracy: 0.3116 - val_loss: 1.0983 - val_accuracy: 0.3750\n",
      "Epoch 4/30\n",
      "5/5 [==============================] - 0s 11ms/step - loss: 1.0948 - accuracy: 0.3696 - val_loss: 1.0941 - val_accuracy: 0.4375\n",
      "Epoch 5/30\n",
      "5/5 [==============================] - 0s 11ms/step - loss: 1.0912 - accuracy: 0.4203 - val_loss: 1.0893 - val_accuracy: 0.5000\n",
      "Epoch 6/30\n",
      "5/5 [==============================] - 0s 10ms/step - loss: 1.0869 - accuracy: 0.5217 - val_loss: 1.0850 - val_accuracy: 0.6250\n",
      "Epoch 7/30\n",
      "5/5 [==============================] - 0s 11ms/step - loss: 1.0830 - accuracy: 0.6014 - val_loss: 1.0809 - val_accuracy: 0.6250\n",
      "Epoch 8/30\n",
      "5/5 [==============================] - 0s 11ms/step - loss: 1.0792 - accuracy: 0.6014 - val_loss: 1.0772 - val_accuracy: 0.6250\n",
      "Epoch 9/30\n",
      "5/5 [==============================] - 0s 11ms/step - loss: 1.0753 - accuracy: 0.6449 - val_loss: 1.0738 - val_accuracy: 0.6875\n",
      "Epoch 10/30\n",
      "5/5 [==============================] - 0s 14ms/step - loss: 1.0715 - accuracy: 0.6812 - val_loss: 1.0708 - val_accuracy: 0.6875\n",
      "Epoch 11/30\n",
      "5/5 [==============================] - 0s 10ms/step - loss: 1.0682 - accuracy: 0.6884 - val_loss: 1.0678 - val_accuracy: 0.6875\n",
      "Epoch 12/30\n",
      "5/5 [==============================] - 0s 12ms/step - loss: 1.0646 - accuracy: 0.6957 - val_loss: 1.0645 - val_accuracy: 0.6875\n",
      "Epoch 13/30\n",
      "5/5 [==============================] - 0s 11ms/step - loss: 1.0612 - accuracy: 0.6957 - val_loss: 1.0610 - val_accuracy: 0.6875\n",
      "Epoch 14/30\n",
      "5/5 [==============================] - 0s 12ms/step - loss: 1.0581 - accuracy: 0.7101 - val_loss: 1.0577 - val_accuracy: 0.6875\n",
      "Epoch 15/30\n",
      "5/5 [==============================] - 0s 11ms/step - loss: 1.0546 - accuracy: 0.7246 - val_loss: 1.0547 - val_accuracy: 0.6875\n",
      "Epoch 16/30\n",
      "5/5 [==============================] - 0s 12ms/step - loss: 1.0513 - accuracy: 0.6884 - val_loss: 1.0516 - val_accuracy: 0.6875\n",
      "Epoch 17/30\n",
      "5/5 [==============================] - 0s 9ms/step - loss: 1.0479 - accuracy: 0.6812 - val_loss: 1.0484 - val_accuracy: 0.6875\n",
      "Epoch 18/30\n",
      "5/5 [==============================] - 0s 14ms/step - loss: 1.0444 - accuracy: 0.6739 - val_loss: 1.0448 - val_accuracy: 0.6875\n",
      "Epoch 19/30\n",
      "5/5 [==============================] - 0s 11ms/step - loss: 1.0409 - accuracy: 0.6739 - val_loss: 1.0413 - val_accuracy: 0.6875\n",
      "Epoch 20/30\n",
      "5/5 [==============================] - 0s 11ms/step - loss: 1.0373 - accuracy: 0.6739 - val_loss: 1.0374 - val_accuracy: 0.6875\n",
      "Epoch 21/30\n",
      "5/5 [==============================] - 0s 12ms/step - loss: 1.0337 - accuracy: 0.6667 - val_loss: 1.0326 - val_accuracy: 0.6875\n",
      "Epoch 22/30\n",
      "5/5 [==============================] - 0s 10ms/step - loss: 1.0295 - accuracy: 0.6522 - val_loss: 1.0283 - val_accuracy: 0.6875\n",
      "Epoch 23/30\n",
      "5/5 [==============================] - 0s 12ms/step - loss: 1.0255 - accuracy: 0.6522 - val_loss: 1.0235 - val_accuracy: 0.6875\n",
      "Epoch 24/30\n",
      "5/5 [==============================] - 0s 11ms/step - loss: 1.0214 - accuracy: 0.6522 - val_loss: 1.0182 - val_accuracy: 0.6875\n",
      "Epoch 25/30\n",
      "5/5 [==============================] - 0s 11ms/step - loss: 1.0171 - accuracy: 0.6522 - val_loss: 1.0126 - val_accuracy: 0.6875\n",
      "Epoch 26/30\n",
      "5/5 [==============================] - 0s 11ms/step - loss: 1.0127 - accuracy: 0.6449 - val_loss: 1.0062 - val_accuracy: 0.6875\n",
      "Epoch 27/30\n",
      "5/5 [==============================] - 0s 11ms/step - loss: 1.0079 - accuracy: 0.6449 - val_loss: 1.0002 - val_accuracy: 0.6875\n",
      "Epoch 28/30\n",
      "5/5 [==============================] - 0s 11ms/step - loss: 1.0031 - accuracy: 0.6449 - val_loss: 0.9946 - val_accuracy: 0.6875\n",
      "Epoch 29/30\n",
      "5/5 [==============================] - 0s 19ms/step - loss: 0.9981 - accuracy: 0.6449 - val_loss: 0.9883 - val_accuracy: 0.6875\n",
      "Epoch 30/30\n",
      "5/5 [==============================] - 0s 10ms/step - loss: 0.9929 - accuracy: 0.6449 - val_loss: 0.9813 - val_accuracy: 0.6875\n",
      "Test Accuracy: 0.6666666865348816\n"
     ]
    }
   ],
   "source": [
    "# Load the preprocessed data\n",
    "processed_smiley_images = pd.DataFrame(smiley_X_clean)\n",
    "processed_smiley_labels = pd.DataFrame(smiley_Y_clean)\n",
    "\n",
    "# Convert labels to one-hot encoded representation\n",
    "num_classes = 3\n",
    "y_onehot = to_categorical(processed_smiley_labels, num_classes=num_classes)\n",
    "\n",
    "# Split the data into training and testing sets\n",
    "X_train, X_test, y_train, y_test = train_test_split(\n",
    "    processed_smiley_images.values, y_onehot, test_size=0.2, random_state=42\n",
    ")\n",
    "\n",
    "# Reshape the data for CNN input\n",
    "X_train = X_train.reshape(-1, 9, 9, 1)\n",
    "X_test = X_test.reshape(-1, 9, 9, 1)\n",
    "\n",
    "# Build the CNN model\n",
    "model = Sequential()\n",
    "model.add(Conv2D(32, kernel_size=(3, 3), activation='relu', input_shape=(9, 9, 1)))\n",
    "model.add(MaxPooling2D(pool_size=(2, 2)))\n",
    "model.add(Flatten())\n",
    "model.add(Dense(64, activation='relu'))\n",
    "model.add(Dense(32, activation='relu'))\n",
    "model.add(Dense(3, activation='softmax'))\n",
    "\n",
    "# Compile the model\n",
    "learning_rate = 0.001\n",
    "momentum = 0.9\n",
    "model.compile(\n",
    "    loss='categorical_crossentropy',\n",
    "    optimizer=SGD(learning_rate=learning_rate, momentum=momentum),\n",
    "    metrics=['accuracy']\n",
    ")\n",
    "\n",
    "# Train the model\n",
    "epochs = 30\n",
    "batch_size = 32\n",
    "history = model.fit(\n",
    "    X_train, y_train,\n",
    "    validation_split=0.1,\n",
    "    epochs=epochs,\n",
    "    batch_size=batch_size,\n",
    "    verbose=1\n",
    ")\n",
    "\n",
    "# Evaluate the model on the test set\n",
    "test_loss, test_accuracy = model.evaluate(X_test, y_test, verbose=0)\n",
    "print(\"Test Accuracy:\", test_accuracy)\n"
   ]
  },
  {
   "cell_type": "code",
   "execution_count": 56,
   "id": "4fc1407c",
   "metadata": {},
   "outputs": [
    {
     "name": "stdout",
     "output_type": "stream",
     "text": [
      "Epoch 1/10\n",
      "5/5 [==============================] - 1s 38ms/step - loss: 1.0988 - accuracy: 0.3478 - val_loss: 1.0994 - val_accuracy: 0.2500\n",
      "Epoch 2/10\n",
      "5/5 [==============================] - 0s 11ms/step - loss: 1.0981 - accuracy: 0.3623 - val_loss: 1.0998 - val_accuracy: 0.2500\n",
      "Epoch 3/10\n",
      "5/5 [==============================] - 0s 10ms/step - loss: 1.0983 - accuracy: 0.3623 - val_loss: 1.1020 - val_accuracy: 0.2500\n",
      "Epoch 4/10\n",
      "5/5 [==============================] - 0s 11ms/step - loss: 1.0973 - accuracy: 0.3623 - val_loss: 1.1030 - val_accuracy: 0.2500\n",
      "Epoch 5/10\n",
      "5/5 [==============================] - 0s 13ms/step - loss: 1.0976 - accuracy: 0.3623 - val_loss: 1.1047 - val_accuracy: 0.2500\n",
      "Epoch 6/10\n",
      "5/5 [==============================] - 0s 13ms/step - loss: 1.0966 - accuracy: 0.3623 - val_loss: 1.1037 - val_accuracy: 0.2500\n",
      "Epoch 7/10\n",
      "5/5 [==============================] - 0s 11ms/step - loss: 1.0964 - accuracy: 0.3623 - val_loss: 1.1035 - val_accuracy: 0.2500\n",
      "Epoch 8/10\n",
      "5/5 [==============================] - 0s 10ms/step - loss: 1.0965 - accuracy: 0.3623 - val_loss: 1.1021 - val_accuracy: 0.2500\n",
      "Epoch 9/10\n",
      "5/5 [==============================] - 0s 10ms/step - loss: 1.0965 - accuracy: 0.3623 - val_loss: 1.1038 - val_accuracy: 0.2500\n",
      "Epoch 10/10\n",
      "5/5 [==============================] - 0s 10ms/step - loss: 1.0959 - accuracy: 0.3623 - val_loss: 1.1036 - val_accuracy: 0.2500\n",
      "2/2 [==============================] - 0s 3ms/step - loss: 1.0989 - accuracy: 0.2821\n",
      "Test Accuracy: 0.28205129504203796\n"
     ]
    }
   ],
   "source": [
    "# Load the data from the pandas DataFrame\n",
    "smiley_X = processed_smiley_images.values.reshape(-1, 9, 9, 1)\n",
    "smiley_Y = processed_smiley_labels.values\n",
    "\n",
    "# Normalize the image data\n",
    "smiley_X = smiley_X / 255.0\n",
    "\n",
    "# Split the data into training and testing sets\n",
    "from sklearn.model_selection import train_test_split\n",
    "\n",
    "X_train, X_test, y_train, y_test = train_test_split(smiley_X, smiley_Y, test_size=0.2, random_state=42)\n",
    "\n",
    "# Define the CNN model\n",
    "model = models.Sequential()\n",
    "model.add(layers.Conv2D(32, (3, 3), activation='relu', input_shape=(9, 9, 1)))\n",
    "model.add(layers.MaxPooling2D((2, 2)))\n",
    "model.add(layers.Flatten())\n",
    "model.add(layers.Dense(64, activation='relu'))\n",
    "model.add(layers.Dense(3, activation='softmax'))\n",
    "\n",
    "# Compile the model\n",
    "model.compile(optimizer='adam',\n",
    "              loss='sparse_categorical_crossentropy',\n",
    "              metrics=['accuracy'])\n",
    "\n",
    "# Train the model\n",
    "model.fit(X_train, y_train, epochs=10, batch_size=32, validation_split=0.1)\n",
    "\n",
    "# Evaluate the model on the test set\n",
    "test_loss, test_accuracy = model.evaluate(X_test, y_test)\n",
    "\n",
    "print(\"Test Accuracy:\", test_accuracy)\n"
   ]
  },
  {
   "cell_type": "code",
   "execution_count": 57,
   "id": "af3c474a",
   "metadata": {},
   "outputs": [
    {
     "name": "stdout",
     "output_type": "stream",
     "text": [
      "Epoch 1/10\n",
      "5/5 [==============================] - 2s 66ms/step - loss: 1.0989 - accuracy: 0.3043 - val_loss: 1.0974 - val_accuracy: 0.4375\n",
      "Epoch 2/10\n",
      "5/5 [==============================] - 0s 16ms/step - loss: 1.0981 - accuracy: 0.2826 - val_loss: 1.0983 - val_accuracy: 0.2500\n",
      "Epoch 3/10\n",
      "5/5 [==============================] - 0s 17ms/step - loss: 1.0975 - accuracy: 0.2609 - val_loss: 1.0975 - val_accuracy: 0.4375\n",
      "Epoch 4/10\n",
      "5/5 [==============================] - 0s 21ms/step - loss: 1.0971 - accuracy: 0.3333 - val_loss: 1.0978 - val_accuracy: 0.2500\n",
      "Epoch 5/10\n",
      "5/5 [==============================] - 0s 16ms/step - loss: 1.0969 - accuracy: 0.3623 - val_loss: 1.0983 - val_accuracy: 0.2500\n",
      "Epoch 6/10\n",
      "5/5 [==============================] - 0s 19ms/step - loss: 1.0968 - accuracy: 0.3623 - val_loss: 1.0982 - val_accuracy: 0.2500\n",
      "Epoch 7/10\n",
      "5/5 [==============================] - 0s 21ms/step - loss: 1.0968 - accuracy: 0.3623 - val_loss: 1.0988 - val_accuracy: 0.2500\n",
      "Epoch 8/10\n",
      "5/5 [==============================] - 0s 19ms/step - loss: 1.0967 - accuracy: 0.3623 - val_loss: 1.0987 - val_accuracy: 0.2500\n",
      "Epoch 9/10\n",
      "5/5 [==============================] - 0s 20ms/step - loss: 1.0969 - accuracy: 0.3623 - val_loss: 1.0982 - val_accuracy: 0.2500\n",
      "Epoch 10/10\n",
      "5/5 [==============================] - 0s 22ms/step - loss: 1.0966 - accuracy: 0.3623 - val_loss: 1.0978 - val_accuracy: 0.2500\n",
      "2/2 [==============================] - 0s 45ms/step - loss: 1.0916 - accuracy: 0.2821\n",
      "Test Accuracy: 0.28205129504203796\n"
     ]
    }
   ],
   "source": [
    "# Load the data from the pandas DataFrame\n",
    "smiley_X = processed_smiley_images.values.reshape(-1, 9, 9, 1)\n",
    "smiley_Y = processed_smiley_labels.values\n",
    "\n",
    "# Normalize the image data\n",
    "smiley_X = smiley_X / 255.0\n",
    "\n",
    "# Split the data into training and testing sets\n",
    "from sklearn.model_selection import train_test_split\n",
    "\n",
    "X_train, X_test, y_train, y_test = train_test_split(smiley_X, smiley_Y, test_size=0.2, random_state=42)\n",
    "\n",
    "# Define the CNN model with padding in the convolutional layers\n",
    "model = models.Sequential()\n",
    "\n",
    "# Convolutional layers with padding\n",
    "model.add(layers.Conv2D(32, (3, 3), activation='relu', padding='same', input_shape=(9, 9, 1)))\n",
    "model.add(layers.MaxPooling2D((2, 2)))\n",
    "\n",
    "# Add more convolutional layers with padding\n",
    "model.add(layers.Conv2D(64, (3, 3), activation='relu', padding='same'))\n",
    "model.add(layers.MaxPooling2D((2, 2)))\n",
    "\n",
    "model.add(layers.Conv2D(128, (3, 3), activation='relu', padding='same'))\n",
    "model.add(layers.MaxPooling2D((2, 2)))\n",
    "\n",
    "# Flatten the output for fully connected layers\n",
    "model.add(layers.Flatten())\n",
    "\n",
    "# Fully connected layers\n",
    "model.add(layers.Dense(64, activation='relu'))\n",
    "\n",
    "# Output layer\n",
    "model.add(layers.Dense(3, activation='softmax'))\n",
    "\n",
    "# Compile the model\n",
    "model.compile(optimizer='adam',\n",
    "              loss='sparse_categorical_crossentropy',\n",
    "              metrics=['accuracy'])\n",
    "\n",
    "# Train the model\n",
    "model.fit(X_train, y_train, epochs=10, batch_size=32, validation_split=0.1)\n",
    "\n",
    "# Evaluate the model on the test set\n",
    "test_loss, test_accuracy = model.evaluate(X_test, y_test)\n",
    "\n",
    "print(\"Test Accuracy:\", test_accuracy)\n"
   ]
  },
  {
   "cell_type": "markdown",
   "id": "3842537d",
   "metadata": {},
   "source": [
    "# Conclusion:\n",
    "\n",
    "1. Experiment 1:\n",
    "   - We trained a model for 30 rounds, trying to teach it how to recognize smiley images. During training, the model's accuracy on the training data improved and reached around 69.57%, meaning it got better at identifying smileys as it learned from more examples.\n",
    "   - However, when we checked how well it performs on new, unseen smiley images (validation data), the accuracy stayed around 68.75%. This indicates that the model didn't generalize well to new smileys it hasn't seen before.\n",
    "   - Finally, when we tested the model on a completely separate set of smiley images (test data), the accuracy was approximately 66.67%. This means the model correctly identified about 66.67% of the smileys in the test set.\n",
    "\n",
    "2. Experiment 2:\n",
    "   - In this experiment, we trained a different model for 10 rounds using a different optimization technique. Unfortunately, the model didn't perform well during training, achieving only around 36.23% accuracy on the training data.\n",
    "   - The validation accuracy was consistently low at 25.00%, which suggests that the model was not learning much from the training data.\n",
    "   - The test accuracy was also very low, approximately 28.21%, indicating that the model struggled to identify smileys in new, unseen images.\n",
    "\n",
    "3. Experiment  3:\n",
    "   - Similar to the previous experiment, we trained another model for 10 rounds, but this time we modified the model architecture to include more layers. However, the results were not very promising.\n",
    "   - The training accuracy was around 36.23%, but the validation accuracy remained low at 25.00%.\n",
    "   - The test accuracy was also approximately 28.21%, which indicates that this model also had difficulty recognizing smileys in new images.\n",
    "\n",
    "All three experiments didn't produce satisfactory results. The models struggled to learn from the data and failed to generalize well to new smiley images. This suggests that there may not have been enough diverse training data, or the model architectures and optimization techniques used were not suitable for the task.\n"
   ]
  },
  {
   "cell_type": "markdown",
   "id": "e89ad4d6",
   "metadata": {},
   "source": [
    "# Conclusion"
   ]
  },
  {
   "cell_type": "markdown",
   "id": "022231e4",
   "metadata": {},
   "source": [
    "In this Coursework, the dataset was thoroughly explored using a variety of techniques, including data visualization, Naive Bayes classification, clustering, and Decision Trees. Able to learn important things about the dataset through these tests, such as which features are essential for classification, how accurate clustering is, and how the Decision Trees model generalizes without overfitting.\n",
    "\n",
    "In order to make well-informed choices about data preprocessing, feature selection, and model tuning, we looked at a variety of methodologies and algorithms throughout the task. The performance and comprehension of the dataset were both greatly enhanced by this technique. Overall, the curriculum offered an in-depth training in the application of machine learning methods .\n",
    "\n"
   ]
  },
  {
   "cell_type": "code",
   "execution_count": null,
   "id": "e637e77a",
   "metadata": {},
   "outputs": [],
   "source": []
  }
 ],
 "metadata": {
  "kernelspec": {
   "display_name": "Python 3 (ipykernel)",
   "language": "python",
   "name": "python3"
  },
  "language_info": {
   "codemirror_mode": {
    "name": "ipython",
    "version": 3
   },
   "file_extension": ".py",
   "mimetype": "text/x-python",
   "name": "python",
   "nbconvert_exporter": "python",
   "pygments_lexer": "ipython3",
   "version": "3.9.13"
  }
 },
 "nbformat": 4,
 "nbformat_minor": 5
}
